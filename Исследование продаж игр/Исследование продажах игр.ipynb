{
 "cells": [
  {
   "cell_type": "markdown",
   "id": "35fb6bfa",
   "metadata": {},
   "source": [
    "# Исследование\n",
    "\n",
    "\n",
    "\n",
    "**Цель исследования** - определить потенциально популярный продукт и спланировать рекламные кампании."
   ]
  },
  {
   "cell_type": "markdown",
   "id": "36094c32",
   "metadata": {},
   "source": [
    "\n",
    "Доступны исторические данные о продажах игр, оценки пользователей и экспертов, жанры и платформы (например, Xbox или PlayStation). \n",
    "\n",
    "Нужно выявить определяющие успешность игры закономерности. Это позволит сделать ставку на потенциально популярный продукт и спланировать рекламные кампании.\n",
    "\n",
    "Данные до 2016 года. Считаем, что сейчас декабрь 2016 г., и необходимо спланировать кампанию на 2017-й."
   ]
  },
  {
   "cell_type": "markdown",
   "id": "d3e94c56",
   "metadata": {},
   "source": [
    "## Изучение данных из файла"
   ]
  },
  {
   "cell_type": "markdown",
   "id": "465206d4",
   "metadata": {},
   "source": [
    "**1.1 Описание данных**\n",
    "\n",
    "- `Name` — название игры\n",
    "- `Platform` — платформа\n",
    "- `Year_of_Release` — год выпуска\n",
    "- `Genre` — жанр игры\n",
    "- `NA_sales` — продажи в Северной Америке (миллионы проданных копий)\n",
    "- `EU_sales` — продажи в Европе (миллионы проданных копий)\n",
    "- `JP_sales` — продажи в Японии (миллионы проданных копий)\n",
    "- `Other_sales` — продажи в других странах (миллионы проданных копий)\n",
    "- `Critic_Score` — оценка критиков (максимум 100)\n",
    "- `User_Score` — оценка пользователей (максимум 10)\n",
    "- `Rating` — рейтинг от организации ESRB (англ. Entertainment Software Rating Board). Эта ассоциация определяет рейтинг компьютерных игр и присваивает им подходящую возрастную категорию.\n",
    "\n",
    "Данные за 2016 год могут быть неполными.\n"
   ]
  },
  {
   "cell_type": "markdown",
   "id": "eaf9e717",
   "metadata": {},
   "source": [
    "Выгрузим данные таблицы в следующий датафрейм:"
   ]
  },
  {
   "cell_type": "markdown",
   "id": "9f7c08d6",
   "metadata": {},
   "source": [
    "data - games.csv"
   ]
  },
  {
   "cell_type": "code",
   "execution_count": 1,
   "id": "86016f6c",
   "metadata": {},
   "outputs": [],
   "source": [
    "# Импорт необходимых библиотек\n",
    "import os\n",
    "import pandas as pd\n",
    "import numpy as np\n",
    "from scipy import stats as st\n",
    "import seaborn as sns\n",
    "import matplotlib.pyplot as plt\n",
    "import warnings"
   ]
  },
  {
   "cell_type": "code",
   "execution_count": 2,
   "id": "4c13d0cf",
   "metadata": {},
   "outputs": [
    {
     "name": "stdout",
     "output_type": "stream",
     "text": [
      "Успешное чтение файлов\n"
     ]
    }
   ],
   "source": [
    "# Загрузка файла данных\n",
    "#data_path_local = 'C:/Users/Maroznik/Documents/dev/Яндекс.Практикум/projects/data/project_3/real_estate_data.csv'\n",
    "'''\n",
    "data_path_local_1 = 'C:/Users/Asus3/Documents/Яндекс.Практикум/projects/data/project_5/gemes.csv\n",
    "'''\n",
    "#данные локально\n",
    "'''\n",
    "data_path_local = 'C:/Users/ruleva_ad/Desktop/projects/data/project_5/games.csv'\n",
    "\n",
    "'''\n",
    "data_path_local = 'C:/Users/Maroznik/Documents/dev/Яндекс.Практикум/projects/data/project_5/games.csv'\n",
    "\n",
    "#данные на сервере\n",
    "data_path_server = '/datasets/games.csv'\n",
    "\n",
    "#чтение из файла \n",
    "#if os.path.exists(data_path_local):\n",
    "   # data = pd.read_csv(data_path_local, sep=',')\n",
    "    \n",
    "if os.path.exists(data_path_local):\n",
    "    data = pd.read_csv(data_path_local, sep=',')\n",
    "    print('Успешное чтение файлов')\n",
    "elif os.path.exists(data_path_server):\n",
    "    data = pd.read_csv(data_path_server, sep=',')\n",
    "else:\n",
    "    print('Путь к файлу не найден')"
   ]
  },
  {
   "cell_type": "code",
   "execution_count": 3,
   "id": "cf025184",
   "metadata": {},
   "outputs": [],
   "source": [
    "pd.set_option('display.max_columns', None)"
   ]
  },
  {
   "cell_type": "markdown",
   "id": "d754a99a",
   "metadata": {},
   "source": [
    "### 1. Информация об играх:"
   ]
  },
  {
   "cell_type": "code",
   "execution_count": 4,
   "id": "1d082b45",
   "metadata": {},
   "outputs": [
    {
     "data": {
      "text/html": [
       "<div>\n",
       "<style scoped>\n",
       "    .dataframe tbody tr th:only-of-type {\n",
       "        vertical-align: middle;\n",
       "    }\n",
       "\n",
       "    .dataframe tbody tr th {\n",
       "        vertical-align: top;\n",
       "    }\n",
       "\n",
       "    .dataframe thead th {\n",
       "        text-align: right;\n",
       "    }\n",
       "</style>\n",
       "<table border=\"1\" class=\"dataframe\">\n",
       "  <thead>\n",
       "    <tr style=\"text-align: right;\">\n",
       "      <th></th>\n",
       "      <th>Name</th>\n",
       "      <th>Platform</th>\n",
       "      <th>Year_of_Release</th>\n",
       "      <th>Genre</th>\n",
       "      <th>NA_sales</th>\n",
       "      <th>EU_sales</th>\n",
       "      <th>JP_sales</th>\n",
       "      <th>Other_sales</th>\n",
       "      <th>Critic_Score</th>\n",
       "      <th>User_Score</th>\n",
       "      <th>Rating</th>\n",
       "    </tr>\n",
       "  </thead>\n",
       "  <tbody>\n",
       "    <tr>\n",
       "      <th>0</th>\n",
       "      <td>Wii Sports</td>\n",
       "      <td>Wii</td>\n",
       "      <td>2006.0</td>\n",
       "      <td>Sports</td>\n",
       "      <td>41.36</td>\n",
       "      <td>28.96</td>\n",
       "      <td>3.77</td>\n",
       "      <td>8.45</td>\n",
       "      <td>76.0</td>\n",
       "      <td>8</td>\n",
       "      <td>E</td>\n",
       "    </tr>\n",
       "    <tr>\n",
       "      <th>1</th>\n",
       "      <td>Super Mario Bros.</td>\n",
       "      <td>NES</td>\n",
       "      <td>1985.0</td>\n",
       "      <td>Platform</td>\n",
       "      <td>29.08</td>\n",
       "      <td>3.58</td>\n",
       "      <td>6.81</td>\n",
       "      <td>0.77</td>\n",
       "      <td>NaN</td>\n",
       "      <td>NaN</td>\n",
       "      <td>NaN</td>\n",
       "    </tr>\n",
       "    <tr>\n",
       "      <th>2</th>\n",
       "      <td>Mario Kart Wii</td>\n",
       "      <td>Wii</td>\n",
       "      <td>2008.0</td>\n",
       "      <td>Racing</td>\n",
       "      <td>15.68</td>\n",
       "      <td>12.76</td>\n",
       "      <td>3.79</td>\n",
       "      <td>3.29</td>\n",
       "      <td>82.0</td>\n",
       "      <td>8.3</td>\n",
       "      <td>E</td>\n",
       "    </tr>\n",
       "    <tr>\n",
       "      <th>3</th>\n",
       "      <td>Wii Sports Resort</td>\n",
       "      <td>Wii</td>\n",
       "      <td>2009.0</td>\n",
       "      <td>Sports</td>\n",
       "      <td>15.61</td>\n",
       "      <td>10.93</td>\n",
       "      <td>3.28</td>\n",
       "      <td>2.95</td>\n",
       "      <td>80.0</td>\n",
       "      <td>8</td>\n",
       "      <td>E</td>\n",
       "    </tr>\n",
       "    <tr>\n",
       "      <th>4</th>\n",
       "      <td>Pokemon Red/Pokemon Blue</td>\n",
       "      <td>GB</td>\n",
       "      <td>1996.0</td>\n",
       "      <td>Role-Playing</td>\n",
       "      <td>11.27</td>\n",
       "      <td>8.89</td>\n",
       "      <td>10.22</td>\n",
       "      <td>1.00</td>\n",
       "      <td>NaN</td>\n",
       "      <td>NaN</td>\n",
       "      <td>NaN</td>\n",
       "    </tr>\n",
       "    <tr>\n",
       "      <th>...</th>\n",
       "      <td>...</td>\n",
       "      <td>...</td>\n",
       "      <td>...</td>\n",
       "      <td>...</td>\n",
       "      <td>...</td>\n",
       "      <td>...</td>\n",
       "      <td>...</td>\n",
       "      <td>...</td>\n",
       "      <td>...</td>\n",
       "      <td>...</td>\n",
       "      <td>...</td>\n",
       "    </tr>\n",
       "    <tr>\n",
       "      <th>16710</th>\n",
       "      <td>Samurai Warriors: Sanada Maru</td>\n",
       "      <td>PS3</td>\n",
       "      <td>2016.0</td>\n",
       "      <td>Action</td>\n",
       "      <td>0.00</td>\n",
       "      <td>0.00</td>\n",
       "      <td>0.01</td>\n",
       "      <td>0.00</td>\n",
       "      <td>NaN</td>\n",
       "      <td>NaN</td>\n",
       "      <td>NaN</td>\n",
       "    </tr>\n",
       "    <tr>\n",
       "      <th>16711</th>\n",
       "      <td>LMA Manager 2007</td>\n",
       "      <td>X360</td>\n",
       "      <td>2006.0</td>\n",
       "      <td>Sports</td>\n",
       "      <td>0.00</td>\n",
       "      <td>0.01</td>\n",
       "      <td>0.00</td>\n",
       "      <td>0.00</td>\n",
       "      <td>NaN</td>\n",
       "      <td>NaN</td>\n",
       "      <td>NaN</td>\n",
       "    </tr>\n",
       "    <tr>\n",
       "      <th>16712</th>\n",
       "      <td>Haitaka no Psychedelica</td>\n",
       "      <td>PSV</td>\n",
       "      <td>2016.0</td>\n",
       "      <td>Adventure</td>\n",
       "      <td>0.00</td>\n",
       "      <td>0.00</td>\n",
       "      <td>0.01</td>\n",
       "      <td>0.00</td>\n",
       "      <td>NaN</td>\n",
       "      <td>NaN</td>\n",
       "      <td>NaN</td>\n",
       "    </tr>\n",
       "    <tr>\n",
       "      <th>16713</th>\n",
       "      <td>Spirits &amp; Spells</td>\n",
       "      <td>GBA</td>\n",
       "      <td>2003.0</td>\n",
       "      <td>Platform</td>\n",
       "      <td>0.01</td>\n",
       "      <td>0.00</td>\n",
       "      <td>0.00</td>\n",
       "      <td>0.00</td>\n",
       "      <td>NaN</td>\n",
       "      <td>NaN</td>\n",
       "      <td>NaN</td>\n",
       "    </tr>\n",
       "    <tr>\n",
       "      <th>16714</th>\n",
       "      <td>Winning Post 8 2016</td>\n",
       "      <td>PSV</td>\n",
       "      <td>2016.0</td>\n",
       "      <td>Simulation</td>\n",
       "      <td>0.00</td>\n",
       "      <td>0.00</td>\n",
       "      <td>0.01</td>\n",
       "      <td>0.00</td>\n",
       "      <td>NaN</td>\n",
       "      <td>NaN</td>\n",
       "      <td>NaN</td>\n",
       "    </tr>\n",
       "  </tbody>\n",
       "</table>\n",
       "<p>16715 rows × 11 columns</p>\n",
       "</div>"
      ],
      "text/plain": [
       "                                Name Platform  Year_of_Release         Genre  \\\n",
       "0                         Wii Sports      Wii           2006.0        Sports   \n",
       "1                  Super Mario Bros.      NES           1985.0      Platform   \n",
       "2                     Mario Kart Wii      Wii           2008.0        Racing   \n",
       "3                  Wii Sports Resort      Wii           2009.0        Sports   \n",
       "4           Pokemon Red/Pokemon Blue       GB           1996.0  Role-Playing   \n",
       "...                              ...      ...              ...           ...   \n",
       "16710  Samurai Warriors: Sanada Maru      PS3           2016.0        Action   \n",
       "16711               LMA Manager 2007     X360           2006.0        Sports   \n",
       "16712        Haitaka no Psychedelica      PSV           2016.0     Adventure   \n",
       "16713               Spirits & Spells      GBA           2003.0      Platform   \n",
       "16714            Winning Post 8 2016      PSV           2016.0    Simulation   \n",
       "\n",
       "       NA_sales  EU_sales  JP_sales  Other_sales  Critic_Score User_Score  \\\n",
       "0         41.36     28.96      3.77         8.45          76.0          8   \n",
       "1         29.08      3.58      6.81         0.77           NaN        NaN   \n",
       "2         15.68     12.76      3.79         3.29          82.0        8.3   \n",
       "3         15.61     10.93      3.28         2.95          80.0          8   \n",
       "4         11.27      8.89     10.22         1.00           NaN        NaN   \n",
       "...         ...       ...       ...          ...           ...        ...   \n",
       "16710      0.00      0.00      0.01         0.00           NaN        NaN   \n",
       "16711      0.00      0.01      0.00         0.00           NaN        NaN   \n",
       "16712      0.00      0.00      0.01         0.00           NaN        NaN   \n",
       "16713      0.01      0.00      0.00         0.00           NaN        NaN   \n",
       "16714      0.00      0.00      0.01         0.00           NaN        NaN   \n",
       "\n",
       "      Rating  \n",
       "0          E  \n",
       "1        NaN  \n",
       "2          E  \n",
       "3          E  \n",
       "4        NaN  \n",
       "...      ...  \n",
       "16710    NaN  \n",
       "16711    NaN  \n",
       "16712    NaN  \n",
       "16713    NaN  \n",
       "16714    NaN  \n",
       "\n",
       "[16715 rows x 11 columns]"
      ]
     },
     "execution_count": 4,
     "metadata": {},
     "output_type": "execute_result"
    }
   ],
   "source": [
    "data"
   ]
  },
  {
   "cell_type": "code",
   "execution_count": 5,
   "id": "3320d588",
   "metadata": {},
   "outputs": [
    {
     "name": "stdout",
     "output_type": "stream",
     "text": [
      "<class 'pandas.core.frame.DataFrame'>\n",
      "RangeIndex: 16715 entries, 0 to 16714\n",
      "Data columns (total 11 columns):\n",
      " #   Column           Non-Null Count  Dtype  \n",
      "---  ------           --------------  -----  \n",
      " 0   Name             16713 non-null  object \n",
      " 1   Platform         16715 non-null  object \n",
      " 2   Year_of_Release  16446 non-null  float64\n",
      " 3   Genre            16713 non-null  object \n",
      " 4   NA_sales         16715 non-null  float64\n",
      " 5   EU_sales         16715 non-null  float64\n",
      " 6   JP_sales         16715 non-null  float64\n",
      " 7   Other_sales      16715 non-null  float64\n",
      " 8   Critic_Score     8137 non-null   float64\n",
      " 9   User_Score       10014 non-null  object \n",
      " 10  Rating           9949 non-null   object \n",
      "dtypes: float64(6), object(5)\n",
      "memory usage: 1.4+ MB\n"
     ]
    }
   ],
   "source": [
    "data.info()"
   ]
  },
  {
   "cell_type": "markdown",
   "id": "fbda496c",
   "metadata": {},
   "source": [
    "### Вывод\n",
    "\n",
    "При первичном изучении датафрейма обнаружены следующие недостатки, которые необходимо устранить:\n",
    "1. Записать названия столбцов по правилам змеиного регистра;\n",
    "2. Найти возможные артефакты в столбцах и избавиться от них;\n",
    "3. Избавиться от пропусков в столбцах ;\n",
    "4. Преобразовать типы;\n",
    "5. Проверить на наличие дубликатов и удалить их, если они обнаружатся."
   ]
  },
  {
   "cell_type": "markdown",
   "id": "fa13a96b",
   "metadata": {},
   "source": [
    "## 1. Предобработка данных"
   ]
  },
  {
   "cell_type": "markdown",
   "id": "4354f246",
   "metadata": {},
   "source": [
    "### 1.1 Переименование столбцов\n",
    "\n",
    "Запишем названия всех столбцов по правилам змеиного регистра. Для этого достаточно привести их к нижнему регистру:"
   ]
  },
  {
   "cell_type": "code",
   "execution_count": 6,
   "id": "7e4a6f6d",
   "metadata": {},
   "outputs": [
    {
     "name": "stdout",
     "output_type": "stream",
     "text": [
      "<class 'pandas.core.frame.DataFrame'>\n",
      "RangeIndex: 16715 entries, 0 to 16714\n",
      "Data columns (total 11 columns):\n",
      " #   Column           Non-Null Count  Dtype  \n",
      "---  ------           --------------  -----  \n",
      " 0   name             16713 non-null  object \n",
      " 1   platform         16715 non-null  object \n",
      " 2   year_of_release  16446 non-null  float64\n",
      " 3   genre            16713 non-null  object \n",
      " 4   na_sales         16715 non-null  float64\n",
      " 5   eu_sales         16715 non-null  float64\n",
      " 6   jp_sales         16715 non-null  float64\n",
      " 7   other_sales      16715 non-null  float64\n",
      " 8   critic_score     8137 non-null   float64\n",
      " 9   user_score       10014 non-null  object \n",
      " 10  rating           9949 non-null   object \n",
      "dtypes: float64(6), object(5)\n",
      "memory usage: 1.4+ MB\n"
     ]
    }
   ],
   "source": [
    "data.columns = data.columns.str.lower()\n",
    "data.info()"
   ]
  },
  {
   "cell_type": "markdown",
   "id": "f474708d",
   "metadata": {},
   "source": [
    "**Вывод**\n",
    "\n",
    "Проблема с названиями столбцов устранена."
   ]
  },
  {
   "cell_type": "markdown",
   "id": "47e3bac4",
   "metadata": {},
   "source": [
    "###  1.2 Поиск артефактов\n",
    "\n",
    "#### 1.2.1. Столбец `name`. \n",
    "Поскольку название игры может быть любым, то артефакты, даже если они существуют, найти не представляется возможным:"
   ]
  },
  {
   "cell_type": "code",
   "execution_count": 7,
   "id": "fab443cc",
   "metadata": {},
   "outputs": [
    {
     "name": "stdout",
     "output_type": "stream",
     "text": [
      "Множество значений в столбце \"name\" :\n",
      " ['Wii Sports' 'Super Mario Bros.' 'Mario Kart Wii' ...\n",
      " 'Woody Woodpecker in Crazy Castle 5' 'LMA Manager 2007'\n",
      " 'Haitaka no Psychedelica']\n"
     ]
    }
   ],
   "source": [
    "print('Множество значений в столбце \"name\" :\\n', data['name'].unique())"
   ]
  },
  {
   "cell_type": "markdown",
   "id": "79fc1cc8",
   "metadata": {},
   "source": [
    "#### 1.2.2. Столбец `platform`:"
   ]
  },
  {
   "cell_type": "code",
   "execution_count": 8,
   "id": "0af11f9b",
   "metadata": {},
   "outputs": [
    {
     "name": "stdout",
     "output_type": "stream",
     "text": [
      "Множество значений в столбце \"platform\" :\n",
      " ['Wii' 'NES' 'GB' 'DS' 'X360' 'PS3' 'PS2' 'SNES' 'GBA' 'PS4' '3DS' 'N64'\n",
      " 'PS' 'XB' 'PC' '2600' 'PSP' 'XOne' 'WiiU' 'GC' 'GEN' 'DC' 'PSV' 'SAT'\n",
      " 'SCD' 'WS' 'NG' 'TG16' '3DO' 'GG' 'PCFX']\n"
     ]
    }
   ],
   "source": [
    "print('Множество значений в столбце \"platform\" :\\n', data['platform'].unique())"
   ]
  },
  {
   "cell_type": "markdown",
   "id": "e1d77fa9",
   "metadata": {},
   "source": [
    "Аномальных значений не обнаружено."
   ]
  },
  {
   "cell_type": "markdown",
   "id": "054756ab",
   "metadata": {},
   "source": [
    "#### 1.2.3. Столбец `year_of_release`:"
   ]
  },
  {
   "cell_type": "code",
   "execution_count": 9,
   "id": "ba325e3e",
   "metadata": {},
   "outputs": [
    {
     "name": "stdout",
     "output_type": "stream",
     "text": [
      "Множество значений в столбце \"year_of_release\" :\n",
      " [2006. 1985. 2008. 2009. 1996. 1989. 1984. 2005. 1999. 2007. 2010. 2013.\n",
      " 2004. 1990. 1988. 2002. 2001. 2011. 1998. 2015. 2012. 2014. 1992. 1997.\n",
      " 1993. 1994. 1982. 2016. 2003. 1986. 2000.   nan 1995. 1991. 1981. 1987.\n",
      " 1980. 1983.]\n"
     ]
    }
   ],
   "source": [
    "print('Множество значений в столбце \"year_of_release\" :\\n', data['year_of_release'].unique())"
   ]
  },
  {
   "cell_type": "markdown",
   "id": "e653300c",
   "metadata": {},
   "source": [
    "Аномальных значений не обнаружено."
   ]
  },
  {
   "cell_type": "markdown",
   "id": "17c62bdf",
   "metadata": {},
   "source": [
    "#### 1.2.4. Столбец `genre`:"
   ]
  },
  {
   "cell_type": "code",
   "execution_count": 10,
   "id": "5729eaf5",
   "metadata": {},
   "outputs": [
    {
     "name": "stdout",
     "output_type": "stream",
     "text": [
      "Множество значений в столбце \"genre\" :\n",
      " ['Sports' 'Platform' 'Racing' 'Role-Playing' 'Puzzle' 'Misc' 'Shooter'\n",
      " 'Simulation' 'Action' 'Fighting' 'Adventure' 'Strategy' nan]\n"
     ]
    }
   ],
   "source": [
    "print('Множество значений в столбце \"genre\" :\\n', data['genre'].unique())"
   ]
  },
  {
   "cell_type": "markdown",
   "id": "5583054c",
   "metadata": {},
   "source": [
    "Аномальных значений не обнаружено."
   ]
  },
  {
   "cell_type": "markdown",
   "id": "fd648027",
   "metadata": {},
   "source": [
    "#### 1.2.5. Столбец `na_sales`:"
   ]
  },
  {
   "cell_type": "code",
   "execution_count": 11,
   "id": "4dc47549",
   "metadata": {},
   "outputs": [
    {
     "name": "stdout",
     "output_type": "stream",
     "text": [
      "Минимальное значение в столбце \"na_sales\" = 0.0\n",
      "Максимальное значение в столбце \"na_sales\" = 41.36\n"
     ]
    }
   ],
   "source": [
    "print('Минимальное значение в столбце \"na_sales\" =', data['na_sales'].min())\n",
    "print('Максимальное значение в столбце \"na_sales\" =', data['na_sales'].max())"
   ]
  },
  {
   "cell_type": "markdown",
   "id": "c836ed17",
   "metadata": {},
   "source": [
    "Аномальных значений не обнаружено."
   ]
  },
  {
   "cell_type": "markdown",
   "id": "b0ffeaaa",
   "metadata": {},
   "source": [
    "#### 1.2.6. Столбец `eu_sales`:"
   ]
  },
  {
   "cell_type": "code",
   "execution_count": 12,
   "id": "d9395c2f",
   "metadata": {},
   "outputs": [
    {
     "name": "stdout",
     "output_type": "stream",
     "text": [
      "Минимальное значение в столбце \"eu_sales\" = 0.0\n",
      "Максимальное значение в столбце \"eu_sales\" = 28.96\n"
     ]
    }
   ],
   "source": [
    "print('Минимальное значение в столбце \"eu_sales\" =', data['eu_sales'].min())\n",
    "print('Максимальное значение в столбце \"eu_sales\" =', data['eu_sales'].max())"
   ]
  },
  {
   "cell_type": "markdown",
   "id": "df40f1f3",
   "metadata": {},
   "source": [
    "Аномальных значений не обнаружено."
   ]
  },
  {
   "cell_type": "markdown",
   "id": "5f208017",
   "metadata": {},
   "source": [
    "#### 1.2.7. Столбец `jp_sales`:"
   ]
  },
  {
   "cell_type": "code",
   "execution_count": 13,
   "id": "3b0cd845",
   "metadata": {},
   "outputs": [
    {
     "name": "stdout",
     "output_type": "stream",
     "text": [
      "Минимальное значение в столбце \"jp_sales\" = 0.0\n",
      "Максимальное значение в столбце \"jp_sales\" = 10.22\n"
     ]
    }
   ],
   "source": [
    "print('Минимальное значение в столбце \"jp_sales\" =', data['jp_sales'].min())\n",
    "print('Максимальное значение в столбце \"jp_sales\" =', data['jp_sales'].max())"
   ]
  },
  {
   "cell_type": "markdown",
   "id": "38725a36",
   "metadata": {},
   "source": [
    "Аномальных значений не обнаружено."
   ]
  },
  {
   "cell_type": "markdown",
   "id": "2b3683ff",
   "metadata": {},
   "source": [
    "#### 1.2.8. Столбец `other_sales`:"
   ]
  },
  {
   "cell_type": "code",
   "execution_count": 14,
   "id": "69620cf6",
   "metadata": {},
   "outputs": [
    {
     "name": "stdout",
     "output_type": "stream",
     "text": [
      "Минимальное значение в столбце \"other_sales\" = 0.0\n",
      "Максимальное значение в столбце \"other_sales\" = 10.57\n"
     ]
    }
   ],
   "source": [
    "print('Минимальное значение в столбце \"other_sales\" =', data['other_sales'].min())\n",
    "print('Максимальное значение в столбце \"other_sales\" =', data['other_sales'].max())"
   ]
  },
  {
   "cell_type": "markdown",
   "id": "fd2ddf01",
   "metadata": {},
   "source": [
    "Аномальных значений не обнаружено."
   ]
  },
  {
   "cell_type": "markdown",
   "id": "e27fe476",
   "metadata": {},
   "source": [
    "#### 1.2.9. Столбец `critic_score`:"
   ]
  },
  {
   "cell_type": "code",
   "execution_count": 15,
   "id": "a5eb309c",
   "metadata": {},
   "outputs": [
    {
     "name": "stdout",
     "output_type": "stream",
     "text": [
      "Минимальное значение в столбце \"critic_score\" = 13.0\n",
      "Максимальное значение в столбце \"critic_score\" = 98.0\n"
     ]
    }
   ],
   "source": [
    "print('Минимальное значение в столбце \"critic_score\" =', data['critic_score'].min())\n",
    "print('Максимальное значение в столбце \"critic_score\" =', data['critic_score'].max())"
   ]
  },
  {
   "cell_type": "markdown",
   "id": "79d37f2f",
   "metadata": {},
   "source": [
    "Аномальных значений не обнаружено."
   ]
  },
  {
   "cell_type": "markdown",
   "id": "2de753aa",
   "metadata": {},
   "source": [
    "#### 1.2.10. Столбец `user_score`:"
   ]
  },
  {
   "cell_type": "code",
   "execution_count": 16,
   "id": "91c31593",
   "metadata": {},
   "outputs": [
    {
     "name": "stdout",
     "output_type": "stream",
     "text": [
      "Множество значений в столбце \"user_score\" :\n",
      " ['8' nan '8.3' '8.5' '6.6' '8.4' '8.6' '7.7' '6.3' '7.4' '8.2' '9' '7.9'\n",
      " '8.1' '8.7' '7.1' '3.4' '5.3' '4.8' '3.2' '8.9' '6.4' '7.8' '7.5' '2.6'\n",
      " '7.2' '9.2' '7' '7.3' '4.3' '7.6' '5.7' '5' '9.1' '6.5' 'tbd' '8.8' '6.9'\n",
      " '9.4' '6.8' '6.1' '6.7' '5.4' '4' '4.9' '4.5' '9.3' '6.2' '4.2' '6' '3.7'\n",
      " '4.1' '5.8' '5.6' '5.5' '4.4' '4.6' '5.9' '3.9' '3.1' '2.9' '5.2' '3.3'\n",
      " '4.7' '5.1' '3.5' '2.5' '1.9' '3' '2.7' '2.2' '2' '9.5' '2.1' '3.6' '2.8'\n",
      " '1.8' '3.8' '0' '1.6' '9.6' '2.4' '1.7' '1.1' '0.3' '1.5' '0.7' '1.2'\n",
      " '2.3' '0.5' '1.3' '0.2' '0.6' '1.4' '0.9' '1' '9.7']\n"
     ]
    }
   ],
   "source": [
    "print('Множество значений в столбце \"user_score\" :\\n', data['user_score'].unique())"
   ]
  },
  {
   "cell_type": "markdown",
   "id": "2bfaeecf",
   "metadata": {},
   "source": [
    "Аномальным является значение `tbd`. Это аббревиатура от 'to be determined'- будет определено, то есть один из вариантов обозначения пропуска, поэтому будем заментяь эти значения также, как и заполнять пропуски."
   ]
  },
  {
   "cell_type": "markdown",
   "id": "1646e9d6",
   "metadata": {},
   "source": [
    "Заменим эти значения пропусками - nan."
   ]
  },
  {
   "cell_type": "code",
   "execution_count": 17,
   "id": "cd6688a7",
   "metadata": {},
   "outputs": [
    {
     "name": "stdout",
     "output_type": "stream",
     "text": [
      "<class 'pandas.core.frame.DataFrame'>\n",
      "RangeIndex: 16715 entries, 0 to 16714\n",
      "Data columns (total 11 columns):\n",
      " #   Column           Non-Null Count  Dtype  \n",
      "---  ------           --------------  -----  \n",
      " 0   name             16713 non-null  object \n",
      " 1   platform         16715 non-null  object \n",
      " 2   year_of_release  16446 non-null  float64\n",
      " 3   genre            16713 non-null  object \n",
      " 4   na_sales         16715 non-null  float64\n",
      " 5   eu_sales         16715 non-null  float64\n",
      " 6   jp_sales         16715 non-null  float64\n",
      " 7   other_sales      16715 non-null  float64\n",
      " 8   critic_score     8137 non-null   float64\n",
      " 9   user_score       7590 non-null   object \n",
      " 10  rating           9949 non-null   object \n",
      "dtypes: float64(6), object(5)\n",
      "memory usage: 1.4+ MB\n"
     ]
    },
    {
     "data": {
      "text/html": [
       "<div>\n",
       "<style scoped>\n",
       "    .dataframe tbody tr th:only-of-type {\n",
       "        vertical-align: middle;\n",
       "    }\n",
       "\n",
       "    .dataframe tbody tr th {\n",
       "        vertical-align: top;\n",
       "    }\n",
       "\n",
       "    .dataframe thead th {\n",
       "        text-align: right;\n",
       "    }\n",
       "</style>\n",
       "<table border=\"1\" class=\"dataframe\">\n",
       "  <thead>\n",
       "    <tr style=\"text-align: right;\">\n",
       "      <th></th>\n",
       "      <th>name</th>\n",
       "      <th>platform</th>\n",
       "      <th>year_of_release</th>\n",
       "      <th>genre</th>\n",
       "      <th>na_sales</th>\n",
       "      <th>eu_sales</th>\n",
       "      <th>jp_sales</th>\n",
       "      <th>other_sales</th>\n",
       "      <th>critic_score</th>\n",
       "      <th>user_score</th>\n",
       "      <th>rating</th>\n",
       "    </tr>\n",
       "  </thead>\n",
       "  <tbody>\n",
       "  </tbody>\n",
       "</table>\n",
       "</div>"
      ],
      "text/plain": [
       "Empty DataFrame\n",
       "Columns: [name, platform, year_of_release, genre, na_sales, eu_sales, jp_sales, other_sales, critic_score, user_score, rating]\n",
       "Index: []"
      ]
     },
     "execution_count": 17,
     "metadata": {},
     "output_type": "execute_result"
    }
   ],
   "source": [
    "data.loc[(data.user_score == 'tbd'), 'user_score'] = np.nan\n",
    "data.info()\n",
    "data.query('user_score == \"tbd\"').head()"
   ]
  },
  {
   "cell_type": "markdown",
   "id": "50f2ba0a",
   "metadata": {},
   "source": [
    "#### 1.2.11. Столбец `rating`:"
   ]
  },
  {
   "cell_type": "code",
   "execution_count": 18,
   "id": "9357600b",
   "metadata": {},
   "outputs": [
    {
     "name": "stdout",
     "output_type": "stream",
     "text": [
      "Множество значений в столбце \"rating\" :\n",
      " ['E' nan 'M' 'T' 'E10+' 'K-A' 'AO' 'EC' 'RP']\n"
     ]
    }
   ],
   "source": [
    "print('Множество значений в столбце \"rating\" :\\n', data['rating'].unique())"
   ]
  },
  {
   "cell_type": "markdown",
   "id": "dcda3789",
   "metadata": {},
   "source": [
    "Аномальных значений не обнаружено, но есть неявный дубликат: 'E' (\"Everyone\", 1998-н.в.) и 'K-A' (\"Kids to Adults\", 1994-1997 гг.)- обозначение возрастной категории 6+. Заменим устаревшее значение на современное:"
   ]
  },
  {
   "cell_type": "code",
   "execution_count": 19,
   "id": "28b201a5",
   "metadata": {},
   "outputs": [
    {
     "name": "stdout",
     "output_type": "stream",
     "text": [
      "Множество значений в столбце \"rating\" :\n",
      " ['E' nan 'M' 'T' 'E10+' 'AO' 'EC' 'RP']\n"
     ]
    }
   ],
   "source": [
    "data.loc[(data.rating == 'K-A'), 'rating'] = 'E'\n",
    "print('Множество значений в столбце \"rating\" :\\n', data['rating'].unique())"
   ]
  },
  {
   "cell_type": "markdown",
   "id": "7324dfce",
   "metadata": {},
   "source": [
    "Проблема устранена."
   ]
  },
  {
   "cell_type": "markdown",
   "id": "3623314e",
   "metadata": {},
   "source": [
    "**Вывод**\n",
    "\n",
    "Артефакты были найдены и устранены в столбцах `user_score` и `rating`"
   ]
  },
  {
   "cell_type": "markdown",
   "id": "8471a49c",
   "metadata": {},
   "source": [
    "### 1.3 Заполнение пропусков"
   ]
  },
  {
   "cell_type": "markdown",
   "id": "1459cd4c",
   "metadata": {},
   "source": [
    "#### 1.3.1. Столбец `name`."
   ]
  },
  {
   "cell_type": "code",
   "execution_count": 20,
   "id": "f4d7f6c0",
   "metadata": {},
   "outputs": [
    {
     "data": {
      "text/html": [
       "<div>\n",
       "<style scoped>\n",
       "    .dataframe tbody tr th:only-of-type {\n",
       "        vertical-align: middle;\n",
       "    }\n",
       "\n",
       "    .dataframe tbody tr th {\n",
       "        vertical-align: top;\n",
       "    }\n",
       "\n",
       "    .dataframe thead th {\n",
       "        text-align: right;\n",
       "    }\n",
       "</style>\n",
       "<table border=\"1\" class=\"dataframe\">\n",
       "  <thead>\n",
       "    <tr style=\"text-align: right;\">\n",
       "      <th></th>\n",
       "      <th>name</th>\n",
       "      <th>platform</th>\n",
       "      <th>year_of_release</th>\n",
       "      <th>genre</th>\n",
       "      <th>na_sales</th>\n",
       "      <th>eu_sales</th>\n",
       "      <th>jp_sales</th>\n",
       "      <th>other_sales</th>\n",
       "      <th>critic_score</th>\n",
       "      <th>user_score</th>\n",
       "      <th>rating</th>\n",
       "    </tr>\n",
       "  </thead>\n",
       "  <tbody>\n",
       "    <tr>\n",
       "      <th>659</th>\n",
       "      <td>NaN</td>\n",
       "      <td>GEN</td>\n",
       "      <td>1993.0</td>\n",
       "      <td>NaN</td>\n",
       "      <td>1.78</td>\n",
       "      <td>0.53</td>\n",
       "      <td>0.00</td>\n",
       "      <td>0.08</td>\n",
       "      <td>NaN</td>\n",
       "      <td>NaN</td>\n",
       "      <td>NaN</td>\n",
       "    </tr>\n",
       "    <tr>\n",
       "      <th>14244</th>\n",
       "      <td>NaN</td>\n",
       "      <td>GEN</td>\n",
       "      <td>1993.0</td>\n",
       "      <td>NaN</td>\n",
       "      <td>0.00</td>\n",
       "      <td>0.00</td>\n",
       "      <td>0.03</td>\n",
       "      <td>0.00</td>\n",
       "      <td>NaN</td>\n",
       "      <td>NaN</td>\n",
       "      <td>NaN</td>\n",
       "    </tr>\n",
       "  </tbody>\n",
       "</table>\n",
       "</div>"
      ],
      "text/plain": [
       "      name platform  year_of_release genre  na_sales  eu_sales  jp_sales  \\\n",
       "659    NaN      GEN           1993.0   NaN      1.78      0.53      0.00   \n",
       "14244  NaN      GEN           1993.0   NaN      0.00      0.00      0.03   \n",
       "\n",
       "       other_sales  critic_score user_score rating  \n",
       "659           0.08           NaN        NaN    NaN  \n",
       "14244         0.00           NaN        NaN    NaN  "
      ]
     },
     "execution_count": 20,
     "metadata": {},
     "output_type": "execute_result"
    }
   ],
   "source": [
    "data[data['name'].isna() > 0]"
   ]
  },
  {
   "cell_type": "markdown",
   "id": "1fd1a17b",
   "metadata": {},
   "source": [
    "Таких строк всего две, при этом практически все данные об этих играх отсутствуют, и корректно заполнить все пропуски не представляется возможным. Поэтому удалим эти данные из рассмотрения."
   ]
  },
  {
   "cell_type": "code",
   "execution_count": 21,
   "id": "a21ddffb",
   "metadata": {},
   "outputs": [
    {
     "name": "stdout",
     "output_type": "stream",
     "text": [
      "<class 'pandas.core.frame.DataFrame'>\n",
      "Int64Index: 16713 entries, 0 to 16714\n",
      "Data columns (total 11 columns):\n",
      " #   Column           Non-Null Count  Dtype  \n",
      "---  ------           --------------  -----  \n",
      " 0   name             16713 non-null  object \n",
      " 1   platform         16713 non-null  object \n",
      " 2   year_of_release  16444 non-null  float64\n",
      " 3   genre            16713 non-null  object \n",
      " 4   na_sales         16713 non-null  float64\n",
      " 5   eu_sales         16713 non-null  float64\n",
      " 6   jp_sales         16713 non-null  float64\n",
      " 7   other_sales      16713 non-null  float64\n",
      " 8   critic_score     8137 non-null   float64\n",
      " 9   user_score       7590 non-null   object \n",
      " 10  rating           9949 non-null   object \n",
      "dtypes: float64(6), object(5)\n",
      "memory usage: 1.5+ MB\n"
     ]
    }
   ],
   "source": [
    "data = data.dropna(subset=['name'])\n",
    "data.info()"
   ]
  },
  {
   "cell_type": "markdown",
   "id": "479f4802",
   "metadata": {},
   "source": [
    "#### 1.3.2. Столбец `year_of_release`.\n",
    "\n",
    "Заполним медианой по столбцу:"
   ]
  },
  {
   "cell_type": "code",
   "execution_count": 22,
   "id": "53557527",
   "metadata": {},
   "outputs": [],
   "source": [
    "warnings.filterwarnings('ignore')\n",
    "\n",
    "#median = data['year_of_release'].median()\n",
    "#print(f'Медиана столбца \"year_of_release\" = {median}\\n')\n",
    "#data['year_of_release'] = data['year_of_release'].fillna(median)\n",
    "#data.info()"
   ]
  },
  {
   "cell_type": "markdown",
   "id": "3d6ff61f",
   "metadata": {},
   "source": [
    "Пропусков года релиза всего 1,6%. Удалим их, поскольку это не сильно повлияет на конечный результат исследования."
   ]
  },
  {
   "cell_type": "code",
   "execution_count": 23,
   "id": "dc23d9fa",
   "metadata": {},
   "outputs": [
    {
     "name": "stdout",
     "output_type": "stream",
     "text": [
      "<class 'pandas.core.frame.DataFrame'>\n",
      "RangeIndex: 16444 entries, 0 to 16443\n",
      "Data columns (total 11 columns):\n",
      " #   Column           Non-Null Count  Dtype  \n",
      "---  ------           --------------  -----  \n",
      " 0   name             16444 non-null  object \n",
      " 1   platform         16444 non-null  object \n",
      " 2   year_of_release  16444 non-null  float64\n",
      " 3   genre            16444 non-null  object \n",
      " 4   na_sales         16444 non-null  float64\n",
      " 5   eu_sales         16444 non-null  float64\n",
      " 6   jp_sales         16444 non-null  float64\n",
      " 7   other_sales      16444 non-null  float64\n",
      " 8   critic_score     7983 non-null   float64\n",
      " 9   user_score       7463 non-null   object \n",
      " 10  rating           9768 non-null   object \n",
      "dtypes: float64(6), object(5)\n",
      "memory usage: 1.4+ MB\n"
     ]
    }
   ],
   "source": [
    "data = data.dropna(subset=['year_of_release']).reset_index(drop=True)\n",
    "data.info()"
   ]
  },
  {
   "cell_type": "markdown",
   "id": "f4cd61e0",
   "metadata": {},
   "source": [
    "#### 1.3.3. Столбцы `critic_score` и `user_score`.\n",
    "\n",
    "Сначала приведем тип в столбце `user_score`:"
   ]
  },
  {
   "cell_type": "code",
   "execution_count": 24,
   "id": "68e63e6e",
   "metadata": {},
   "outputs": [
    {
     "name": "stdout",
     "output_type": "stream",
     "text": [
      "<class 'pandas.core.frame.DataFrame'>\n",
      "RangeIndex: 16444 entries, 0 to 16443\n",
      "Data columns (total 11 columns):\n",
      " #   Column           Non-Null Count  Dtype  \n",
      "---  ------           --------------  -----  \n",
      " 0   name             16444 non-null  object \n",
      " 1   platform         16444 non-null  object \n",
      " 2   year_of_release  16444 non-null  float64\n",
      " 3   genre            16444 non-null  object \n",
      " 4   na_sales         16444 non-null  float64\n",
      " 5   eu_sales         16444 non-null  float64\n",
      " 6   jp_sales         16444 non-null  float64\n",
      " 7   other_sales      16444 non-null  float64\n",
      " 8   critic_score     7983 non-null   float64\n",
      " 9   user_score       7463 non-null   float64\n",
      " 10  rating           9768 non-null   object \n",
      "dtypes: float64(7), object(4)\n",
      "memory usage: 1.4+ MB\n"
     ]
    }
   ],
   "source": [
    "data['user_score'] = pd.to_numeric(data['user_score'], errors='ignore')\n",
    "data.info()"
   ]
  },
  {
   "cell_type": "markdown",
   "id": "8d2f822b",
   "metadata": {},
   "source": [
    "Поскольку шкала оценок критиков 0-100, а игроков 0-10, то приведем к одной шкале: домножим значения столбца `user_score` на 10"
   ]
  },
  {
   "cell_type": "code",
   "execution_count": 25,
   "id": "d2d985c3",
   "metadata": {},
   "outputs": [],
   "source": [
    "warnings.filterwarnings('ignore')\n",
    "data['user_score'] = data['user_score'] * 10"
   ]
  },
  {
   "cell_type": "markdown",
   "id": "0dcd2363",
   "metadata": {},
   "source": [
    "Выделим случаи, где есть хотя бы одна оценка:"
   ]
  },
  {
   "cell_type": "code",
   "execution_count": 26,
   "id": "ebf840f4",
   "metadata": {},
   "outputs": [
    {
     "data": {
      "text/html": [
       "<div>\n",
       "<style scoped>\n",
       "    .dataframe tbody tr th:only-of-type {\n",
       "        vertical-align: middle;\n",
       "    }\n",
       "\n",
       "    .dataframe tbody tr th {\n",
       "        vertical-align: top;\n",
       "    }\n",
       "\n",
       "    .dataframe thead th {\n",
       "        text-align: right;\n",
       "    }\n",
       "</style>\n",
       "<table border=\"1\" class=\"dataframe\">\n",
       "  <thead>\n",
       "    <tr style=\"text-align: right;\">\n",
       "      <th></th>\n",
       "      <th>name</th>\n",
       "      <th>platform</th>\n",
       "      <th>year_of_release</th>\n",
       "      <th>genre</th>\n",
       "      <th>na_sales</th>\n",
       "      <th>eu_sales</th>\n",
       "      <th>jp_sales</th>\n",
       "      <th>other_sales</th>\n",
       "      <th>critic_score</th>\n",
       "      <th>user_score</th>\n",
       "      <th>rating</th>\n",
       "    </tr>\n",
       "  </thead>\n",
       "  <tbody>\n",
       "    <tr>\n",
       "      <th>182</th>\n",
       "      <td>Tomb Raider II</td>\n",
       "      <td>PS</td>\n",
       "      <td>1997.0</td>\n",
       "      <td>Action</td>\n",
       "      <td>2.30</td>\n",
       "      <td>2.46</td>\n",
       "      <td>0.20</td>\n",
       "      <td>0.28</td>\n",
       "      <td>85.0</td>\n",
       "      <td>NaN</td>\n",
       "      <td>T</td>\n",
       "    </tr>\n",
       "    <tr>\n",
       "      <th>254</th>\n",
       "      <td>Call of Duty: Advanced Warfare</td>\n",
       "      <td>PS3</td>\n",
       "      <td>2014.0</td>\n",
       "      <td>Shooter</td>\n",
       "      <td>1.56</td>\n",
       "      <td>1.93</td>\n",
       "      <td>0.19</td>\n",
       "      <td>0.68</td>\n",
       "      <td>NaN</td>\n",
       "      <td>48.0</td>\n",
       "      <td>M</td>\n",
       "    </tr>\n",
       "    <tr>\n",
       "      <th>262</th>\n",
       "      <td>Call of Duty: Advanced Warfare</td>\n",
       "      <td>X360</td>\n",
       "      <td>2014.0</td>\n",
       "      <td>Shooter</td>\n",
       "      <td>2.77</td>\n",
       "      <td>1.11</td>\n",
       "      <td>0.00</td>\n",
       "      <td>0.40</td>\n",
       "      <td>NaN</td>\n",
       "      <td>49.0</td>\n",
       "      <td>M</td>\n",
       "    </tr>\n",
       "    <tr>\n",
       "      <th>263</th>\n",
       "      <td>FIFA 15</td>\n",
       "      <td>PS3</td>\n",
       "      <td>2014.0</td>\n",
       "      <td>Sports</td>\n",
       "      <td>0.58</td>\n",
       "      <td>3.02</td>\n",
       "      <td>0.04</td>\n",
       "      <td>0.64</td>\n",
       "      <td>NaN</td>\n",
       "      <td>45.0</td>\n",
       "      <td>E</td>\n",
       "    </tr>\n",
       "    <tr>\n",
       "      <th>290</th>\n",
       "      <td>World Soccer Winning Eleven 9</td>\n",
       "      <td>PS2</td>\n",
       "      <td>2005.0</td>\n",
       "      <td>Sports</td>\n",
       "      <td>0.12</td>\n",
       "      <td>2.26</td>\n",
       "      <td>0.90</td>\n",
       "      <td>0.77</td>\n",
       "      <td>NaN</td>\n",
       "      <td>82.0</td>\n",
       "      <td>E</td>\n",
       "    </tr>\n",
       "    <tr>\n",
       "      <th>...</th>\n",
       "      <td>...</td>\n",
       "      <td>...</td>\n",
       "      <td>...</td>\n",
       "      <td>...</td>\n",
       "      <td>...</td>\n",
       "      <td>...</td>\n",
       "      <td>...</td>\n",
       "      <td>...</td>\n",
       "      <td>...</td>\n",
       "      <td>...</td>\n",
       "      <td>...</td>\n",
       "    </tr>\n",
       "    <tr>\n",
       "      <th>16398</th>\n",
       "      <td>Super Robot Taisen: Original Generation</td>\n",
       "      <td>GBA</td>\n",
       "      <td>2002.0</td>\n",
       "      <td>Role-Playing</td>\n",
       "      <td>0.01</td>\n",
       "      <td>0.00</td>\n",
       "      <td>0.00</td>\n",
       "      <td>0.00</td>\n",
       "      <td>72.0</td>\n",
       "      <td>NaN</td>\n",
       "      <td>T</td>\n",
       "    </tr>\n",
       "    <tr>\n",
       "      <th>16410</th>\n",
       "      <td>Worms 2</td>\n",
       "      <td>PC</td>\n",
       "      <td>1997.0</td>\n",
       "      <td>Strategy</td>\n",
       "      <td>0.00</td>\n",
       "      <td>0.01</td>\n",
       "      <td>0.00</td>\n",
       "      <td>0.00</td>\n",
       "      <td>NaN</td>\n",
       "      <td>81.0</td>\n",
       "      <td>E</td>\n",
       "    </tr>\n",
       "    <tr>\n",
       "      <th>16424</th>\n",
       "      <td>Planet Monsters</td>\n",
       "      <td>GBA</td>\n",
       "      <td>2001.0</td>\n",
       "      <td>Action</td>\n",
       "      <td>0.01</td>\n",
       "      <td>0.00</td>\n",
       "      <td>0.00</td>\n",
       "      <td>0.00</td>\n",
       "      <td>67.0</td>\n",
       "      <td>NaN</td>\n",
       "      <td>E</td>\n",
       "    </tr>\n",
       "    <tr>\n",
       "      <th>16426</th>\n",
       "      <td>Bust-A-Move 3000</td>\n",
       "      <td>GC</td>\n",
       "      <td>2003.0</td>\n",
       "      <td>Puzzle</td>\n",
       "      <td>0.01</td>\n",
       "      <td>0.00</td>\n",
       "      <td>0.00</td>\n",
       "      <td>0.00</td>\n",
       "      <td>53.0</td>\n",
       "      <td>NaN</td>\n",
       "      <td>E</td>\n",
       "    </tr>\n",
       "    <tr>\n",
       "      <th>16427</th>\n",
       "      <td>Mega Brain Boost</td>\n",
       "      <td>DS</td>\n",
       "      <td>2008.0</td>\n",
       "      <td>Puzzle</td>\n",
       "      <td>0.01</td>\n",
       "      <td>0.00</td>\n",
       "      <td>0.00</td>\n",
       "      <td>0.00</td>\n",
       "      <td>48.0</td>\n",
       "      <td>NaN</td>\n",
       "      <td>E</td>\n",
       "    </tr>\n",
       "  </tbody>\n",
       "</table>\n",
       "<p>1658 rows × 11 columns</p>\n",
       "</div>"
      ],
      "text/plain": [
       "                                          name platform  year_of_release  \\\n",
       "182                             Tomb Raider II       PS           1997.0   \n",
       "254             Call of Duty: Advanced Warfare      PS3           2014.0   \n",
       "262             Call of Duty: Advanced Warfare     X360           2014.0   \n",
       "263                                    FIFA 15      PS3           2014.0   \n",
       "290              World Soccer Winning Eleven 9      PS2           2005.0   \n",
       "...                                        ...      ...              ...   \n",
       "16398  Super Robot Taisen: Original Generation      GBA           2002.0   \n",
       "16410                                  Worms 2       PC           1997.0   \n",
       "16424                          Planet Monsters      GBA           2001.0   \n",
       "16426                         Bust-A-Move 3000       GC           2003.0   \n",
       "16427                         Mega Brain Boost       DS           2008.0   \n",
       "\n",
       "              genre  na_sales  eu_sales  jp_sales  other_sales  critic_score  \\\n",
       "182          Action      2.30      2.46      0.20         0.28          85.0   \n",
       "254         Shooter      1.56      1.93      0.19         0.68           NaN   \n",
       "262         Shooter      2.77      1.11      0.00         0.40           NaN   \n",
       "263          Sports      0.58      3.02      0.04         0.64           NaN   \n",
       "290          Sports      0.12      2.26      0.90         0.77           NaN   \n",
       "...             ...       ...       ...       ...          ...           ...   \n",
       "16398  Role-Playing      0.01      0.00      0.00         0.00          72.0   \n",
       "16410      Strategy      0.00      0.01      0.00         0.00           NaN   \n",
       "16424        Action      0.01      0.00      0.00         0.00          67.0   \n",
       "16426        Puzzle      0.01      0.00      0.00         0.00          53.0   \n",
       "16427        Puzzle      0.01      0.00      0.00         0.00          48.0   \n",
       "\n",
       "       user_score rating  \n",
       "182           NaN      T  \n",
       "254          48.0      M  \n",
       "262          49.0      M  \n",
       "263          45.0      E  \n",
       "290          82.0      E  \n",
       "...           ...    ...  \n",
       "16398         NaN      T  \n",
       "16410        81.0      E  \n",
       "16424         NaN      E  \n",
       "16426         NaN      E  \n",
       "16427         NaN      E  \n",
       "\n",
       "[1658 rows x 11 columns]"
      ]
     },
     "execution_count": 26,
     "metadata": {},
     "output_type": "execute_result"
    }
   ],
   "source": [
    "data[((data['critic_score'].isna() > 0) ^ (data['user_score'].isna() > 0))]"
   ]
  },
  {
   "cell_type": "markdown",
   "id": "4bfc59c9",
   "metadata": {},
   "source": [
    "Для заполнения пропусков в данных строках и столбцах выдвенем такую гипотезу: средняя оценка критиков равна средней оценке пользователей. Если гипотеза верна, то заполним пропуски значением соседнего столбца.\n",
    "Размеры выборок разные, поэтому применим t-тест для двух генеральных совокупностей с параметром `equal_var = False`"
   ]
  },
  {
   "cell_type": "code",
   "execution_count": 27,
   "id": "484aeec9",
   "metadata": {},
   "outputs": [
    {
     "data": {
      "text/html": [
       "<div>\n",
       "<style scoped>\n",
       "    .dataframe tbody tr th:only-of-type {\n",
       "        vertical-align: middle;\n",
       "    }\n",
       "\n",
       "    .dataframe tbody tr th {\n",
       "        vertical-align: top;\n",
       "    }\n",
       "\n",
       "    .dataframe thead th {\n",
       "        text-align: right;\n",
       "    }\n",
       "</style>\n",
       "<table border=\"1\" class=\"dataframe\">\n",
       "  <thead>\n",
       "    <tr style=\"text-align: right;\">\n",
       "      <th></th>\n",
       "      <th>name</th>\n",
       "      <th>platform</th>\n",
       "      <th>year_of_release</th>\n",
       "      <th>genre</th>\n",
       "      <th>na_sales</th>\n",
       "      <th>eu_sales</th>\n",
       "      <th>jp_sales</th>\n",
       "      <th>other_sales</th>\n",
       "      <th>critic_score</th>\n",
       "      <th>user_score</th>\n",
       "      <th>rating</th>\n",
       "    </tr>\n",
       "  </thead>\n",
       "  <tbody>\n",
       "    <tr>\n",
       "      <th>0</th>\n",
       "      <td>Wii Sports</td>\n",
       "      <td>Wii</td>\n",
       "      <td>2006.0</td>\n",
       "      <td>Sports</td>\n",
       "      <td>41.36</td>\n",
       "      <td>28.96</td>\n",
       "      <td>3.77</td>\n",
       "      <td>8.45</td>\n",
       "      <td>76.0</td>\n",
       "      <td>80.0</td>\n",
       "      <td>E</td>\n",
       "    </tr>\n",
       "    <tr>\n",
       "      <th>2</th>\n",
       "      <td>Mario Kart Wii</td>\n",
       "      <td>Wii</td>\n",
       "      <td>2008.0</td>\n",
       "      <td>Racing</td>\n",
       "      <td>15.68</td>\n",
       "      <td>12.76</td>\n",
       "      <td>3.79</td>\n",
       "      <td>3.29</td>\n",
       "      <td>82.0</td>\n",
       "      <td>83.0</td>\n",
       "      <td>E</td>\n",
       "    </tr>\n",
       "    <tr>\n",
       "      <th>3</th>\n",
       "      <td>Wii Sports Resort</td>\n",
       "      <td>Wii</td>\n",
       "      <td>2009.0</td>\n",
       "      <td>Sports</td>\n",
       "      <td>15.61</td>\n",
       "      <td>10.93</td>\n",
       "      <td>3.28</td>\n",
       "      <td>2.95</td>\n",
       "      <td>80.0</td>\n",
       "      <td>80.0</td>\n",
       "      <td>E</td>\n",
       "    </tr>\n",
       "    <tr>\n",
       "      <th>6</th>\n",
       "      <td>New Super Mario Bros.</td>\n",
       "      <td>DS</td>\n",
       "      <td>2006.0</td>\n",
       "      <td>Platform</td>\n",
       "      <td>11.28</td>\n",
       "      <td>9.14</td>\n",
       "      <td>6.50</td>\n",
       "      <td>2.88</td>\n",
       "      <td>89.0</td>\n",
       "      <td>85.0</td>\n",
       "      <td>E</td>\n",
       "    </tr>\n",
       "    <tr>\n",
       "      <th>7</th>\n",
       "      <td>Wii Play</td>\n",
       "      <td>Wii</td>\n",
       "      <td>2006.0</td>\n",
       "      <td>Misc</td>\n",
       "      <td>13.96</td>\n",
       "      <td>9.18</td>\n",
       "      <td>2.93</td>\n",
       "      <td>2.84</td>\n",
       "      <td>58.0</td>\n",
       "      <td>66.0</td>\n",
       "      <td>E</td>\n",
       "    </tr>\n",
       "    <tr>\n",
       "      <th>...</th>\n",
       "      <td>...</td>\n",
       "      <td>...</td>\n",
       "      <td>...</td>\n",
       "      <td>...</td>\n",
       "      <td>...</td>\n",
       "      <td>...</td>\n",
       "      <td>...</td>\n",
       "      <td>...</td>\n",
       "      <td>...</td>\n",
       "      <td>...</td>\n",
       "      <td>...</td>\n",
       "    </tr>\n",
       "    <tr>\n",
       "      <th>16402</th>\n",
       "      <td>Mortal Kombat: Deadly Alliance</td>\n",
       "      <td>GBA</td>\n",
       "      <td>2002.0</td>\n",
       "      <td>Fighting</td>\n",
       "      <td>0.01</td>\n",
       "      <td>0.00</td>\n",
       "      <td>0.00</td>\n",
       "      <td>0.00</td>\n",
       "      <td>81.0</td>\n",
       "      <td>88.0</td>\n",
       "      <td>M</td>\n",
       "    </tr>\n",
       "    <tr>\n",
       "      <th>16421</th>\n",
       "      <td>Metal Gear Solid V: Ground Zeroes</td>\n",
       "      <td>PC</td>\n",
       "      <td>2014.0</td>\n",
       "      <td>Action</td>\n",
       "      <td>0.00</td>\n",
       "      <td>0.01</td>\n",
       "      <td>0.00</td>\n",
       "      <td>0.00</td>\n",
       "      <td>80.0</td>\n",
       "      <td>76.0</td>\n",
       "      <td>M</td>\n",
       "    </tr>\n",
       "    <tr>\n",
       "      <th>16425</th>\n",
       "      <td>Breach</td>\n",
       "      <td>PC</td>\n",
       "      <td>2011.0</td>\n",
       "      <td>Shooter</td>\n",
       "      <td>0.01</td>\n",
       "      <td>0.00</td>\n",
       "      <td>0.00</td>\n",
       "      <td>0.00</td>\n",
       "      <td>61.0</td>\n",
       "      <td>58.0</td>\n",
       "      <td>T</td>\n",
       "    </tr>\n",
       "    <tr>\n",
       "      <th>16431</th>\n",
       "      <td>STORM: Frontline Nation</td>\n",
       "      <td>PC</td>\n",
       "      <td>2011.0</td>\n",
       "      <td>Strategy</td>\n",
       "      <td>0.00</td>\n",
       "      <td>0.01</td>\n",
       "      <td>0.00</td>\n",
       "      <td>0.00</td>\n",
       "      <td>60.0</td>\n",
       "      <td>72.0</td>\n",
       "      <td>E10+</td>\n",
       "    </tr>\n",
       "    <tr>\n",
       "      <th>16434</th>\n",
       "      <td>15 Days</td>\n",
       "      <td>PC</td>\n",
       "      <td>2009.0</td>\n",
       "      <td>Adventure</td>\n",
       "      <td>0.00</td>\n",
       "      <td>0.01</td>\n",
       "      <td>0.00</td>\n",
       "      <td>0.00</td>\n",
       "      <td>63.0</td>\n",
       "      <td>58.0</td>\n",
       "      <td>NaN</td>\n",
       "    </tr>\n",
       "  </tbody>\n",
       "</table>\n",
       "<p>6894 rows × 11 columns</p>\n",
       "</div>"
      ],
      "text/plain": [
       "                                    name platform  year_of_release      genre  \\\n",
       "0                             Wii Sports      Wii           2006.0     Sports   \n",
       "2                         Mario Kart Wii      Wii           2008.0     Racing   \n",
       "3                      Wii Sports Resort      Wii           2009.0     Sports   \n",
       "6                  New Super Mario Bros.       DS           2006.0   Platform   \n",
       "7                               Wii Play      Wii           2006.0       Misc   \n",
       "...                                  ...      ...              ...        ...   \n",
       "16402     Mortal Kombat: Deadly Alliance      GBA           2002.0   Fighting   \n",
       "16421  Metal Gear Solid V: Ground Zeroes       PC           2014.0     Action   \n",
       "16425                             Breach       PC           2011.0    Shooter   \n",
       "16431            STORM: Frontline Nation       PC           2011.0   Strategy   \n",
       "16434                            15 Days       PC           2009.0  Adventure   \n",
       "\n",
       "       na_sales  eu_sales  jp_sales  other_sales  critic_score  user_score  \\\n",
       "0         41.36     28.96      3.77         8.45          76.0        80.0   \n",
       "2         15.68     12.76      3.79         3.29          82.0        83.0   \n",
       "3         15.61     10.93      3.28         2.95          80.0        80.0   \n",
       "6         11.28      9.14      6.50         2.88          89.0        85.0   \n",
       "7         13.96      9.18      2.93         2.84          58.0        66.0   \n",
       "...         ...       ...       ...          ...           ...         ...   \n",
       "16402      0.01      0.00      0.00         0.00          81.0        88.0   \n",
       "16421      0.00      0.01      0.00         0.00          80.0        76.0   \n",
       "16425      0.01      0.00      0.00         0.00          61.0        58.0   \n",
       "16431      0.00      0.01      0.00         0.00          60.0        72.0   \n",
       "16434      0.00      0.01      0.00         0.00          63.0        58.0   \n",
       "\n",
       "      rating  \n",
       "0          E  \n",
       "2          E  \n",
       "3          E  \n",
       "6          E  \n",
       "7          E  \n",
       "...      ...  \n",
       "16402      M  \n",
       "16421      M  \n",
       "16425      T  \n",
       "16431   E10+  \n",
       "16434    NaN  \n",
       "\n",
       "[6894 rows x 11 columns]"
      ]
     },
     "execution_count": 27,
     "metadata": {},
     "output_type": "execute_result"
    }
   ],
   "source": [
    "data[(data['critic_score'].isna() == 0) & (data['user_score'].isna() == 0)]"
   ]
  },
  {
   "cell_type": "code",
   "execution_count": 28,
   "id": "ac6c9920",
   "metadata": {},
   "outputs": [
    {
     "name": "stdout",
     "output_type": "stream",
     "text": [
      "p-значение: 4.6819885112237124e-11\n",
      "Отвергаем нулевую гипотезу\n"
     ]
    }
   ],
   "source": [
    "alpha = 0.05\n",
    "score_results = st.ttest_ind(\n",
    "    data[(data['critic_score'].isna() == 0) & (data['user_score'].isna() == 0)]['critic_score'],\n",
    "    data[(data['critic_score'].isna() == 0) & (data['user_score'].isna() == 0)]['user_score'],\n",
    "    equal_var = False) \n",
    "\n",
    "print('p-значение:', score_results.pvalue) \n",
    "\n",
    "if (score_results.pvalue < alpha):\n",
    "    print(\"Отвергаем нулевую гипотезу\")\n",
    "else:\n",
    "    print(\"Не получилось отвергнуть нулевую гипотезу\")"
   ]
  },
  {
   "cell_type": "markdown",
   "id": "3fd1c058",
   "metadata": {},
   "source": [
    "Таким путем заполнить пропуски не получится, поэтому заполним медианой по значениям, сгруппированным по жанру"
   ]
  },
  {
   "cell_type": "code",
   "execution_count": 29,
   "id": "2bf40e9b",
   "metadata": {},
   "outputs": [],
   "source": [
    "#warnings.filterwarnings('ignore')\n",
    "#medians_by_critics = data.groupby(by=['genre'])['critic_score'].agg('median')\n",
    "#medians_by_users = data.groupby(by=['genre'])['user_score'].agg('median')\n",
    "#indexes = data[data['critic_score'].isna() > 0].index\n",
    "#for index in indexes:\n",
    "#    data.loc[(data.index == index), 'critic_score'] = medians_by_critics[data.loc[(data.index == index), 'genre'].values[0]]  \n",
    "#indexes = data[data['user_score'].isna() > 0].index\n",
    "#for index in indexes:\n",
    "#    data.loc[(data.index == index), 'user_score'] = medians_by_users[data.loc[(data.index == index), 'genre'].values[0]]  \n",
    "#data.info()"
   ]
  },
  {
   "cell_type": "code",
   "execution_count": 30,
   "id": "e3497032",
   "metadata": {},
   "outputs": [
    {
     "name": "stdout",
     "output_type": "stream",
     "text": [
      "<class 'pandas.core.frame.DataFrame'>\n",
      "RangeIndex: 16444 entries, 0 to 16443\n",
      "Data columns (total 11 columns):\n",
      " #   Column           Non-Null Count  Dtype  \n",
      "---  ------           --------------  -----  \n",
      " 0   name             16444 non-null  object \n",
      " 1   platform         16444 non-null  object \n",
      " 2   year_of_release  16444 non-null  float64\n",
      " 3   genre            16444 non-null  object \n",
      " 4   na_sales         16444 non-null  float64\n",
      " 5   eu_sales         16444 non-null  float64\n",
      " 6   jp_sales         16444 non-null  float64\n",
      " 7   other_sales      16444 non-null  float64\n",
      " 8   critic_score     16444 non-null  float64\n",
      " 9   user_score       16444 non-null  float64\n",
      " 10  rating           9768 non-null   object \n",
      "dtypes: float64(7), object(4)\n",
      "memory usage: 1.4+ MB\n"
     ]
    }
   ],
   "source": [
    "data[['critic_score', 'user_score']] = data[['critic_score', 'user_score']].fillna(-1)\n",
    "data.info()"
   ]
  },
  {
   "cell_type": "markdown",
   "id": "237622ac",
   "metadata": {},
   "source": [
    "#### 1.3.4. Столбец `rating`.\n",
    "\n",
    "Заполним медианой по значениям, сгруппированным по жанру:"
   ]
  },
  {
   "cell_type": "code",
   "execution_count": 31,
   "id": "89b44790",
   "metadata": {
    "scrolled": false
   },
   "outputs": [],
   "source": [
    "#warnings.filterwarnings('ignore')\n",
    "#medians_by_genre = data.groupby(['genre','rating'])['rating'].agg(['count']).sort_values(['count'],ascending=False).groupby(level=0).head(1)\n",
    "#display(medians_by_genre)\n",
    "#indexes = data[data['rating'].isna() > 0].index\n",
    "#for index in indexes:\n",
    "    #display(medians_by_genre[medians_by_genre.index.get_level_values(0) == data.loc[(data.index == index), 'genre'][index]].index.get_level_values(1)[0])\n",
    "#    data.loc[(data.index == index), 'rating'] = (\n",
    "#        medians_by_genre[medians_by_genre.index.get_level_values(0) == data.loc[(data.index == index), 'genre'][index]].index.get_level_values(1)[0])  "
   ]
  },
  {
   "cell_type": "markdown",
   "id": "67a92c95",
   "metadata": {},
   "source": [
    "Как в предыдущем пункте, заполним характерным значением `other`, который будет индикатором отсутствия рейтинга."
   ]
  },
  {
   "cell_type": "code",
   "execution_count": 32,
   "id": "8256f086",
   "metadata": {},
   "outputs": [
    {
     "name": "stdout",
     "output_type": "stream",
     "text": [
      "<class 'pandas.core.frame.DataFrame'>\n",
      "RangeIndex: 16444 entries, 0 to 16443\n",
      "Data columns (total 11 columns):\n",
      " #   Column           Non-Null Count  Dtype  \n",
      "---  ------           --------------  -----  \n",
      " 0   name             16444 non-null  object \n",
      " 1   platform         16444 non-null  object \n",
      " 2   year_of_release  16444 non-null  float64\n",
      " 3   genre            16444 non-null  object \n",
      " 4   na_sales         16444 non-null  float64\n",
      " 5   eu_sales         16444 non-null  float64\n",
      " 6   jp_sales         16444 non-null  float64\n",
      " 7   other_sales      16444 non-null  float64\n",
      " 8   critic_score     16444 non-null  float64\n",
      " 9   user_score       16444 non-null  float64\n",
      " 10  rating           16444 non-null  object \n",
      "dtypes: float64(7), object(4)\n",
      "memory usage: 1.4+ MB\n"
     ]
    },
    {
     "data": {
      "text/html": [
       "<div>\n",
       "<style scoped>\n",
       "    .dataframe tbody tr th:only-of-type {\n",
       "        vertical-align: middle;\n",
       "    }\n",
       "\n",
       "    .dataframe tbody tr th {\n",
       "        vertical-align: top;\n",
       "    }\n",
       "\n",
       "    .dataframe thead th {\n",
       "        text-align: right;\n",
       "    }\n",
       "</style>\n",
       "<table border=\"1\" class=\"dataframe\">\n",
       "  <thead>\n",
       "    <tr style=\"text-align: right;\">\n",
       "      <th></th>\n",
       "      <th>name</th>\n",
       "      <th>platform</th>\n",
       "      <th>year_of_release</th>\n",
       "      <th>genre</th>\n",
       "      <th>na_sales</th>\n",
       "      <th>eu_sales</th>\n",
       "      <th>jp_sales</th>\n",
       "      <th>other_sales</th>\n",
       "      <th>critic_score</th>\n",
       "      <th>user_score</th>\n",
       "      <th>rating</th>\n",
       "    </tr>\n",
       "  </thead>\n",
       "  <tbody>\n",
       "    <tr>\n",
       "      <th>0</th>\n",
       "      <td>Wii Sports</td>\n",
       "      <td>Wii</td>\n",
       "      <td>2006.0</td>\n",
       "      <td>Sports</td>\n",
       "      <td>41.36</td>\n",
       "      <td>28.96</td>\n",
       "      <td>3.77</td>\n",
       "      <td>8.45</td>\n",
       "      <td>76.0</td>\n",
       "      <td>80.0</td>\n",
       "      <td>E</td>\n",
       "    </tr>\n",
       "    <tr>\n",
       "      <th>1</th>\n",
       "      <td>Super Mario Bros.</td>\n",
       "      <td>NES</td>\n",
       "      <td>1985.0</td>\n",
       "      <td>Platform</td>\n",
       "      <td>29.08</td>\n",
       "      <td>3.58</td>\n",
       "      <td>6.81</td>\n",
       "      <td>0.77</td>\n",
       "      <td>-1.0</td>\n",
       "      <td>-1.0</td>\n",
       "      <td>other</td>\n",
       "    </tr>\n",
       "    <tr>\n",
       "      <th>2</th>\n",
       "      <td>Mario Kart Wii</td>\n",
       "      <td>Wii</td>\n",
       "      <td>2008.0</td>\n",
       "      <td>Racing</td>\n",
       "      <td>15.68</td>\n",
       "      <td>12.76</td>\n",
       "      <td>3.79</td>\n",
       "      <td>3.29</td>\n",
       "      <td>82.0</td>\n",
       "      <td>83.0</td>\n",
       "      <td>E</td>\n",
       "    </tr>\n",
       "    <tr>\n",
       "      <th>3</th>\n",
       "      <td>Wii Sports Resort</td>\n",
       "      <td>Wii</td>\n",
       "      <td>2009.0</td>\n",
       "      <td>Sports</td>\n",
       "      <td>15.61</td>\n",
       "      <td>10.93</td>\n",
       "      <td>3.28</td>\n",
       "      <td>2.95</td>\n",
       "      <td>80.0</td>\n",
       "      <td>80.0</td>\n",
       "      <td>E</td>\n",
       "    </tr>\n",
       "    <tr>\n",
       "      <th>4</th>\n",
       "      <td>Pokemon Red/Pokemon Blue</td>\n",
       "      <td>GB</td>\n",
       "      <td>1996.0</td>\n",
       "      <td>Role-Playing</td>\n",
       "      <td>11.27</td>\n",
       "      <td>8.89</td>\n",
       "      <td>10.22</td>\n",
       "      <td>1.00</td>\n",
       "      <td>-1.0</td>\n",
       "      <td>-1.0</td>\n",
       "      <td>other</td>\n",
       "    </tr>\n",
       "    <tr>\n",
       "      <th>5</th>\n",
       "      <td>Tetris</td>\n",
       "      <td>GB</td>\n",
       "      <td>1989.0</td>\n",
       "      <td>Puzzle</td>\n",
       "      <td>23.20</td>\n",
       "      <td>2.26</td>\n",
       "      <td>4.22</td>\n",
       "      <td>0.58</td>\n",
       "      <td>-1.0</td>\n",
       "      <td>-1.0</td>\n",
       "      <td>other</td>\n",
       "    </tr>\n",
       "    <tr>\n",
       "      <th>6</th>\n",
       "      <td>New Super Mario Bros.</td>\n",
       "      <td>DS</td>\n",
       "      <td>2006.0</td>\n",
       "      <td>Platform</td>\n",
       "      <td>11.28</td>\n",
       "      <td>9.14</td>\n",
       "      <td>6.50</td>\n",
       "      <td>2.88</td>\n",
       "      <td>89.0</td>\n",
       "      <td>85.0</td>\n",
       "      <td>E</td>\n",
       "    </tr>\n",
       "    <tr>\n",
       "      <th>7</th>\n",
       "      <td>Wii Play</td>\n",
       "      <td>Wii</td>\n",
       "      <td>2006.0</td>\n",
       "      <td>Misc</td>\n",
       "      <td>13.96</td>\n",
       "      <td>9.18</td>\n",
       "      <td>2.93</td>\n",
       "      <td>2.84</td>\n",
       "      <td>58.0</td>\n",
       "      <td>66.0</td>\n",
       "      <td>E</td>\n",
       "    </tr>\n",
       "    <tr>\n",
       "      <th>8</th>\n",
       "      <td>New Super Mario Bros. Wii</td>\n",
       "      <td>Wii</td>\n",
       "      <td>2009.0</td>\n",
       "      <td>Platform</td>\n",
       "      <td>14.44</td>\n",
       "      <td>6.94</td>\n",
       "      <td>4.70</td>\n",
       "      <td>2.24</td>\n",
       "      <td>87.0</td>\n",
       "      <td>84.0</td>\n",
       "      <td>E</td>\n",
       "    </tr>\n",
       "    <tr>\n",
       "      <th>9</th>\n",
       "      <td>Duck Hunt</td>\n",
       "      <td>NES</td>\n",
       "      <td>1984.0</td>\n",
       "      <td>Shooter</td>\n",
       "      <td>26.93</td>\n",
       "      <td>0.63</td>\n",
       "      <td>0.28</td>\n",
       "      <td>0.47</td>\n",
       "      <td>-1.0</td>\n",
       "      <td>-1.0</td>\n",
       "      <td>other</td>\n",
       "    </tr>\n",
       "  </tbody>\n",
       "</table>\n",
       "</div>"
      ],
      "text/plain": [
       "                        name platform  year_of_release         genre  \\\n",
       "0                 Wii Sports      Wii           2006.0        Sports   \n",
       "1          Super Mario Bros.      NES           1985.0      Platform   \n",
       "2             Mario Kart Wii      Wii           2008.0        Racing   \n",
       "3          Wii Sports Resort      Wii           2009.0        Sports   \n",
       "4   Pokemon Red/Pokemon Blue       GB           1996.0  Role-Playing   \n",
       "5                     Tetris       GB           1989.0        Puzzle   \n",
       "6      New Super Mario Bros.       DS           2006.0      Platform   \n",
       "7                   Wii Play      Wii           2006.0          Misc   \n",
       "8  New Super Mario Bros. Wii      Wii           2009.0      Platform   \n",
       "9                  Duck Hunt      NES           1984.0       Shooter   \n",
       "\n",
       "   na_sales  eu_sales  jp_sales  other_sales  critic_score  user_score rating  \n",
       "0     41.36     28.96      3.77         8.45          76.0        80.0      E  \n",
       "1     29.08      3.58      6.81         0.77          -1.0        -1.0  other  \n",
       "2     15.68     12.76      3.79         3.29          82.0        83.0      E  \n",
       "3     15.61     10.93      3.28         2.95          80.0        80.0      E  \n",
       "4     11.27      8.89     10.22         1.00          -1.0        -1.0  other  \n",
       "5     23.20      2.26      4.22         0.58          -1.0        -1.0  other  \n",
       "6     11.28      9.14      6.50         2.88          89.0        85.0      E  \n",
       "7     13.96      9.18      2.93         2.84          58.0        66.0      E  \n",
       "8     14.44      6.94      4.70         2.24          87.0        84.0      E  \n",
       "9     26.93      0.63      0.28         0.47          -1.0        -1.0  other  "
      ]
     },
     "execution_count": 32,
     "metadata": {},
     "output_type": "execute_result"
    }
   ],
   "source": [
    "data['rating'] = data['rating'].fillna('other')\n",
    "data.info()\n",
    "data.head(10)"
   ]
  },
  {
   "cell_type": "markdown",
   "id": "86430cd8",
   "metadata": {},
   "source": [
    "**Вывод**\n",
    "\n",
    "Пропуски в названии игры могли быть вызваны неправильной выгрузкой данных, в столбце \"год релиза\"- разными годами выхода на разных платформах одной и той же игры, в столбце оценок игроков- игра еще не вышла для всех пользователей, а остается под эмбарго для критиков и журналистов, в столбце рейтинга- тем, что возрастной ценз был присвоен другой организацией.\n",
    "Пропуски в столбцах `name`,`year_of_release`,`user_score` и `rating` были заполнены."
   ]
  },
  {
   "cell_type": "markdown",
   "id": "c9c35d9e",
   "metadata": {},
   "source": [
    "### 1.4 Изменение типов данных"
   ]
  },
  {
   "cell_type": "code",
   "execution_count": 33,
   "id": "b39ea149",
   "metadata": {},
   "outputs": [
    {
     "name": "stdout",
     "output_type": "stream",
     "text": [
      "<class 'pandas.core.frame.DataFrame'>\n",
      "RangeIndex: 16444 entries, 0 to 16443\n",
      "Data columns (total 11 columns):\n",
      " #   Column           Non-Null Count  Dtype  \n",
      "---  ------           --------------  -----  \n",
      " 0   name             16444 non-null  object \n",
      " 1   platform         16444 non-null  object \n",
      " 2   year_of_release  16444 non-null  int32  \n",
      " 3   genre            16444 non-null  object \n",
      " 4   na_sales         16444 non-null  float64\n",
      " 5   eu_sales         16444 non-null  float64\n",
      " 6   jp_sales         16444 non-null  float32\n",
      " 7   other_sales      16444 non-null  float32\n",
      " 8   critic_score     16444 non-null  int8   \n",
      " 9   user_score       16444 non-null  int8   \n",
      " 10  rating           16444 non-null  object \n",
      "dtypes: float32(2), float64(2), int32(1), int8(2), object(4)\n",
      "memory usage: 995.8+ KB\n"
     ]
    }
   ],
   "source": [
    "data = (data.astype({'year_of_release': np.int32, 'critic_score': np.int8, 'user_score': np.int8,\n",
    "                    'jp_sales': np.float32, 'other_sales': np.float32}))\n",
    "data.info()"
   ]
  },
  {
   "cell_type": "markdown",
   "id": "14972f5a",
   "metadata": {},
   "source": [
    "**Вывод**\n",
    "\n",
    "В столбцах \"год выпуска\" и оценках критиков и игроков заменили тип на целочисленный, в соответствии со смыслом переменной и в пользу экономии места. Столбецы продаж в Японии и общих привели к меньшему типу с плавающей запятой в пользу экономии места и из-за возможности сделать это без потери точности."
   ]
  },
  {
   "cell_type": "markdown",
   "id": "6cc92337",
   "metadata": {},
   "source": [
    "### 1.4 Поиск дубликатов"
   ]
  },
  {
   "cell_type": "markdown",
   "id": "374ca37b",
   "metadata": {},
   "source": [
    "Найдем дубликаты в таблице:"
   ]
  },
  {
   "cell_type": "code",
   "execution_count": 34,
   "id": "b2352e0d",
   "metadata": {},
   "outputs": [
    {
     "name": "stdout",
     "output_type": "stream",
     "text": [
      "Количество дубликатов в таблице = 0\n"
     ]
    },
    {
     "data": {
      "text/html": [
       "<div>\n",
       "<style scoped>\n",
       "    .dataframe tbody tr th:only-of-type {\n",
       "        vertical-align: middle;\n",
       "    }\n",
       "\n",
       "    .dataframe tbody tr th {\n",
       "        vertical-align: top;\n",
       "    }\n",
       "\n",
       "    .dataframe thead th {\n",
       "        text-align: right;\n",
       "    }\n",
       "</style>\n",
       "<table border=\"1\" class=\"dataframe\">\n",
       "  <thead>\n",
       "    <tr style=\"text-align: right;\">\n",
       "      <th></th>\n",
       "      <th>name</th>\n",
       "      <th>platform</th>\n",
       "      <th>year_of_release</th>\n",
       "      <th>genre</th>\n",
       "      <th>na_sales</th>\n",
       "      <th>eu_sales</th>\n",
       "      <th>jp_sales</th>\n",
       "      <th>other_sales</th>\n",
       "      <th>critic_score</th>\n",
       "      <th>user_score</th>\n",
       "      <th>rating</th>\n",
       "    </tr>\n",
       "  </thead>\n",
       "  <tbody>\n",
       "    <tr>\n",
       "      <th>0</th>\n",
       "      <td>wii sports</td>\n",
       "      <td>wii</td>\n",
       "      <td>2006</td>\n",
       "      <td>sports</td>\n",
       "      <td>41.36</td>\n",
       "      <td>28.96</td>\n",
       "      <td>3.77</td>\n",
       "      <td>8.45</td>\n",
       "      <td>76</td>\n",
       "      <td>80</td>\n",
       "      <td>e</td>\n",
       "    </tr>\n",
       "    <tr>\n",
       "      <th>1</th>\n",
       "      <td>super mario bros.</td>\n",
       "      <td>nes</td>\n",
       "      <td>1985</td>\n",
       "      <td>platform</td>\n",
       "      <td>29.08</td>\n",
       "      <td>3.58</td>\n",
       "      <td>6.81</td>\n",
       "      <td>0.77</td>\n",
       "      <td>-1</td>\n",
       "      <td>-1</td>\n",
       "      <td>other</td>\n",
       "    </tr>\n",
       "    <tr>\n",
       "      <th>2</th>\n",
       "      <td>mario kart wii</td>\n",
       "      <td>wii</td>\n",
       "      <td>2008</td>\n",
       "      <td>racing</td>\n",
       "      <td>15.68</td>\n",
       "      <td>12.76</td>\n",
       "      <td>3.79</td>\n",
       "      <td>3.29</td>\n",
       "      <td>82</td>\n",
       "      <td>83</td>\n",
       "      <td>e</td>\n",
       "    </tr>\n",
       "    <tr>\n",
       "      <th>3</th>\n",
       "      <td>wii sports resort</td>\n",
       "      <td>wii</td>\n",
       "      <td>2009</td>\n",
       "      <td>sports</td>\n",
       "      <td>15.61</td>\n",
       "      <td>10.93</td>\n",
       "      <td>3.28</td>\n",
       "      <td>2.95</td>\n",
       "      <td>80</td>\n",
       "      <td>80</td>\n",
       "      <td>e</td>\n",
       "    </tr>\n",
       "    <tr>\n",
       "      <th>4</th>\n",
       "      <td>pokemon red/pokemon blue</td>\n",
       "      <td>gb</td>\n",
       "      <td>1996</td>\n",
       "      <td>role-playing</td>\n",
       "      <td>11.27</td>\n",
       "      <td>8.89</td>\n",
       "      <td>10.22</td>\n",
       "      <td>1.00</td>\n",
       "      <td>-1</td>\n",
       "      <td>-1</td>\n",
       "      <td>other</td>\n",
       "    </tr>\n",
       "    <tr>\n",
       "      <th>...</th>\n",
       "      <td>...</td>\n",
       "      <td>...</td>\n",
       "      <td>...</td>\n",
       "      <td>...</td>\n",
       "      <td>...</td>\n",
       "      <td>...</td>\n",
       "      <td>...</td>\n",
       "      <td>...</td>\n",
       "      <td>...</td>\n",
       "      <td>...</td>\n",
       "      <td>...</td>\n",
       "    </tr>\n",
       "    <tr>\n",
       "      <th>16439</th>\n",
       "      <td>samurai warriors: sanada maru</td>\n",
       "      <td>ps3</td>\n",
       "      <td>2016</td>\n",
       "      <td>action</td>\n",
       "      <td>0.00</td>\n",
       "      <td>0.00</td>\n",
       "      <td>0.01</td>\n",
       "      <td>0.00</td>\n",
       "      <td>-1</td>\n",
       "      <td>-1</td>\n",
       "      <td>other</td>\n",
       "    </tr>\n",
       "    <tr>\n",
       "      <th>16440</th>\n",
       "      <td>lma manager 2007</td>\n",
       "      <td>x360</td>\n",
       "      <td>2006</td>\n",
       "      <td>sports</td>\n",
       "      <td>0.00</td>\n",
       "      <td>0.01</td>\n",
       "      <td>0.00</td>\n",
       "      <td>0.00</td>\n",
       "      <td>-1</td>\n",
       "      <td>-1</td>\n",
       "      <td>other</td>\n",
       "    </tr>\n",
       "    <tr>\n",
       "      <th>16441</th>\n",
       "      <td>haitaka no psychedelica</td>\n",
       "      <td>psv</td>\n",
       "      <td>2016</td>\n",
       "      <td>adventure</td>\n",
       "      <td>0.00</td>\n",
       "      <td>0.00</td>\n",
       "      <td>0.01</td>\n",
       "      <td>0.00</td>\n",
       "      <td>-1</td>\n",
       "      <td>-1</td>\n",
       "      <td>other</td>\n",
       "    </tr>\n",
       "    <tr>\n",
       "      <th>16442</th>\n",
       "      <td>spirits &amp; spells</td>\n",
       "      <td>gba</td>\n",
       "      <td>2003</td>\n",
       "      <td>platform</td>\n",
       "      <td>0.01</td>\n",
       "      <td>0.00</td>\n",
       "      <td>0.00</td>\n",
       "      <td>0.00</td>\n",
       "      <td>-1</td>\n",
       "      <td>-1</td>\n",
       "      <td>other</td>\n",
       "    </tr>\n",
       "    <tr>\n",
       "      <th>16443</th>\n",
       "      <td>winning post 8 2016</td>\n",
       "      <td>psv</td>\n",
       "      <td>2016</td>\n",
       "      <td>simulation</td>\n",
       "      <td>0.00</td>\n",
       "      <td>0.00</td>\n",
       "      <td>0.01</td>\n",
       "      <td>0.00</td>\n",
       "      <td>-1</td>\n",
       "      <td>-1</td>\n",
       "      <td>other</td>\n",
       "    </tr>\n",
       "  </tbody>\n",
       "</table>\n",
       "<p>16444 rows × 11 columns</p>\n",
       "</div>"
      ],
      "text/plain": [
       "                                name platform  year_of_release         genre  \\\n",
       "0                         wii sports      wii             2006        sports   \n",
       "1                  super mario bros.      nes             1985      platform   \n",
       "2                     mario kart wii      wii             2008        racing   \n",
       "3                  wii sports resort      wii             2009        sports   \n",
       "4           pokemon red/pokemon blue       gb             1996  role-playing   \n",
       "...                              ...      ...              ...           ...   \n",
       "16439  samurai warriors: sanada maru      ps3             2016        action   \n",
       "16440               lma manager 2007     x360             2006        sports   \n",
       "16441        haitaka no psychedelica      psv             2016     adventure   \n",
       "16442               spirits & spells      gba             2003      platform   \n",
       "16443            winning post 8 2016      psv             2016    simulation   \n",
       "\n",
       "       na_sales  eu_sales  jp_sales  other_sales  critic_score  user_score  \\\n",
       "0         41.36     28.96      3.77         8.45            76          80   \n",
       "1         29.08      3.58      6.81         0.77            -1          -1   \n",
       "2         15.68     12.76      3.79         3.29            82          83   \n",
       "3         15.61     10.93      3.28         2.95            80          80   \n",
       "4         11.27      8.89     10.22         1.00            -1          -1   \n",
       "...         ...       ...       ...          ...           ...         ...   \n",
       "16439      0.00      0.00      0.01         0.00            -1          -1   \n",
       "16440      0.00      0.01      0.00         0.00            -1          -1   \n",
       "16441      0.00      0.00      0.01         0.00            -1          -1   \n",
       "16442      0.01      0.00      0.00         0.00            -1          -1   \n",
       "16443      0.00      0.00      0.01         0.00            -1          -1   \n",
       "\n",
       "      rating  \n",
       "0          e  \n",
       "1      other  \n",
       "2          e  \n",
       "3          e  \n",
       "4      other  \n",
       "...      ...  \n",
       "16439  other  \n",
       "16440  other  \n",
       "16441  other  \n",
       "16442  other  \n",
       "16443  other  \n",
       "\n",
       "[16444 rows x 11 columns]"
      ]
     },
     "execution_count": 34,
     "metadata": {},
     "output_type": "execute_result"
    }
   ],
   "source": [
    "str_columns = ['name', 'platform', 'genre', 'rating']\n",
    "for column in str_columns:\n",
    "    data[column] = data[column].str.lower()\n",
    "print('Количество дубликатов в таблице =', data.duplicated().sum())\n",
    "data"
   ]
  },
  {
   "cell_type": "markdown",
   "id": "4992a9bb",
   "metadata": {},
   "source": [
    "**Вывод**\n",
    "\n",
    "Количество дубликатов равно нулю. Все значения в датафрейме уникальные и не имеют повторения"
   ]
  },
  {
   "cell_type": "markdown",
   "id": "9624fee2",
   "metadata": {},
   "source": [
    "### 1.5 Общие продажи"
   ]
  },
  {
   "cell_type": "markdown",
   "id": "728f77d9",
   "metadata": {},
   "source": [
    "Посчитаем суммарные продажи во всех регионах:"
   ]
  },
  {
   "cell_type": "code",
   "execution_count": 35,
   "id": "9f9d1f0c",
   "metadata": {},
   "outputs": [
    {
     "data": {
      "text/html": [
       "<div>\n",
       "<style scoped>\n",
       "    .dataframe tbody tr th:only-of-type {\n",
       "        vertical-align: middle;\n",
       "    }\n",
       "\n",
       "    .dataframe tbody tr th {\n",
       "        vertical-align: top;\n",
       "    }\n",
       "\n",
       "    .dataframe thead th {\n",
       "        text-align: right;\n",
       "    }\n",
       "</style>\n",
       "<table border=\"1\" class=\"dataframe\">\n",
       "  <thead>\n",
       "    <tr style=\"text-align: right;\">\n",
       "      <th></th>\n",
       "      <th>name</th>\n",
       "      <th>platform</th>\n",
       "      <th>year_of_release</th>\n",
       "      <th>genre</th>\n",
       "      <th>na_sales</th>\n",
       "      <th>eu_sales</th>\n",
       "      <th>jp_sales</th>\n",
       "      <th>other_sales</th>\n",
       "      <th>critic_score</th>\n",
       "      <th>user_score</th>\n",
       "      <th>rating</th>\n",
       "      <th>total_sales</th>\n",
       "    </tr>\n",
       "  </thead>\n",
       "  <tbody>\n",
       "    <tr>\n",
       "      <th>0</th>\n",
       "      <td>wii sports</td>\n",
       "      <td>wii</td>\n",
       "      <td>2006</td>\n",
       "      <td>sports</td>\n",
       "      <td>41.36</td>\n",
       "      <td>28.96</td>\n",
       "      <td>3.77</td>\n",
       "      <td>8.45</td>\n",
       "      <td>76</td>\n",
       "      <td>80</td>\n",
       "      <td>e</td>\n",
       "      <td>82.54</td>\n",
       "    </tr>\n",
       "    <tr>\n",
       "      <th>1</th>\n",
       "      <td>super mario bros.</td>\n",
       "      <td>nes</td>\n",
       "      <td>1985</td>\n",
       "      <td>platform</td>\n",
       "      <td>29.08</td>\n",
       "      <td>3.58</td>\n",
       "      <td>6.81</td>\n",
       "      <td>0.77</td>\n",
       "      <td>-1</td>\n",
       "      <td>-1</td>\n",
       "      <td>other</td>\n",
       "      <td>40.24</td>\n",
       "    </tr>\n",
       "    <tr>\n",
       "      <th>2</th>\n",
       "      <td>mario kart wii</td>\n",
       "      <td>wii</td>\n",
       "      <td>2008</td>\n",
       "      <td>racing</td>\n",
       "      <td>15.68</td>\n",
       "      <td>12.76</td>\n",
       "      <td>3.79</td>\n",
       "      <td>3.29</td>\n",
       "      <td>82</td>\n",
       "      <td>83</td>\n",
       "      <td>e</td>\n",
       "      <td>35.52</td>\n",
       "    </tr>\n",
       "    <tr>\n",
       "      <th>3</th>\n",
       "      <td>wii sports resort</td>\n",
       "      <td>wii</td>\n",
       "      <td>2009</td>\n",
       "      <td>sports</td>\n",
       "      <td>15.61</td>\n",
       "      <td>10.93</td>\n",
       "      <td>3.28</td>\n",
       "      <td>2.95</td>\n",
       "      <td>80</td>\n",
       "      <td>80</td>\n",
       "      <td>e</td>\n",
       "      <td>32.77</td>\n",
       "    </tr>\n",
       "    <tr>\n",
       "      <th>4</th>\n",
       "      <td>pokemon red/pokemon blue</td>\n",
       "      <td>gb</td>\n",
       "      <td>1996</td>\n",
       "      <td>role-playing</td>\n",
       "      <td>11.27</td>\n",
       "      <td>8.89</td>\n",
       "      <td>10.22</td>\n",
       "      <td>1.00</td>\n",
       "      <td>-1</td>\n",
       "      <td>-1</td>\n",
       "      <td>other</td>\n",
       "      <td>31.38</td>\n",
       "    </tr>\n",
       "    <tr>\n",
       "      <th>5</th>\n",
       "      <td>tetris</td>\n",
       "      <td>gb</td>\n",
       "      <td>1989</td>\n",
       "      <td>puzzle</td>\n",
       "      <td>23.20</td>\n",
       "      <td>2.26</td>\n",
       "      <td>4.22</td>\n",
       "      <td>0.58</td>\n",
       "      <td>-1</td>\n",
       "      <td>-1</td>\n",
       "      <td>other</td>\n",
       "      <td>30.26</td>\n",
       "    </tr>\n",
       "    <tr>\n",
       "      <th>6</th>\n",
       "      <td>new super mario bros.</td>\n",
       "      <td>ds</td>\n",
       "      <td>2006</td>\n",
       "      <td>platform</td>\n",
       "      <td>11.28</td>\n",
       "      <td>9.14</td>\n",
       "      <td>6.50</td>\n",
       "      <td>2.88</td>\n",
       "      <td>89</td>\n",
       "      <td>85</td>\n",
       "      <td>e</td>\n",
       "      <td>29.80</td>\n",
       "    </tr>\n",
       "    <tr>\n",
       "      <th>7</th>\n",
       "      <td>wii play</td>\n",
       "      <td>wii</td>\n",
       "      <td>2006</td>\n",
       "      <td>misc</td>\n",
       "      <td>13.96</td>\n",
       "      <td>9.18</td>\n",
       "      <td>2.93</td>\n",
       "      <td>2.84</td>\n",
       "      <td>58</td>\n",
       "      <td>66</td>\n",
       "      <td>e</td>\n",
       "      <td>28.91</td>\n",
       "    </tr>\n",
       "    <tr>\n",
       "      <th>8</th>\n",
       "      <td>new super mario bros. wii</td>\n",
       "      <td>wii</td>\n",
       "      <td>2009</td>\n",
       "      <td>platform</td>\n",
       "      <td>14.44</td>\n",
       "      <td>6.94</td>\n",
       "      <td>4.70</td>\n",
       "      <td>2.24</td>\n",
       "      <td>87</td>\n",
       "      <td>84</td>\n",
       "      <td>e</td>\n",
       "      <td>28.32</td>\n",
       "    </tr>\n",
       "    <tr>\n",
       "      <th>9</th>\n",
       "      <td>duck hunt</td>\n",
       "      <td>nes</td>\n",
       "      <td>1984</td>\n",
       "      <td>shooter</td>\n",
       "      <td>26.93</td>\n",
       "      <td>0.63</td>\n",
       "      <td>0.28</td>\n",
       "      <td>0.47</td>\n",
       "      <td>-1</td>\n",
       "      <td>-1</td>\n",
       "      <td>other</td>\n",
       "      <td>28.31</td>\n",
       "    </tr>\n",
       "  </tbody>\n",
       "</table>\n",
       "</div>"
      ],
      "text/plain": [
       "                        name platform  year_of_release         genre  \\\n",
       "0                 wii sports      wii             2006        sports   \n",
       "1          super mario bros.      nes             1985      platform   \n",
       "2             mario kart wii      wii             2008        racing   \n",
       "3          wii sports resort      wii             2009        sports   \n",
       "4   pokemon red/pokemon blue       gb             1996  role-playing   \n",
       "5                     tetris       gb             1989        puzzle   \n",
       "6      new super mario bros.       ds             2006      platform   \n",
       "7                   wii play      wii             2006          misc   \n",
       "8  new super mario bros. wii      wii             2009      platform   \n",
       "9                  duck hunt      nes             1984       shooter   \n",
       "\n",
       "   na_sales  eu_sales  jp_sales  other_sales  critic_score  user_score rating  \\\n",
       "0     41.36     28.96      3.77         8.45            76          80      e   \n",
       "1     29.08      3.58      6.81         0.77            -1          -1  other   \n",
       "2     15.68     12.76      3.79         3.29            82          83      e   \n",
       "3     15.61     10.93      3.28         2.95            80          80      e   \n",
       "4     11.27      8.89     10.22         1.00            -1          -1  other   \n",
       "5     23.20      2.26      4.22         0.58            -1          -1  other   \n",
       "6     11.28      9.14      6.50         2.88            89          85      e   \n",
       "7     13.96      9.18      2.93         2.84            58          66      e   \n",
       "8     14.44      6.94      4.70         2.24            87          84      e   \n",
       "9     26.93      0.63      0.28         0.47            -1          -1  other   \n",
       "\n",
       "   total_sales  \n",
       "0        82.54  \n",
       "1        40.24  \n",
       "2        35.52  \n",
       "3        32.77  \n",
       "4        31.38  \n",
       "5        30.26  \n",
       "6        29.80  \n",
       "7        28.91  \n",
       "8        28.32  \n",
       "9        28.31  "
      ]
     },
     "execution_count": 35,
     "metadata": {},
     "output_type": "execute_result"
    }
   ],
   "source": [
    "data['total_sales'] = data['na_sales'] + data['eu_sales'] + data['jp_sales'] + data['other_sales']\n",
    "data.head(10)"
   ]
  },
  {
   "cell_type": "markdown",
   "id": "8c5751e9",
   "metadata": {},
   "source": [
    "**Вывод**\n",
    "\n",
    "Посчитали и добавили суммарные продажи в таблицу."
   ]
  },
  {
   "cell_type": "markdown",
   "id": "6b38613e",
   "metadata": {},
   "source": [
    "## 2. Исследовательский анализ данных"
   ]
  },
  {
   "cell_type": "markdown",
   "id": "89b5e46b",
   "metadata": {},
   "source": [
    "### 2.1 Продажи игр по годам"
   ]
  },
  {
   "cell_type": "code",
   "execution_count": 36,
   "id": "99111e8b",
   "metadata": {},
   "outputs": [
    {
     "data": {
      "text/plain": [
       "<AxesSubplot:xlabel='year_of_release', ylabel='total_sales'>"
      ]
     },
     "execution_count": 36,
     "metadata": {},
     "output_type": "execute_result"
    },
    {
     "data": {
      "image/png": "[encoded data removed]",
      "text/plain": [
       "<Figure size 432x288 with 1 Axes>"
      ]
     },
     "metadata": {
      "needs_background": "light"
     },
     "output_type": "display_data"
    }
   ],
   "source": [
    "data.pivot_table(index='year_of_release', values='total_sales', aggfunc='sum').sort_values(by='year_of_release').plot(grid=True, ylabel='total_sales')"
   ]
  },
  {
   "cell_type": "markdown",
   "id": "77c75b1f",
   "metadata": {},
   "source": [
    "**Вывод**\n",
    "\n",
    "Из графика видно, что данные до 1996 года не очень важны, поскольку до этого ежегодные продажи оставались примерно на одном низком уровне, а с 1996 года, в связи с развитием технологий, произошел скачок ежегодных продаж."
   ]
  },
  {
   "cell_type": "markdown",
   "id": "f9530259",
   "metadata": {},
   "source": [
    "### 2.2 Продажи игр наиболее популярных платформ по годам"
   ]
  },
  {
   "cell_type": "markdown",
   "id": "915b110f",
   "metadata": {},
   "source": [
    "Возьмем топ-6, поскольку после этого топа, суммарные продажи значительно ниже."
   ]
  },
  {
   "cell_type": "code",
   "execution_count": 37,
   "id": "506a5cb8",
   "metadata": {},
   "outputs": [
    {
     "data": {
      "text/html": [
       "<div>\n",
       "<style scoped>\n",
       "    .dataframe tbody tr th:only-of-type {\n",
       "        vertical-align: middle;\n",
       "    }\n",
       "\n",
       "    .dataframe tbody tr th {\n",
       "        vertical-align: top;\n",
       "    }\n",
       "\n",
       "    .dataframe thead th {\n",
       "        text-align: right;\n",
       "    }\n",
       "</style>\n",
       "<table border=\"1\" class=\"dataframe\">\n",
       "  <thead>\n",
       "    <tr style=\"text-align: right;\">\n",
       "      <th></th>\n",
       "      <th>sum</th>\n",
       "    </tr>\n",
       "    <tr>\n",
       "      <th>platform</th>\n",
       "      <th></th>\n",
       "    </tr>\n",
       "  </thead>\n",
       "  <tbody>\n",
       "    <tr>\n",
       "      <th>ps2</th>\n",
       "      <td>1233.559999</td>\n",
       "    </tr>\n",
       "    <tr>\n",
       "      <th>x360</th>\n",
       "      <td>961.240000</td>\n",
       "    </tr>\n",
       "    <tr>\n",
       "      <th>ps3</th>\n",
       "      <td>931.340000</td>\n",
       "    </tr>\n",
       "    <tr>\n",
       "      <th>wii</th>\n",
       "      <td>891.179999</td>\n",
       "    </tr>\n",
       "    <tr>\n",
       "      <th>ds</th>\n",
       "      <td>802.780000</td>\n",
       "    </tr>\n",
       "    <tr>\n",
       "      <th>ps</th>\n",
       "      <td>727.580000</td>\n",
       "    </tr>\n",
       "    <tr>\n",
       "      <th>ps4</th>\n",
       "      <td>314.140000</td>\n",
       "    </tr>\n",
       "    <tr>\n",
       "      <th>gba</th>\n",
       "      <td>312.880000</td>\n",
       "    </tr>\n",
       "    <tr>\n",
       "      <th>psp</th>\n",
       "      <td>289.530000</td>\n",
       "    </tr>\n",
       "    <tr>\n",
       "      <th>3ds</th>\n",
       "      <td>257.810000</td>\n",
       "    </tr>\n",
       "    <tr>\n",
       "      <th>pc</th>\n",
       "      <td>255.760000</td>\n",
       "    </tr>\n",
       "    <tr>\n",
       "      <th>gb</th>\n",
       "      <td>254.430000</td>\n",
       "    </tr>\n",
       "    <tr>\n",
       "      <th>xb</th>\n",
       "      <td>251.570000</td>\n",
       "    </tr>\n",
       "    <tr>\n",
       "      <th>nes</th>\n",
       "      <td>251.050000</td>\n",
       "    </tr>\n",
       "    <tr>\n",
       "      <th>n64</th>\n",
       "      <td>218.010000</td>\n",
       "    </tr>\n",
       "    <tr>\n",
       "      <th>snes</th>\n",
       "      <td>200.040000</td>\n",
       "    </tr>\n",
       "    <tr>\n",
       "      <th>gc</th>\n",
       "      <td>196.730000</td>\n",
       "    </tr>\n",
       "    <tr>\n",
       "      <th>xone</th>\n",
       "      <td>159.320000</td>\n",
       "    </tr>\n",
       "    <tr>\n",
       "      <th>2600</th>\n",
       "      <td>86.480000</td>\n",
       "    </tr>\n",
       "    <tr>\n",
       "      <th>wiiu</th>\n",
       "      <td>82.190000</td>\n",
       "    </tr>\n",
       "    <tr>\n",
       "      <th>psv</th>\n",
       "      <td>53.810000</td>\n",
       "    </tr>\n",
       "    <tr>\n",
       "      <th>sat</th>\n",
       "      <td>33.590000</td>\n",
       "    </tr>\n",
       "    <tr>\n",
       "      <th>gen</th>\n",
       "      <td>28.350000</td>\n",
       "    </tr>\n",
       "    <tr>\n",
       "      <th>dc</th>\n",
       "      <td>15.950000</td>\n",
       "    </tr>\n",
       "    <tr>\n",
       "      <th>scd</th>\n",
       "      <td>1.860000</td>\n",
       "    </tr>\n",
       "    <tr>\n",
       "      <th>ng</th>\n",
       "      <td>1.440000</td>\n",
       "    </tr>\n",
       "    <tr>\n",
       "      <th>ws</th>\n",
       "      <td>1.420000</td>\n",
       "    </tr>\n",
       "    <tr>\n",
       "      <th>tg16</th>\n",
       "      <td>0.160000</td>\n",
       "    </tr>\n",
       "    <tr>\n",
       "      <th>3do</th>\n",
       "      <td>0.100000</td>\n",
       "    </tr>\n",
       "    <tr>\n",
       "      <th>gg</th>\n",
       "      <td>0.040000</td>\n",
       "    </tr>\n",
       "    <tr>\n",
       "      <th>pcfx</th>\n",
       "      <td>0.030000</td>\n",
       "    </tr>\n",
       "  </tbody>\n",
       "</table>\n",
       "</div>"
      ],
      "text/plain": [
       "                  sum\n",
       "platform             \n",
       "ps2       1233.559999\n",
       "x360       961.240000\n",
       "ps3        931.340000\n",
       "wii        891.179999\n",
       "ds         802.780000\n",
       "ps         727.580000\n",
       "ps4        314.140000\n",
       "gba        312.880000\n",
       "psp        289.530000\n",
       "3ds        257.810000\n",
       "pc         255.760000\n",
       "gb         254.430000\n",
       "xb         251.570000\n",
       "nes        251.050000\n",
       "n64        218.010000\n",
       "snes       200.040000\n",
       "gc         196.730000\n",
       "xone       159.320000\n",
       "2600        86.480000\n",
       "wiiu        82.190000\n",
       "psv         53.810000\n",
       "sat         33.590000\n",
       "gen         28.350000\n",
       "dc          15.950000\n",
       "scd          1.860000\n",
       "ng           1.440000\n",
       "ws           1.420000\n",
       "tg16         0.160000\n",
       "3do          0.100000\n",
       "gg           0.040000\n",
       "pcfx         0.030000"
      ]
     },
     "metadata": {},
     "output_type": "display_data"
    },
    {
     "data": {
      "text/html": [
       "<div>\n",
       "<style scoped>\n",
       "    .dataframe tbody tr th:only-of-type {\n",
       "        vertical-align: middle;\n",
       "    }\n",
       "\n",
       "    .dataframe tbody tr th {\n",
       "        vertical-align: top;\n",
       "    }\n",
       "\n",
       "    .dataframe thead th {\n",
       "        text-align: right;\n",
       "    }\n",
       "</style>\n",
       "<table border=\"1\" class=\"dataframe\">\n",
       "  <thead>\n",
       "    <tr style=\"text-align: right;\">\n",
       "      <th></th>\n",
       "      <th>sum</th>\n",
       "    </tr>\n",
       "    <tr>\n",
       "      <th>platform</th>\n",
       "      <th></th>\n",
       "    </tr>\n",
       "  </thead>\n",
       "  <tbody>\n",
       "    <tr>\n",
       "      <th>ps2</th>\n",
       "      <td>1233.559999</td>\n",
       "    </tr>\n",
       "    <tr>\n",
       "      <th>x360</th>\n",
       "      <td>961.240000</td>\n",
       "    </tr>\n",
       "    <tr>\n",
       "      <th>ps3</th>\n",
       "      <td>931.340000</td>\n",
       "    </tr>\n",
       "    <tr>\n",
       "      <th>wii</th>\n",
       "      <td>891.179999</td>\n",
       "    </tr>\n",
       "    <tr>\n",
       "      <th>ds</th>\n",
       "      <td>802.780000</td>\n",
       "    </tr>\n",
       "    <tr>\n",
       "      <th>ps</th>\n",
       "      <td>727.580000</td>\n",
       "    </tr>\n",
       "  </tbody>\n",
       "</table>\n",
       "</div>"
      ],
      "text/plain": [
       "                  sum\n",
       "platform             \n",
       "ps2       1233.559999\n",
       "x360       961.240000\n",
       "ps3        931.340000\n",
       "wii        891.179999\n",
       "ds         802.780000\n",
       "ps         727.580000"
      ]
     },
     "metadata": {},
     "output_type": "display_data"
    }
   ],
   "source": [
    "top_platform = data.groupby(['platform'])['total_sales'].agg(['sum']).sort_values(['sum'],ascending=False)\n",
    "display(top_platform)\n",
    "top_platform = top_platform.head(6)\n",
    "display(top_platform)"
   ]
  },
  {
   "cell_type": "code",
   "execution_count": 38,
   "id": "5a87b51d",
   "metadata": {},
   "outputs": [
    {
     "data": {
      "image/png": "[encoded data removed]",
      "text/plain": [
       "<Figure size 432x288 with 1 Axes>"
      ]
     },
     "metadata": {
      "needs_background": "light"
     },
     "output_type": "display_data"
    },
    {
     "data": {
      "image/png": "[encoded data removed]",
      "text/plain": [
       "<Figure size 432x288 with 1 Axes>"
      ]
     },
     "metadata": {
      "needs_background": "light"
     },
     "output_type": "display_data"
    },
    {
     "data": {
      "image/png": "[encoded data removed]",
      "text/plain": [
       "<Figure size 432x288 with 1 Axes>"
      ]
     },
     "metadata": {
      "needs_background": "light"
     },
     "output_type": "display_data"
    },
    {
     "data": {
      "image/png": "[encoded data removed]",
      "text/plain": [
       "<Figure size 432x288 with 1 Axes>"
      ]
     },
     "metadata": {
      "needs_background": "light"
     },
     "output_type": "display_data"
    },
    {
     "data": {
      "image/png": "[encoded data removed]",
      "text/plain": [
       "<Figure size 432x288 with 1 Axes>"
      ]
     },
     "metadata": {
      "needs_background": "light"
     },
     "output_type": "display_data"
    },
    {
     "data": {
      "image/png": "[encoded data removed]",
      "text/plain": [
       "<Figure size 432x288 with 1 Axes>"
      ]
     },
     "metadata": {
      "needs_background": "light"
     },
     "output_type": "display_data"
    }
   ],
   "source": [
    "for index in top_platform.index:\n",
    "    data[data['platform'] == index].pivot_table(index='year_of_release', values='total_sales', aggfunc='sum').sort_values(by='year_of_release').plot(title=index, grid=True, ylabel='total_sales')"
   ]
  },
  {
   "cell_type": "markdown",
   "id": "c23896ab",
   "metadata": {},
   "source": [
    "**Вывод**\n",
    "\n",
    "Как видно из графиков, характерный период популярности платформы- 10 лет. Поэтому актуальными будем считать платформы, которые вышли после 2012 года и персональные компьютеры, поскольку они актуальны всегда из-за возможности их модернизации."
   ]
  },
  {
   "cell_type": "markdown",
   "id": "b645ff38",
   "metadata": {},
   "source": [
    "### 2.3 Актуальные данные"
   ]
  },
  {
   "cell_type": "code",
   "execution_count": 39,
   "id": "8d217037",
   "metadata": {
    "scrolled": false
   },
   "outputs": [
    {
     "data": {
      "text/html": [
       "<div>\n",
       "<style scoped>\n",
       "    .dataframe tbody tr th:only-of-type {\n",
       "        vertical-align: middle;\n",
       "    }\n",
       "\n",
       "    .dataframe tbody tr th {\n",
       "        vertical-align: top;\n",
       "    }\n",
       "\n",
       "    .dataframe thead th {\n",
       "        text-align: right;\n",
       "    }\n",
       "</style>\n",
       "<table border=\"1\" class=\"dataframe\">\n",
       "  <thead>\n",
       "    <tr style=\"text-align: right;\">\n",
       "      <th></th>\n",
       "      <th>min</th>\n",
       "    </tr>\n",
       "    <tr>\n",
       "      <th>platform</th>\n",
       "      <th></th>\n",
       "    </tr>\n",
       "  </thead>\n",
       "  <tbody>\n",
       "    <tr>\n",
       "      <th>ps4</th>\n",
       "      <td>2013</td>\n",
       "    </tr>\n",
       "    <tr>\n",
       "      <th>xone</th>\n",
       "      <td>2013</td>\n",
       "    </tr>\n",
       "    <tr>\n",
       "      <th>pc</th>\n",
       "      <td>2013</td>\n",
       "    </tr>\n",
       "  </tbody>\n",
       "</table>\n",
       "</div>"
      ],
      "text/plain": [
       "           min\n",
       "platform      \n",
       "ps4       2013\n",
       "xone      2013\n",
       "pc        2013"
      ]
     },
     "metadata": {},
     "output_type": "display_data"
    }
   ],
   "source": [
    "years_of_release = data.groupby(['platform'])['year_of_release'].agg(['min'])\n",
    "years_of_release = years_of_release[years_of_release['min'] > 2012]\n",
    "years_of_release.loc['pc'] = 2013\n",
    "display(years_of_release)\n",
    "actual_data = data.query('year_of_release > 2012')\n",
    "actual_platforms = data.query('(platform in @years_of_release.index) and (year_of_release > 2012)')\n",
    "actual_platforms = actual_platforms.reset_index(drop=True)"
   ]
  },
  {
   "cell_type": "code",
   "execution_count": 40,
   "id": "4c49fb4c",
   "metadata": {},
   "outputs": [
    {
     "name": "stdout",
     "output_type": "stream",
     "text": [
      "<class 'pandas.core.frame.DataFrame'>\n",
      "RangeIndex: 828 entries, 0 to 827\n",
      "Data columns (total 12 columns):\n",
      " #   Column           Non-Null Count  Dtype  \n",
      "---  ------           --------------  -----  \n",
      " 0   name             828 non-null    object \n",
      " 1   platform         828 non-null    object \n",
      " 2   year_of_release  828 non-null    int32  \n",
      " 3   genre            828 non-null    object \n",
      " 4   na_sales         828 non-null    float64\n",
      " 5   eu_sales         828 non-null    float64\n",
      " 6   jp_sales         828 non-null    float32\n",
      " 7   other_sales      828 non-null    float32\n",
      " 8   critic_score     828 non-null    int8   \n",
      " 9   user_score       828 non-null    int8   \n",
      " 10  rating           828 non-null    object \n",
      " 11  total_sales      828 non-null    float64\n",
      "dtypes: float32(2), float64(3), int32(1), int8(2), object(4)\n",
      "memory usage: 56.7+ KB\n"
     ]
    },
    {
     "data": {
      "text/html": [
       "<div>\n",
       "<style scoped>\n",
       "    .dataframe tbody tr th:only-of-type {\n",
       "        vertical-align: middle;\n",
       "    }\n",
       "\n",
       "    .dataframe tbody tr th {\n",
       "        vertical-align: top;\n",
       "    }\n",
       "\n",
       "    .dataframe thead th {\n",
       "        text-align: right;\n",
       "    }\n",
       "</style>\n",
       "<table border=\"1\" class=\"dataframe\">\n",
       "  <thead>\n",
       "    <tr style=\"text-align: right;\">\n",
       "      <th></th>\n",
       "      <th>name</th>\n",
       "      <th>platform</th>\n",
       "      <th>year_of_release</th>\n",
       "      <th>genre</th>\n",
       "      <th>na_sales</th>\n",
       "      <th>eu_sales</th>\n",
       "      <th>jp_sales</th>\n",
       "      <th>other_sales</th>\n",
       "      <th>critic_score</th>\n",
       "      <th>user_score</th>\n",
       "      <th>rating</th>\n",
       "      <th>total_sales</th>\n",
       "    </tr>\n",
       "  </thead>\n",
       "  <tbody>\n",
       "    <tr>\n",
       "      <th>0</th>\n",
       "      <td>call of duty: black ops 3</td>\n",
       "      <td>ps4</td>\n",
       "      <td>2015</td>\n",
       "      <td>shooter</td>\n",
       "      <td>6.03</td>\n",
       "      <td>5.86</td>\n",
       "      <td>0.36</td>\n",
       "      <td>2.38</td>\n",
       "      <td>-1</td>\n",
       "      <td>-1</td>\n",
       "      <td>other</td>\n",
       "      <td>14.63</td>\n",
       "    </tr>\n",
       "    <tr>\n",
       "      <th>1</th>\n",
       "      <td>grand theft auto v</td>\n",
       "      <td>ps4</td>\n",
       "      <td>2014</td>\n",
       "      <td>action</td>\n",
       "      <td>3.96</td>\n",
       "      <td>6.31</td>\n",
       "      <td>0.38</td>\n",
       "      <td>1.97</td>\n",
       "      <td>97</td>\n",
       "      <td>83</td>\n",
       "      <td>m</td>\n",
       "      <td>12.62</td>\n",
       "    </tr>\n",
       "    <tr>\n",
       "      <th>2</th>\n",
       "      <td>fifa 16</td>\n",
       "      <td>ps4</td>\n",
       "      <td>2015</td>\n",
       "      <td>sports</td>\n",
       "      <td>1.12</td>\n",
       "      <td>6.12</td>\n",
       "      <td>0.06</td>\n",
       "      <td>1.28</td>\n",
       "      <td>82</td>\n",
       "      <td>43</td>\n",
       "      <td>e</td>\n",
       "      <td>8.58</td>\n",
       "    </tr>\n",
       "    <tr>\n",
       "      <th>3</th>\n",
       "      <td>star wars battlefront (2015)</td>\n",
       "      <td>ps4</td>\n",
       "      <td>2015</td>\n",
       "      <td>shooter</td>\n",
       "      <td>2.99</td>\n",
       "      <td>3.49</td>\n",
       "      <td>0.22</td>\n",
       "      <td>1.28</td>\n",
       "      <td>-1</td>\n",
       "      <td>-1</td>\n",
       "      <td>other</td>\n",
       "      <td>7.98</td>\n",
       "    </tr>\n",
       "    <tr>\n",
       "      <th>4</th>\n",
       "      <td>call of duty: advanced warfare</td>\n",
       "      <td>ps4</td>\n",
       "      <td>2014</td>\n",
       "      <td>shooter</td>\n",
       "      <td>2.81</td>\n",
       "      <td>3.48</td>\n",
       "      <td>0.14</td>\n",
       "      <td>1.23</td>\n",
       "      <td>83</td>\n",
       "      <td>57</td>\n",
       "      <td>m</td>\n",
       "      <td>7.66</td>\n",
       "    </tr>\n",
       "    <tr>\n",
       "      <th>...</th>\n",
       "      <td>...</td>\n",
       "      <td>...</td>\n",
       "      <td>...</td>\n",
       "      <td>...</td>\n",
       "      <td>...</td>\n",
       "      <td>...</td>\n",
       "      <td>...</td>\n",
       "      <td>...</td>\n",
       "      <td>...</td>\n",
       "      <td>...</td>\n",
       "      <td>...</td>\n",
       "      <td>...</td>\n",
       "    </tr>\n",
       "    <tr>\n",
       "      <th>823</th>\n",
       "      <td>rugby challenge 3</td>\n",
       "      <td>xone</td>\n",
       "      <td>2016</td>\n",
       "      <td>sports</td>\n",
       "      <td>0.00</td>\n",
       "      <td>0.01</td>\n",
       "      <td>0.00</td>\n",
       "      <td>0.00</td>\n",
       "      <td>-1</td>\n",
       "      <td>66</td>\n",
       "      <td>e</td>\n",
       "      <td>0.01</td>\n",
       "    </tr>\n",
       "    <tr>\n",
       "      <th>824</th>\n",
       "      <td>zombiu</td>\n",
       "      <td>xone</td>\n",
       "      <td>2016</td>\n",
       "      <td>action</td>\n",
       "      <td>0.00</td>\n",
       "      <td>0.01</td>\n",
       "      <td>0.00</td>\n",
       "      <td>0.00</td>\n",
       "      <td>-1</td>\n",
       "      <td>-1</td>\n",
       "      <td>other</td>\n",
       "      <td>0.01</td>\n",
       "    </tr>\n",
       "    <tr>\n",
       "      <th>825</th>\n",
       "      <td>prison architect</td>\n",
       "      <td>xone</td>\n",
       "      <td>2016</td>\n",
       "      <td>action</td>\n",
       "      <td>0.01</td>\n",
       "      <td>0.00</td>\n",
       "      <td>0.00</td>\n",
       "      <td>0.00</td>\n",
       "      <td>74</td>\n",
       "      <td>67</td>\n",
       "      <td>other</td>\n",
       "      <td>0.01</td>\n",
       "    </tr>\n",
       "    <tr>\n",
       "      <th>826</th>\n",
       "      <td>metal gear solid v: the definitive experience</td>\n",
       "      <td>xone</td>\n",
       "      <td>2016</td>\n",
       "      <td>action</td>\n",
       "      <td>0.01</td>\n",
       "      <td>0.00</td>\n",
       "      <td>0.00</td>\n",
       "      <td>0.00</td>\n",
       "      <td>-1</td>\n",
       "      <td>-1</td>\n",
       "      <td>m</td>\n",
       "      <td>0.01</td>\n",
       "    </tr>\n",
       "    <tr>\n",
       "      <th>827</th>\n",
       "      <td>metal gear solid v: ground zeroes</td>\n",
       "      <td>pc</td>\n",
       "      <td>2014</td>\n",
       "      <td>action</td>\n",
       "      <td>0.00</td>\n",
       "      <td>0.01</td>\n",
       "      <td>0.00</td>\n",
       "      <td>0.00</td>\n",
       "      <td>80</td>\n",
       "      <td>76</td>\n",
       "      <td>m</td>\n",
       "      <td>0.01</td>\n",
       "    </tr>\n",
       "  </tbody>\n",
       "</table>\n",
       "<p>828 rows × 12 columns</p>\n",
       "</div>"
      ],
      "text/plain": [
       "                                              name platform  year_of_release  \\\n",
       "0                        call of duty: black ops 3      ps4             2015   \n",
       "1                               grand theft auto v      ps4             2014   \n",
       "2                                          fifa 16      ps4             2015   \n",
       "3                     star wars battlefront (2015)      ps4             2015   \n",
       "4                   call of duty: advanced warfare      ps4             2014   \n",
       "..                                             ...      ...              ...   \n",
       "823                              rugby challenge 3     xone             2016   \n",
       "824                                         zombiu     xone             2016   \n",
       "825                               prison architect     xone             2016   \n",
       "826  metal gear solid v: the definitive experience     xone             2016   \n",
       "827              metal gear solid v: ground zeroes       pc             2014   \n",
       "\n",
       "       genre  na_sales  eu_sales  jp_sales  other_sales  critic_score  \\\n",
       "0    shooter      6.03      5.86      0.36         2.38            -1   \n",
       "1     action      3.96      6.31      0.38         1.97            97   \n",
       "2     sports      1.12      6.12      0.06         1.28            82   \n",
       "3    shooter      2.99      3.49      0.22         1.28            -1   \n",
       "4    shooter      2.81      3.48      0.14         1.23            83   \n",
       "..       ...       ...       ...       ...          ...           ...   \n",
       "823   sports      0.00      0.01      0.00         0.00            -1   \n",
       "824   action      0.00      0.01      0.00         0.00            -1   \n",
       "825   action      0.01      0.00      0.00         0.00            74   \n",
       "826   action      0.01      0.00      0.00         0.00            -1   \n",
       "827   action      0.00      0.01      0.00         0.00            80   \n",
       "\n",
       "     user_score rating  total_sales  \n",
       "0            -1  other        14.63  \n",
       "1            83      m        12.62  \n",
       "2            43      e         8.58  \n",
       "3            -1  other         7.98  \n",
       "4            57      m         7.66  \n",
       "..          ...    ...          ...  \n",
       "823          66      e         0.01  \n",
       "824          -1  other         0.01  \n",
       "825          67  other         0.01  \n",
       "826          -1      m         0.01  \n",
       "827          76      m         0.01  \n",
       "\n",
       "[828 rows x 12 columns]"
      ]
     },
     "execution_count": 40,
     "metadata": {},
     "output_type": "execute_result"
    }
   ],
   "source": [
    "actual_platforms.info()\n",
    "actual_platforms"
   ]
  },
  {
   "cell_type": "code",
   "execution_count": 41,
   "id": "9ed9919b",
   "metadata": {},
   "outputs": [
    {
     "data": {
      "image/png": "[encoded data removed]",
      "text/plain": [
       "<Figure size 432x288 with 1 Axes>"
      ]
     },
     "metadata": {
      "needs_background": "light"
     },
     "output_type": "display_data"
    },
    {
     "data": {
      "image/png": "[encoded data removed]",
      "text/plain": [
       "<Figure size 432x288 with 1 Axes>"
      ]
     },
     "metadata": {
      "needs_background": "light"
     },
     "output_type": "display_data"
    },
    {
     "data": {
      "image/png": "[encoded data removed]",
      "text/plain": [
       "<Figure size 432x288 with 1 Axes>"
      ]
     },
     "metadata": {
      "needs_background": "light"
     },
     "output_type": "display_data"
    }
   ],
   "source": [
    "for index in years_of_release.index:\n",
    "    actual_platforms[actual_platforms['platform'] == index].pivot_table(index='year_of_release', values='total_sales', aggfunc='sum').sort_values(by='year_of_release').plot(title=index, grid=True, ylabel='total_sales')"
   ]
  },
  {
   "cell_type": "markdown",
   "id": "31481b8e",
   "metadata": {},
   "source": [
    "Среди актуальных платформ нет растущих показателей продаж. Лидерами среди них по состоянию на 2016 год являются ps4 и xone (70 и 26 млн копий). Помимо этого данные платформы будут актуальны еще примерно 6-7 лет. pc не стоит рассматривать, так как ее показатели на 2016 год достаточно низкие и нет причин ожидать скачка продаж как в 2011. Таким образом потенциально прибыльны два варианта: ps4 и xone."
   ]
  },
  {
   "cell_type": "code",
   "execution_count": 42,
   "id": "66390d23",
   "metadata": {
    "scrolled": false
   },
   "outputs": [
    {
     "name": "stdout",
     "output_type": "stream",
     "text": [
      "<class 'pandas.core.frame.DataFrame'>\n",
      "RangeIndex: 639 entries, 0 to 638\n",
      "Data columns (total 12 columns):\n",
      " #   Column           Non-Null Count  Dtype  \n",
      "---  ------           --------------  -----  \n",
      " 0   name             639 non-null    object \n",
      " 1   platform         639 non-null    object \n",
      " 2   year_of_release  639 non-null    int32  \n",
      " 3   genre            639 non-null    object \n",
      " 4   na_sales         639 non-null    float64\n",
      " 5   eu_sales         639 non-null    float64\n",
      " 6   jp_sales         639 non-null    float32\n",
      " 7   other_sales      639 non-null    float32\n",
      " 8   critic_score     639 non-null    int8   \n",
      " 9   user_score       639 non-null    int8   \n",
      " 10  rating           639 non-null    object \n",
      " 11  total_sales      639 non-null    float64\n",
      "dtypes: float32(2), float64(3), int32(1), int8(2), object(4)\n",
      "memory usage: 43.8+ KB\n"
     ]
    },
    {
     "data": {
      "text/html": [
       "<div>\n",
       "<style scoped>\n",
       "    .dataframe tbody tr th:only-of-type {\n",
       "        vertical-align: middle;\n",
       "    }\n",
       "\n",
       "    .dataframe tbody tr th {\n",
       "        vertical-align: top;\n",
       "    }\n",
       "\n",
       "    .dataframe thead th {\n",
       "        text-align: right;\n",
       "    }\n",
       "</style>\n",
       "<table border=\"1\" class=\"dataframe\">\n",
       "  <thead>\n",
       "    <tr style=\"text-align: right;\">\n",
       "      <th></th>\n",
       "      <th>name</th>\n",
       "      <th>platform</th>\n",
       "      <th>year_of_release</th>\n",
       "      <th>genre</th>\n",
       "      <th>na_sales</th>\n",
       "      <th>eu_sales</th>\n",
       "      <th>jp_sales</th>\n",
       "      <th>other_sales</th>\n",
       "      <th>critic_score</th>\n",
       "      <th>user_score</th>\n",
       "      <th>rating</th>\n",
       "      <th>total_sales</th>\n",
       "    </tr>\n",
       "  </thead>\n",
       "  <tbody>\n",
       "    <tr>\n",
       "      <th>0</th>\n",
       "      <td>call of duty: black ops 3</td>\n",
       "      <td>ps4</td>\n",
       "      <td>2015</td>\n",
       "      <td>shooter</td>\n",
       "      <td>6.03</td>\n",
       "      <td>5.86</td>\n",
       "      <td>0.36</td>\n",
       "      <td>2.38</td>\n",
       "      <td>-1</td>\n",
       "      <td>-1</td>\n",
       "      <td>other</td>\n",
       "      <td>14.63</td>\n",
       "    </tr>\n",
       "    <tr>\n",
       "      <th>1</th>\n",
       "      <td>grand theft auto v</td>\n",
       "      <td>ps4</td>\n",
       "      <td>2014</td>\n",
       "      <td>action</td>\n",
       "      <td>3.96</td>\n",
       "      <td>6.31</td>\n",
       "      <td>0.38</td>\n",
       "      <td>1.97</td>\n",
       "      <td>97</td>\n",
       "      <td>83</td>\n",
       "      <td>m</td>\n",
       "      <td>12.62</td>\n",
       "    </tr>\n",
       "    <tr>\n",
       "      <th>2</th>\n",
       "      <td>fifa 16</td>\n",
       "      <td>ps4</td>\n",
       "      <td>2015</td>\n",
       "      <td>sports</td>\n",
       "      <td>1.12</td>\n",
       "      <td>6.12</td>\n",
       "      <td>0.06</td>\n",
       "      <td>1.28</td>\n",
       "      <td>82</td>\n",
       "      <td>43</td>\n",
       "      <td>e</td>\n",
       "      <td>8.58</td>\n",
       "    </tr>\n",
       "    <tr>\n",
       "      <th>3</th>\n",
       "      <td>star wars battlefront (2015)</td>\n",
       "      <td>ps4</td>\n",
       "      <td>2015</td>\n",
       "      <td>shooter</td>\n",
       "      <td>2.99</td>\n",
       "      <td>3.49</td>\n",
       "      <td>0.22</td>\n",
       "      <td>1.28</td>\n",
       "      <td>-1</td>\n",
       "      <td>-1</td>\n",
       "      <td>other</td>\n",
       "      <td>7.98</td>\n",
       "    </tr>\n",
       "    <tr>\n",
       "      <th>4</th>\n",
       "      <td>call of duty: advanced warfare</td>\n",
       "      <td>ps4</td>\n",
       "      <td>2014</td>\n",
       "      <td>shooter</td>\n",
       "      <td>2.81</td>\n",
       "      <td>3.48</td>\n",
       "      <td>0.14</td>\n",
       "      <td>1.23</td>\n",
       "      <td>83</td>\n",
       "      <td>57</td>\n",
       "      <td>m</td>\n",
       "      <td>7.66</td>\n",
       "    </tr>\n",
       "    <tr>\n",
       "      <th>...</th>\n",
       "      <td>...</td>\n",
       "      <td>...</td>\n",
       "      <td>...</td>\n",
       "      <td>...</td>\n",
       "      <td>...</td>\n",
       "      <td>...</td>\n",
       "      <td>...</td>\n",
       "      <td>...</td>\n",
       "      <td>...</td>\n",
       "      <td>...</td>\n",
       "      <td>...</td>\n",
       "      <td>...</td>\n",
       "    </tr>\n",
       "    <tr>\n",
       "      <th>634</th>\n",
       "      <td>sébastien loeb rally evo</td>\n",
       "      <td>xone</td>\n",
       "      <td>2016</td>\n",
       "      <td>racing</td>\n",
       "      <td>0.00</td>\n",
       "      <td>0.01</td>\n",
       "      <td>0.00</td>\n",
       "      <td>0.00</td>\n",
       "      <td>63</td>\n",
       "      <td>82</td>\n",
       "      <td>e</td>\n",
       "      <td>0.01</td>\n",
       "    </tr>\n",
       "    <tr>\n",
       "      <th>635</th>\n",
       "      <td>rugby challenge 3</td>\n",
       "      <td>xone</td>\n",
       "      <td>2016</td>\n",
       "      <td>sports</td>\n",
       "      <td>0.00</td>\n",
       "      <td>0.01</td>\n",
       "      <td>0.00</td>\n",
       "      <td>0.00</td>\n",
       "      <td>-1</td>\n",
       "      <td>66</td>\n",
       "      <td>e</td>\n",
       "      <td>0.01</td>\n",
       "    </tr>\n",
       "    <tr>\n",
       "      <th>636</th>\n",
       "      <td>zombiu</td>\n",
       "      <td>xone</td>\n",
       "      <td>2016</td>\n",
       "      <td>action</td>\n",
       "      <td>0.00</td>\n",
       "      <td>0.01</td>\n",
       "      <td>0.00</td>\n",
       "      <td>0.00</td>\n",
       "      <td>-1</td>\n",
       "      <td>-1</td>\n",
       "      <td>other</td>\n",
       "      <td>0.01</td>\n",
       "    </tr>\n",
       "    <tr>\n",
       "      <th>637</th>\n",
       "      <td>prison architect</td>\n",
       "      <td>xone</td>\n",
       "      <td>2016</td>\n",
       "      <td>action</td>\n",
       "      <td>0.01</td>\n",
       "      <td>0.00</td>\n",
       "      <td>0.00</td>\n",
       "      <td>0.00</td>\n",
       "      <td>74</td>\n",
       "      <td>67</td>\n",
       "      <td>other</td>\n",
       "      <td>0.01</td>\n",
       "    </tr>\n",
       "    <tr>\n",
       "      <th>638</th>\n",
       "      <td>metal gear solid v: the definitive experience</td>\n",
       "      <td>xone</td>\n",
       "      <td>2016</td>\n",
       "      <td>action</td>\n",
       "      <td>0.01</td>\n",
       "      <td>0.00</td>\n",
       "      <td>0.00</td>\n",
       "      <td>0.00</td>\n",
       "      <td>-1</td>\n",
       "      <td>-1</td>\n",
       "      <td>m</td>\n",
       "      <td>0.01</td>\n",
       "    </tr>\n",
       "  </tbody>\n",
       "</table>\n",
       "<p>639 rows × 12 columns</p>\n",
       "</div>"
      ],
      "text/plain": [
       "                                              name platform  year_of_release  \\\n",
       "0                        call of duty: black ops 3      ps4             2015   \n",
       "1                               grand theft auto v      ps4             2014   \n",
       "2                                          fifa 16      ps4             2015   \n",
       "3                     star wars battlefront (2015)      ps4             2015   \n",
       "4                   call of duty: advanced warfare      ps4             2014   \n",
       "..                                             ...      ...              ...   \n",
       "634                       sébastien loeb rally evo     xone             2016   \n",
       "635                              rugby challenge 3     xone             2016   \n",
       "636                                         zombiu     xone             2016   \n",
       "637                               prison architect     xone             2016   \n",
       "638  metal gear solid v: the definitive experience     xone             2016   \n",
       "\n",
       "       genre  na_sales  eu_sales  jp_sales  other_sales  critic_score  \\\n",
       "0    shooter      6.03      5.86      0.36         2.38            -1   \n",
       "1     action      3.96      6.31      0.38         1.97            97   \n",
       "2     sports      1.12      6.12      0.06         1.28            82   \n",
       "3    shooter      2.99      3.49      0.22         1.28            -1   \n",
       "4    shooter      2.81      3.48      0.14         1.23            83   \n",
       "..       ...       ...       ...       ...          ...           ...   \n",
       "634   racing      0.00      0.01      0.00         0.00            63   \n",
       "635   sports      0.00      0.01      0.00         0.00            -1   \n",
       "636   action      0.00      0.01      0.00         0.00            -1   \n",
       "637   action      0.01      0.00      0.00         0.00            74   \n",
       "638   action      0.01      0.00      0.00         0.00            -1   \n",
       "\n",
       "     user_score rating  total_sales  \n",
       "0            -1  other        14.63  \n",
       "1            83      m        12.62  \n",
       "2            43      e         8.58  \n",
       "3            -1  other         7.98  \n",
       "4            57      m         7.66  \n",
       "..          ...    ...          ...  \n",
       "634          82      e         0.01  \n",
       "635          66      e         0.01  \n",
       "636          -1  other         0.01  \n",
       "637          67  other         0.01  \n",
       "638          -1      m         0.01  \n",
       "\n",
       "[639 rows x 12 columns]"
      ]
     },
     "execution_count": 42,
     "metadata": {},
     "output_type": "execute_result"
    }
   ],
   "source": [
    "top_actual_platforms = actual_platforms.query('(platform == \"ps4\") or (platform == \"xone\")')\n",
    "top_actual_platforms = top_actual_platforms.reset_index(drop=True)\n",
    "top_actual_platforms.info()\n",
    "top_actual_platforms"
   ]
  },
  {
   "cell_type": "code",
   "execution_count": 43,
   "id": "42c4cc36",
   "metadata": {},
   "outputs": [
    {
     "data": {
      "image/png": "[encoded data removed]",
      "text/plain": [
       "<Figure size 432x288 with 1 Axes>"
      ]
     },
     "metadata": {
      "needs_background": "light"
     },
     "output_type": "display_data"
    },
    {
     "data": {
      "text/plain": [
       "(0.0, 2.0)"
      ]
     },
     "execution_count": 43,
     "metadata": {},
     "output_type": "execute_result"
    },
    {
     "data": {
      "image/png": "[encoded data removed]",
      "text/plain": [
       "<Figure size 432x288 with 1 Axes>"
      ]
     },
     "metadata": {
      "needs_background": "light"
     },
     "output_type": "display_data"
    }
   ],
   "source": [
    "sns.boxplot(x='platform', y='total_sales', data=actual_data)\n",
    "plt.show()\n",
    "sns.boxplot(x='platform', y='total_sales', data=actual_data).set_ylim([0, 2])\n",
    "#actual_data.boxplot(column=['total_sales'], by=['platform'])\n",
    "#plt.show()\n",
    "#actual_data.boxplot(column=['total_sales'], by=['platform'])\n",
    "#plt.ylim(0, 2)\n",
    "#plt.show()"
   ]
  },
  {
   "cell_type": "code",
   "execution_count": 44,
   "id": "1ac46b17",
   "metadata": {},
   "outputs": [
    {
     "data": {
      "text/html": [
       "<div>\n",
       "<style scoped>\n",
       "    .dataframe tbody tr th:only-of-type {\n",
       "        vertical-align: middle;\n",
       "    }\n",
       "\n",
       "    .dataframe tbody tr th {\n",
       "        vertical-align: top;\n",
       "    }\n",
       "\n",
       "    .dataframe thead th {\n",
       "        text-align: right;\n",
       "    }\n",
       "</style>\n",
       "<table border=\"1\" class=\"dataframe\">\n",
       "  <thead>\n",
       "    <tr style=\"text-align: right;\">\n",
       "      <th></th>\n",
       "      <th>count</th>\n",
       "      <th>mean</th>\n",
       "      <th>std</th>\n",
       "      <th>min</th>\n",
       "      <th>25%</th>\n",
       "      <th>50%</th>\n",
       "      <th>75%</th>\n",
       "      <th>max</th>\n",
       "    </tr>\n",
       "    <tr>\n",
       "      <th>platform</th>\n",
       "      <th></th>\n",
       "      <th></th>\n",
       "      <th></th>\n",
       "      <th></th>\n",
       "      <th></th>\n",
       "      <th></th>\n",
       "      <th></th>\n",
       "      <th></th>\n",
       "    </tr>\n",
       "  </thead>\n",
       "  <tbody>\n",
       "    <tr>\n",
       "      <th>3ds</th>\n",
       "      <td>303.0</td>\n",
       "      <td>0.472772</td>\n",
       "      <td>1.381347</td>\n",
       "      <td>0.01</td>\n",
       "      <td>0.0400</td>\n",
       "      <td>0.090</td>\n",
       "      <td>0.2800</td>\n",
       "      <td>14.60</td>\n",
       "    </tr>\n",
       "    <tr>\n",
       "      <th>ds</th>\n",
       "      <td>8.0</td>\n",
       "      <td>0.192500</td>\n",
       "      <td>0.172026</td>\n",
       "      <td>0.03</td>\n",
       "      <td>0.0675</td>\n",
       "      <td>0.150</td>\n",
       "      <td>0.2525</td>\n",
       "      <td>0.51</td>\n",
       "    </tr>\n",
       "    <tr>\n",
       "      <th>pc</th>\n",
       "      <td>189.0</td>\n",
       "      <td>0.208624</td>\n",
       "      <td>0.352304</td>\n",
       "      <td>0.01</td>\n",
       "      <td>0.0300</td>\n",
       "      <td>0.080</td>\n",
       "      <td>0.2300</td>\n",
       "      <td>3.05</td>\n",
       "    </tr>\n",
       "    <tr>\n",
       "      <th>ps3</th>\n",
       "      <td>345.0</td>\n",
       "      <td>0.525884</td>\n",
       "      <td>1.451939</td>\n",
       "      <td>0.01</td>\n",
       "      <td>0.0400</td>\n",
       "      <td>0.150</td>\n",
       "      <td>0.5100</td>\n",
       "      <td>21.05</td>\n",
       "    </tr>\n",
       "    <tr>\n",
       "      <th>ps4</th>\n",
       "      <td>392.0</td>\n",
       "      <td>0.801378</td>\n",
       "      <td>1.609456</td>\n",
       "      <td>0.01</td>\n",
       "      <td>0.0600</td>\n",
       "      <td>0.200</td>\n",
       "      <td>0.7300</td>\n",
       "      <td>14.63</td>\n",
       "    </tr>\n",
       "    <tr>\n",
       "      <th>psp</th>\n",
       "      <td>67.0</td>\n",
       "      <td>0.052239</td>\n",
       "      <td>0.059768</td>\n",
       "      <td>0.01</td>\n",
       "      <td>0.0150</td>\n",
       "      <td>0.020</td>\n",
       "      <td>0.0700</td>\n",
       "      <td>0.24</td>\n",
       "    </tr>\n",
       "    <tr>\n",
       "      <th>psv</th>\n",
       "      <td>358.0</td>\n",
       "      <td>0.092151</td>\n",
       "      <td>0.153816</td>\n",
       "      <td>0.01</td>\n",
       "      <td>0.0200</td>\n",
       "      <td>0.040</td>\n",
       "      <td>0.1100</td>\n",
       "      <td>1.96</td>\n",
       "    </tr>\n",
       "    <tr>\n",
       "      <th>wii</th>\n",
       "      <td>23.0</td>\n",
       "      <td>0.593913</td>\n",
       "      <td>0.915432</td>\n",
       "      <td>0.01</td>\n",
       "      <td>0.0450</td>\n",
       "      <td>0.180</td>\n",
       "      <td>0.7550</td>\n",
       "      <td>3.58</td>\n",
       "    </tr>\n",
       "    <tr>\n",
       "      <th>wiiu</th>\n",
       "      <td>115.0</td>\n",
       "      <td>0.562000</td>\n",
       "      <td>1.038778</td>\n",
       "      <td>0.01</td>\n",
       "      <td>0.0600</td>\n",
       "      <td>0.200</td>\n",
       "      <td>0.5950</td>\n",
       "      <td>7.09</td>\n",
       "    </tr>\n",
       "    <tr>\n",
       "      <th>x360</th>\n",
       "      <td>186.0</td>\n",
       "      <td>0.735484</td>\n",
       "      <td>1.663275</td>\n",
       "      <td>0.01</td>\n",
       "      <td>0.0800</td>\n",
       "      <td>0.265</td>\n",
       "      <td>0.7950</td>\n",
       "      <td>16.27</td>\n",
       "    </tr>\n",
       "    <tr>\n",
       "      <th>xone</th>\n",
       "      <td>247.0</td>\n",
       "      <td>0.645020</td>\n",
       "      <td>1.036139</td>\n",
       "      <td>0.01</td>\n",
       "      <td>0.0600</td>\n",
       "      <td>0.220</td>\n",
       "      <td>0.6850</td>\n",
       "      <td>7.39</td>\n",
       "    </tr>\n",
       "  </tbody>\n",
       "</table>\n",
       "</div>"
      ],
      "text/plain": [
       "          count      mean       std   min     25%    50%     75%    max\n",
       "platform                                                               \n",
       "3ds       303.0  0.472772  1.381347  0.01  0.0400  0.090  0.2800  14.60\n",
       "ds          8.0  0.192500  0.172026  0.03  0.0675  0.150  0.2525   0.51\n",
       "pc        189.0  0.208624  0.352304  0.01  0.0300  0.080  0.2300   3.05\n",
       "ps3       345.0  0.525884  1.451939  0.01  0.0400  0.150  0.5100  21.05\n",
       "ps4       392.0  0.801378  1.609456  0.01  0.0600  0.200  0.7300  14.63\n",
       "psp        67.0  0.052239  0.059768  0.01  0.0150  0.020  0.0700   0.24\n",
       "psv       358.0  0.092151  0.153816  0.01  0.0200  0.040  0.1100   1.96\n",
       "wii        23.0  0.593913  0.915432  0.01  0.0450  0.180  0.7550   3.58\n",
       "wiiu      115.0  0.562000  1.038778  0.01  0.0600  0.200  0.5950   7.09\n",
       "x360      186.0  0.735484  1.663275  0.01  0.0800  0.265  0.7950  16.27\n",
       "xone      247.0  0.645020  1.036139  0.01  0.0600  0.220  0.6850   7.39"
      ]
     },
     "execution_count": 44,
     "metadata": {},
     "output_type": "execute_result"
    }
   ],
   "source": [
    "actual_data.groupby(by='platform')['total_sales'].describe()"
   ]
  },
  {
   "cell_type": "markdown",
   "id": "38cc9a86",
   "metadata": {},
   "source": [
    "Наилучший показатель медианных продаж у x360, однако данная платформа уже неактуальна. Среди платформ с наибольшими продажами достаточно много аномально успешных игр, которые оказывают сильное влияние на суммарные продажи. Среди актуальных платформ у ps4 встречается большее количество феноменально успешных игр, из-за чего у ps4 продаж примерно в 1.5 раза больше, однако у xone медианное значение продаж на 10% больше. Общие и медианные продажи pc относительно других актуальных платформ достаточно низкие."
   ]
  },
  {
   "cell_type": "markdown",
   "id": "24070599",
   "metadata": {},
   "source": [
    "Рассмотрим влияние отзывов критиков и пользователей на продажи у ps4. Построим диаграмму рассеяния:"
   ]
  },
  {
   "cell_type": "code",
   "execution_count": 45,
   "id": "06336d14",
   "metadata": {
    "scrolled": false
   },
   "outputs": [
    {
     "name": "stdout",
     "output_type": "stream",
     "text": [
      "Корреляция между оценками критиков и продажами = 0.22652606560122013\n",
      "Корреляция между оценками пользователей и продажами = 0.11344360206138501\n"
     ]
    },
    {
     "data": {
      "image/png": "[encoded data removed]",
      "text/plain": [
       "<Figure size 432x288 with 1 Axes>"
      ]
     },
     "metadata": {
      "needs_background": "light"
     },
     "output_type": "display_data"
    },
    {
     "data": {
      "image/png": "[encoded data removed]",
      "text/plain": [
       "<Figure size 432x288 with 1 Axes>"
      ]
     },
     "metadata": {
      "needs_background": "light"
     },
     "output_type": "display_data"
    }
   ],
   "source": [
    "top_actual_platforms.query('platform == \"ps4\" and critic_score >= 0').plot(x='critic_score', y='total_sales', kind='scatter')\n",
    "print('Корреляция между оценками критиков и продажами =', top_actual_platforms.query('platform == \"ps4\"')['critic_score'].corr(top_actual_platforms.query('platform == \"ps4\"')['total_sales']))\n",
    "top_actual_platforms.query('platform == \"ps4\" and user_score >= 0').plot(x='user_score', y='total_sales', kind='scatter')\n",
    "print('Корреляция между оценками пользователей и продажами =', top_actual_platforms.query('platform == \"ps4\"')['user_score'].corr(top_actual_platforms.query('platform == \"ps4\"')['total_sales']))"
   ]
  },
  {
   "cell_type": "markdown",
   "id": "9abe729a",
   "metadata": {},
   "source": [
    "Корреляция между оценками критиков и продажами положительная и более ярко выражена, в то время как корреляция между оценками пользователей и продажами в разы ниже. Это значит, что продажи прямопропорциональны оценкам критиков, но о сильном влиянии на продажи оценок пользователей говорить нельзя. "
   ]
  },
  {
   "cell_type": "markdown",
   "id": "b3231fef",
   "metadata": {},
   "source": [
    "Проверим эти взаимосвязи на другой актуальной платформе xone, на современной на момент анализа платформе другого производителя wiiu и на универсальной и самой распространенной платформе- pc"
   ]
  },
  {
   "cell_type": "code",
   "execution_count": 46,
   "id": "b8ff42ec",
   "metadata": {},
   "outputs": [
    {
     "name": "stdout",
     "output_type": "stream",
     "text": [
      "Корреляция между оценками критиков и продажами = 0.2737821725977997\n",
      "Корреляция между оценками пользователей и продажами = 0.1171512807871208\n"
     ]
    },
    {
     "data": {
      "image/png": "[encoded data removed]",
      "text/plain": [
       "<Figure size 432x288 with 1 Axes>"
      ]
     },
     "metadata": {
      "needs_background": "light"
     },
     "output_type": "display_data"
    },
    {
     "data": {
      "image/png": "[encoded data removed]",
      "text/plain": [
       "<Figure size 432x288 with 1 Axes>"
      ]
     },
     "metadata": {
      "needs_background": "light"
     },
     "output_type": "display_data"
    }
   ],
   "source": [
    "top_actual_platforms.query('platform == \"xone\" and critic_score >= 0').plot(x='critic_score', y='total_sales', kind='scatter')\n",
    "print('Корреляция между оценками критиков и продажами =', top_actual_platforms.query('platform == \"xone\"')['critic_score'].corr(top_actual_platforms.query('platform == \"xone\"')['total_sales']))\n",
    "top_actual_platforms.query('platform == \"xone\" and user_score >= 0').plot(x='user_score', y='total_sales', kind='scatter')\n",
    "print('Корреляция между оценками пользователей и продажами =', top_actual_platforms.query('platform == \"xone\"')['user_score'].corr(top_actual_platforms.query('platform == \"xone\"')['total_sales']))"
   ]
  },
  {
   "cell_type": "code",
   "execution_count": 47,
   "id": "f76e74e2",
   "metadata": {},
   "outputs": [
    {
     "name": "stdout",
     "output_type": "stream",
     "text": [
      "Корреляция между оценками критиков и продажами = 0.2971682315692345\n",
      "Корреляция между оценками пользователей и продажами = 0.26981508880974253\n"
     ]
    },
    {
     "data": {
      "image/png": "[encoded data removed]",
      "text/plain": [
       "<Figure size 432x288 with 1 Axes>"
      ]
     },
     "metadata": {
      "needs_background": "light"
     },
     "output_type": "display_data"
    },
    {
     "data": {
      "image/png": "[encoded data removed]",
      "text/plain": [
       "<Figure size 432x288 with 1 Axes>"
      ]
     },
     "metadata": {
      "needs_background": "light"
     },
     "output_type": "display_data"
    }
   ],
   "source": [
    "data.query('platform == \"wiiu\" and critic_score >= 0').plot(x='critic_score', y='total_sales', kind='scatter')\n",
    "print('Корреляция между оценками критиков и продажами =', data.query('platform == \"wiiu\"')['critic_score'].corr(data.query('platform == \"wiiu\"')['total_sales']))\n",
    "data.query('platform == \"wiiu\" and user_score >= 0').plot(x='user_score', y='total_sales', kind='scatter')\n",
    "print('Корреляция между оценками пользователей и продажами =', data.query('platform == \"wiiu\"')['user_score'].corr(data.query('platform == \"wiiu\"')['total_sales']))"
   ]
  },
  {
   "cell_type": "code",
   "execution_count": 48,
   "id": "5bee251b",
   "metadata": {},
   "outputs": [
    {
     "name": "stdout",
     "output_type": "stream",
     "text": [
      "Корреляция между оценками критиков и продажами = 0.21202659312776093\n",
      "Корреляция между оценками пользователей и продажами = 0.10737666999095473\n"
     ]
    },
    {
     "data": {
      "image/png": "[encoded data removed]",
      "text/plain": [
       "<Figure size 432x288 with 1 Axes>"
      ]
     },
     "metadata": {
      "needs_background": "light"
     },
     "output_type": "display_data"
    },
    {
     "data": {
      "image/png": "[encoded data removed]",
      "text/plain": [
       "<Figure size 432x288 with 1 Axes>"
      ]
     },
     "metadata": {
      "needs_background": "light"
     },
     "output_type": "display_data"
    }
   ],
   "source": [
    "data.query('platform == \"pc\" and year_of_release > 2006 and critic_score >= 0').plot(x='critic_score', y='total_sales', kind='scatter')\n",
    "print('Корреляция между оценками критиков и продажами =', data.query('platform == \"pc\" and year_of_release > 2006')['critic_score'].corr(data.query('platform == \"pc\" and year_of_release > 2006')['total_sales']))\n",
    "data.query('platform == \"pc\" and year_of_release > 2006 and user_score >= 0').plot(x='user_score', y='total_sales', kind='scatter')\n",
    "print('Корреляция между оценками пользователей и продажами =', data.query('platform == \"pc\" and year_of_release > 2006')['user_score'].corr(data.query('platform == \"pc\" and year_of_release > 2006')['total_sales']))"
   ]
  },
  {
   "cell_type": "markdown",
   "id": "11d3223d",
   "metadata": {},
   "source": [
    "Видим, что у xone и pc показатели схожие, однако у wiiu пользователи очень близки по своим оценкам к критикам, из-за чего корреляция практически идентичная и характерная для оценок критиков. Возможно пользователи платформ этого производителя достаточно объективны и/или более чутко относятся к выставлению оценок. Проверим корреляции для предыдущей платформы этого производителя: wii"
   ]
  },
  {
   "cell_type": "code",
   "execution_count": 49,
   "id": "b1246134",
   "metadata": {},
   "outputs": [
    {
     "name": "stdout",
     "output_type": "stream",
     "text": [
      "Корреляция между оценками критиков и продажами = 0.18838562934910374\n",
      "Корреляция между оценками пользователей и продажами = 0.18428509980092644\n"
     ]
    },
    {
     "data": {
      "image/png": "[encoded data removed]",
      "text/plain": [
       "<Figure size 432x288 with 1 Axes>"
      ]
     },
     "metadata": {
      "needs_background": "light"
     },
     "output_type": "display_data"
    },
    {
     "data": {
      "image/png": "[encoded data removed]",
      "text/plain": [
       "<Figure size 432x288 with 1 Axes>"
      ]
     },
     "metadata": {
      "needs_background": "light"
     },
     "output_type": "display_data"
    }
   ],
   "source": [
    "data.query('platform == \"wii\" and critic_score >= 0').plot(x='critic_score', y='total_sales', kind='scatter')\n",
    "print('Корреляция между оценками критиков и продажами =', data.query('platform == \"wii\"')['critic_score'].corr(data.query('platform == \"wii\"')['total_sales']))\n",
    "data.query('platform == \"wii\" and user_score >= 0').plot(x='user_score', y='total_sales', kind='scatter')\n",
    "print('Корреляция между оценками пользователей и продажами =', data.query('platform == \"wii\"')['user_score'].corr(data.query('platform == \"wii\"')['total_sales']))"
   ]
  },
  {
   "cell_type": "markdown",
   "id": "a5e378cb",
   "metadata": {},
   "source": [
    "Видим, что предположение не подтвердилось. Таким образом можно сказать, что зачастую продажи коррелируют с оценками критиков и не коррелируют с оценками игроков, но изредка могут встретиться исключения. В целом можно резюмировать, что оценки критиков значительно важнее для объема продаж, чем оценки игроков."
   ]
  },
  {
   "cell_type": "code",
   "execution_count": 50,
   "id": "1e9ae69a",
   "metadata": {},
   "outputs": [
    {
     "data": {
      "image/png": "[encoded data removed]",
      "text/plain": [
       "<Figure size 432x288 with 1 Axes>"
      ]
     },
     "metadata": {
      "needs_background": "light"
     },
     "output_type": "display_data"
    },
    {
     "data": {
      "image/png": "[encoded data removed]",
      "text/plain": [
       "<Figure size 432x288 with 1 Axes>"
      ]
     },
     "metadata": {
      "needs_background": "light"
     },
     "output_type": "display_data"
    }
   ],
   "source": [
    "#top_actual_platforms.plot(x='genre', y='total_sales', kind='scatter')\n",
    "#plt.xticks(rotation = 90) \n",
    "#plt.show()\n",
    "sns.boxplot(x='genre', y='total_sales', data=actual_data)\n",
    "plt.xticks(rotation = 90) \n",
    "plt.show()\n",
    "sns.boxplot(x='genre', y='total_sales', data=actual_data).set_ylim([0, 2])\n",
    "plt.xticks(rotation = 90) \n",
    "plt.show()"
   ]
  },
  {
   "cell_type": "code",
   "execution_count": 51,
   "id": "f58f01a9",
   "metadata": {},
   "outputs": [
    {
     "data": {
      "text/html": [
       "<div>\n",
       "<style scoped>\n",
       "    .dataframe tbody tr th:only-of-type {\n",
       "        vertical-align: middle;\n",
       "    }\n",
       "\n",
       "    .dataframe tbody tr th {\n",
       "        vertical-align: top;\n",
       "    }\n",
       "\n",
       "    .dataframe thead th {\n",
       "        text-align: right;\n",
       "    }\n",
       "</style>\n",
       "<table border=\"1\" class=\"dataframe\">\n",
       "  <thead>\n",
       "    <tr style=\"text-align: right;\">\n",
       "      <th></th>\n",
       "      <th>count</th>\n",
       "      <th>mean</th>\n",
       "      <th>std</th>\n",
       "      <th>min</th>\n",
       "      <th>25%</th>\n",
       "      <th>50%</th>\n",
       "      <th>75%</th>\n",
       "      <th>max</th>\n",
       "    </tr>\n",
       "    <tr>\n",
       "      <th>genre</th>\n",
       "      <th></th>\n",
       "      <th></th>\n",
       "      <th></th>\n",
       "      <th></th>\n",
       "      <th></th>\n",
       "      <th></th>\n",
       "      <th></th>\n",
       "      <th></th>\n",
       "    </tr>\n",
       "  </thead>\n",
       "  <tbody>\n",
       "    <tr>\n",
       "      <th>action</th>\n",
       "      <td>766.0</td>\n",
       "      <td>0.420196</td>\n",
       "      <td>1.253909</td>\n",
       "      <td>0.01</td>\n",
       "      <td>0.03</td>\n",
       "      <td>0.110</td>\n",
       "      <td>0.3375</td>\n",
       "      <td>21.05</td>\n",
       "    </tr>\n",
       "    <tr>\n",
       "      <th>adventure</th>\n",
       "      <td>245.0</td>\n",
       "      <td>0.096490</td>\n",
       "      <td>0.216445</td>\n",
       "      <td>0.01</td>\n",
       "      <td>0.02</td>\n",
       "      <td>0.030</td>\n",
       "      <td>0.0700</td>\n",
       "      <td>1.66</td>\n",
       "    </tr>\n",
       "    <tr>\n",
       "      <th>fighting</th>\n",
       "      <td>80.0</td>\n",
       "      <td>0.441375</td>\n",
       "      <td>1.048883</td>\n",
       "      <td>0.01</td>\n",
       "      <td>0.06</td>\n",
       "      <td>0.125</td>\n",
       "      <td>0.3225</td>\n",
       "      <td>7.55</td>\n",
       "    </tr>\n",
       "    <tr>\n",
       "      <th>misc</th>\n",
       "      <td>155.0</td>\n",
       "      <td>0.405290</td>\n",
       "      <td>1.007985</td>\n",
       "      <td>0.01</td>\n",
       "      <td>0.03</td>\n",
       "      <td>0.100</td>\n",
       "      <td>0.3300</td>\n",
       "      <td>9.18</td>\n",
       "    </tr>\n",
       "    <tr>\n",
       "      <th>platform</th>\n",
       "      <td>74.0</td>\n",
       "      <td>0.576081</td>\n",
       "      <td>0.806808</td>\n",
       "      <td>0.01</td>\n",
       "      <td>0.09</td>\n",
       "      <td>0.225</td>\n",
       "      <td>0.6275</td>\n",
       "      <td>4.32</td>\n",
       "    </tr>\n",
       "    <tr>\n",
       "      <th>puzzle</th>\n",
       "      <td>17.0</td>\n",
       "      <td>0.186471</td>\n",
       "      <td>0.325172</td>\n",
       "      <td>0.01</td>\n",
       "      <td>0.02</td>\n",
       "      <td>0.060</td>\n",
       "      <td>0.1100</td>\n",
       "      <td>1.19</td>\n",
       "    </tr>\n",
       "    <tr>\n",
       "      <th>racing</th>\n",
       "      <td>85.0</td>\n",
       "      <td>0.469294</td>\n",
       "      <td>0.964101</td>\n",
       "      <td>0.01</td>\n",
       "      <td>0.05</td>\n",
       "      <td>0.120</td>\n",
       "      <td>0.3800</td>\n",
       "      <td>7.09</td>\n",
       "    </tr>\n",
       "    <tr>\n",
       "      <th>role-playing</th>\n",
       "      <td>292.0</td>\n",
       "      <td>0.499623</td>\n",
       "      <td>1.353164</td>\n",
       "      <td>0.01</td>\n",
       "      <td>0.06</td>\n",
       "      <td>0.125</td>\n",
       "      <td>0.3825</td>\n",
       "      <td>14.60</td>\n",
       "    </tr>\n",
       "    <tr>\n",
       "      <th>shooter</th>\n",
       "      <td>187.0</td>\n",
       "      <td>1.245882</td>\n",
       "      <td>2.014107</td>\n",
       "      <td>0.01</td>\n",
       "      <td>0.14</td>\n",
       "      <td>0.450</td>\n",
       "      <td>1.4250</td>\n",
       "      <td>14.63</td>\n",
       "    </tr>\n",
       "    <tr>\n",
       "      <th>simulation</th>\n",
       "      <td>62.0</td>\n",
       "      <td>0.350968</td>\n",
       "      <td>0.849163</td>\n",
       "      <td>0.01</td>\n",
       "      <td>0.03</td>\n",
       "      <td>0.100</td>\n",
       "      <td>0.2950</td>\n",
       "      <td>5.22</td>\n",
       "    </tr>\n",
       "    <tr>\n",
       "      <th>sports</th>\n",
       "      <td>214.0</td>\n",
       "      <td>0.703972</td>\n",
       "      <td>1.219237</td>\n",
       "      <td>0.01</td>\n",
       "      <td>0.07</td>\n",
       "      <td>0.240</td>\n",
       "      <td>0.7650</td>\n",
       "      <td>8.58</td>\n",
       "    </tr>\n",
       "    <tr>\n",
       "      <th>strategy</th>\n",
       "      <td>56.0</td>\n",
       "      <td>0.180000</td>\n",
       "      <td>0.279441</td>\n",
       "      <td>0.01</td>\n",
       "      <td>0.04</td>\n",
       "      <td>0.080</td>\n",
       "      <td>0.2325</td>\n",
       "      <td>1.67</td>\n",
       "    </tr>\n",
       "  </tbody>\n",
       "</table>\n",
       "</div>"
      ],
      "text/plain": [
       "              count      mean       std   min   25%    50%     75%    max\n",
       "genre                                                                    \n",
       "action        766.0  0.420196  1.253909  0.01  0.03  0.110  0.3375  21.05\n",
       "adventure     245.0  0.096490  0.216445  0.01  0.02  0.030  0.0700   1.66\n",
       "fighting       80.0  0.441375  1.048883  0.01  0.06  0.125  0.3225   7.55\n",
       "misc          155.0  0.405290  1.007985  0.01  0.03  0.100  0.3300   9.18\n",
       "platform       74.0  0.576081  0.806808  0.01  0.09  0.225  0.6275   4.32\n",
       "puzzle         17.0  0.186471  0.325172  0.01  0.02  0.060  0.1100   1.19\n",
       "racing         85.0  0.469294  0.964101  0.01  0.05  0.120  0.3800   7.09\n",
       "role-playing  292.0  0.499623  1.353164  0.01  0.06  0.125  0.3825  14.60\n",
       "shooter       187.0  1.245882  2.014107  0.01  0.14  0.450  1.4250  14.63\n",
       "simulation     62.0  0.350968  0.849163  0.01  0.03  0.100  0.2950   5.22\n",
       "sports        214.0  0.703972  1.219237  0.01  0.07  0.240  0.7650   8.58\n",
       "strategy       56.0  0.180000  0.279441  0.01  0.04  0.080  0.2325   1.67"
      ]
     },
     "execution_count": 51,
     "metadata": {},
     "output_type": "execute_result"
    }
   ],
   "source": [
    "actual_data.groupby(by='genre')['total_sales'].describe()"
   ]
  },
  {
   "cell_type": "markdown",
   "id": "ea32160b",
   "metadata": {},
   "source": [
    "Самые устойчиво прибыльные жанры- шутер, платформер и спорт, а наименее прибыльные- симуляторы, приключения и пазлы. Разница в продажах крайне велика, поэтому на жанр необходимо обращать особое внимание. Жанр экшн имеет очень большое количество существенных выбросов."
   ]
  },
  {
   "cell_type": "markdown",
   "id": "20d7f395",
   "metadata": {},
   "source": [
    "## 3. Портрет пользователя каждого региона"
   ]
  },
  {
   "cell_type": "markdown",
   "id": "cdbfac64",
   "metadata": {},
   "source": [
    "### 3.1 Североамериканский регион"
   ]
  },
  {
   "cell_type": "markdown",
   "id": "a06808cd",
   "metadata": {},
   "source": [
    "#### 3.1.1 Самые популярные платформы"
   ]
  },
  {
   "cell_type": "code",
   "execution_count": 52,
   "id": "a785246c",
   "metadata": {},
   "outputs": [
    {
     "data": {
      "text/html": [
       "<div>\n",
       "<style scoped>\n",
       "    .dataframe tbody tr th:only-of-type {\n",
       "        vertical-align: middle;\n",
       "    }\n",
       "\n",
       "    .dataframe tbody tr th {\n",
       "        vertical-align: top;\n",
       "    }\n",
       "\n",
       "    .dataframe thead th {\n",
       "        text-align: right;\n",
       "    }\n",
       "</style>\n",
       "<table border=\"1\" class=\"dataframe\">\n",
       "  <thead>\n",
       "    <tr style=\"text-align: right;\">\n",
       "      <th></th>\n",
       "      <th>sum</th>\n",
       "    </tr>\n",
       "    <tr>\n",
       "      <th>platform</th>\n",
       "      <th></th>\n",
       "    </tr>\n",
       "  </thead>\n",
       "  <tbody>\n",
       "    <tr>\n",
       "      <th>ps4</th>\n",
       "      <td>108.74</td>\n",
       "    </tr>\n",
       "    <tr>\n",
       "      <th>xone</th>\n",
       "      <td>93.12</td>\n",
       "    </tr>\n",
       "    <tr>\n",
       "      <th>x360</th>\n",
       "      <td>81.66</td>\n",
       "    </tr>\n",
       "    <tr>\n",
       "      <th>ps3</th>\n",
       "      <td>63.50</td>\n",
       "    </tr>\n",
       "    <tr>\n",
       "      <th>3ds</th>\n",
       "      <td>38.20</td>\n",
       "    </tr>\n",
       "  </tbody>\n",
       "</table>\n",
       "</div>"
      ],
      "text/plain": [
       "             sum\n",
       "platform        \n",
       "ps4       108.74\n",
       "xone       93.12\n",
       "x360       81.66\n",
       "ps3        63.50\n",
       "3ds        38.20"
      ]
     },
     "metadata": {},
     "output_type": "display_data"
    },
    {
     "data": {
      "image/png": "[encoded data removed]",
      "text/plain": [
       "<Figure size 432x288 with 1 Axes>"
      ]
     },
     "metadata": {},
     "output_type": "display_data"
    }
   ],
   "source": [
    "top_platforms_na = actual_data.groupby(['platform'])['na_sales'].agg(['sum']).sort_values(['sum'],ascending=False)\n",
    "top_platforms_na = top_platforms_na.head(5)\n",
    "display(top_platforms_na)\n",
    "fig1, ax1 = plt.subplots()\n",
    "ax1.pie(top_platforms_na['sum'], labels=top_platforms_na.index, autopct='%1.1f%%')\n",
    "ax1.axis('equal')  \n",
    "plt.show()"
   ]
  },
  {
   "cell_type": "markdown",
   "id": "b996bd4a",
   "metadata": {},
   "source": [
    "Основная доля- полноразмерные мощные домашние консоли. При этом в америке японская ps4 несильно впереди американской xone, поскольку это их отечественная платформа и она пользуется там большой популярностью. Также популярна 3ds ввиду своей портативности. А вот ПК для игр используется относительно нечасто. Видимо американцы предпочитают играть за большими телевизорами лежа на удобном диване с беспроводными геймпадами."
   ]
  },
  {
   "cell_type": "markdown",
   "id": "61a52e21",
   "metadata": {},
   "source": [
    "#### 3.1.2 Популярные жанры"
   ]
  },
  {
   "cell_type": "code",
   "execution_count": 53,
   "id": "44353c60",
   "metadata": {},
   "outputs": [
    {
     "data": {
      "text/html": [
       "<div>\n",
       "<style scoped>\n",
       "    .dataframe tbody tr th:only-of-type {\n",
       "        vertical-align: middle;\n",
       "    }\n",
       "\n",
       "    .dataframe tbody tr th {\n",
       "        vertical-align: top;\n",
       "    }\n",
       "\n",
       "    .dataframe thead th {\n",
       "        text-align: right;\n",
       "    }\n",
       "</style>\n",
       "<table border=\"1\" class=\"dataframe\">\n",
       "  <thead>\n",
       "    <tr style=\"text-align: right;\">\n",
       "      <th></th>\n",
       "      <th>sum</th>\n",
       "    </tr>\n",
       "    <tr>\n",
       "      <th>genre</th>\n",
       "      <th></th>\n",
       "    </tr>\n",
       "  </thead>\n",
       "  <tbody>\n",
       "    <tr>\n",
       "      <th>action</th>\n",
       "      <td>126.05</td>\n",
       "    </tr>\n",
       "    <tr>\n",
       "      <th>shooter</th>\n",
       "      <td>109.74</td>\n",
       "    </tr>\n",
       "    <tr>\n",
       "      <th>sports</th>\n",
       "      <td>65.27</td>\n",
       "    </tr>\n",
       "    <tr>\n",
       "      <th>role-playing</th>\n",
       "      <td>46.40</td>\n",
       "    </tr>\n",
       "    <tr>\n",
       "      <th>misc</th>\n",
       "      <td>27.49</td>\n",
       "    </tr>\n",
       "  </tbody>\n",
       "</table>\n",
       "</div>"
      ],
      "text/plain": [
       "                 sum\n",
       "genre               \n",
       "action        126.05\n",
       "shooter       109.74\n",
       "sports         65.27\n",
       "role-playing   46.40\n",
       "misc           27.49"
      ]
     },
     "metadata": {},
     "output_type": "display_data"
    },
    {
     "data": {
      "image/png": "[encoded data removed]",
      "text/plain": [
       "<Figure size 432x288 with 1 Axes>"
      ]
     },
     "metadata": {},
     "output_type": "display_data"
    }
   ],
   "source": [
    "top_genres_na = actual_data.groupby(['genre'])['na_sales'].agg(['sum']).sort_values(['sum'],ascending=False)\n",
    "top_genres_na = top_genres_na.head(5)\n",
    "display(top_genres_na)\n",
    "fig1, ax1 = plt.subplots()\n",
    "ax1.pie(top_genres_na['sum'], labels=top_genres_na.index, autopct='%1.1f%%')\n",
    "ax1.axis('equal')  \n",
    "plt.show()"
   ]
  },
  {
   "cell_type": "markdown",
   "id": "96233ca9",
   "metadata": {},
   "source": [
    "Самые популярные жанры: экшн, шутер, РПГ, спорт- наиболее распространенные для наиболее популярных в Северной Америке платформ."
   ]
  },
  {
   "cell_type": "markdown",
   "id": "d0833a2c",
   "metadata": {},
   "source": [
    "#### 3.1.3 Влияние рейтинга на продажи"
   ]
  },
  {
   "cell_type": "code",
   "execution_count": 54,
   "id": "56993b15",
   "metadata": {
    "scrolled": false
   },
   "outputs": [
    {
     "data": {
      "text/html": [
       "<div>\n",
       "<style scoped>\n",
       "    .dataframe tbody tr th:only-of-type {\n",
       "        vertical-align: middle;\n",
       "    }\n",
       "\n",
       "    .dataframe tbody tr th {\n",
       "        vertical-align: top;\n",
       "    }\n",
       "\n",
       "    .dataframe thead th {\n",
       "        text-align: right;\n",
       "    }\n",
       "</style>\n",
       "<table border=\"1\" class=\"dataframe\">\n",
       "  <thead>\n",
       "    <tr style=\"text-align: right;\">\n",
       "      <th></th>\n",
       "      <th>sum</th>\n",
       "    </tr>\n",
       "    <tr>\n",
       "      <th>rating</th>\n",
       "      <th></th>\n",
       "    </tr>\n",
       "  </thead>\n",
       "  <tbody>\n",
       "    <tr>\n",
       "      <th>m</th>\n",
       "      <td>165.21</td>\n",
       "    </tr>\n",
       "    <tr>\n",
       "      <th>other</th>\n",
       "      <td>89.42</td>\n",
       "    </tr>\n",
       "    <tr>\n",
       "      <th>e</th>\n",
       "      <td>79.05</td>\n",
       "    </tr>\n",
       "    <tr>\n",
       "      <th>e10+</th>\n",
       "      <td>54.24</td>\n",
       "    </tr>\n",
       "    <tr>\n",
       "      <th>t</th>\n",
       "      <td>49.79</td>\n",
       "    </tr>\n",
       "  </tbody>\n",
       "</table>\n",
       "</div>"
      ],
      "text/plain": [
       "           sum\n",
       "rating        \n",
       "m       165.21\n",
       "other    89.42\n",
       "e        79.05\n",
       "e10+     54.24\n",
       "t        49.79"
      ]
     },
     "metadata": {},
     "output_type": "display_data"
    },
    {
     "data": {
      "image/png": "[encoded data removed]",
      "text/plain": [
       "<Figure size 432x288 with 1 Axes>"
      ]
     },
     "metadata": {},
     "output_type": "display_data"
    }
   ],
   "source": [
    "top_rating_na = actual_data.groupby(['rating'])['na_sales'].agg(['sum']).sort_values(['sum'],ascending=False)\n",
    "display(top_rating_na)\n",
    "#actual_data.plot(x='rating', y='na_sales', kind='scatter')\n",
    "fig1, ax1 = plt.subplots()\n",
    "ax1.pie(top_rating_na['sum'], labels=top_rating_na.index, autopct='%1.1f%%')\n",
    "ax1.axis('equal')  \n",
    "plt.show()"
   ]
  },
  {
   "cell_type": "markdown",
   "id": "c9275a79",
   "metadata": {},
   "source": [
    "Из-за популярности \"стрелялок\" возрастной порог игр достаточно велик: от 17 лет. При этом 80% игр ориентырованы на Северную Америку и Канаду."
   ]
  },
  {
   "cell_type": "markdown",
   "id": "61cc3c02",
   "metadata": {},
   "source": [
    "**Вывод**\n",
    "\n",
    "Наилучшие показатели у игр для стационарных флагманских консолей жанров экшн и шутер."
   ]
  },
  {
   "cell_type": "markdown",
   "id": "4fc3d479",
   "metadata": {},
   "source": [
    "### 3.2 Европейский регион"
   ]
  },
  {
   "cell_type": "markdown",
   "id": "d5e06377",
   "metadata": {},
   "source": [
    "#### 3.2.1 Самые популярные платформы"
   ]
  },
  {
   "cell_type": "code",
   "execution_count": 55,
   "id": "41b72543",
   "metadata": {},
   "outputs": [
    {
     "data": {
      "text/html": [
       "<div>\n",
       "<style scoped>\n",
       "    .dataframe tbody tr th:only-of-type {\n",
       "        vertical-align: middle;\n",
       "    }\n",
       "\n",
       "    .dataframe tbody tr th {\n",
       "        vertical-align: top;\n",
       "    }\n",
       "\n",
       "    .dataframe thead th {\n",
       "        text-align: right;\n",
       "    }\n",
       "</style>\n",
       "<table border=\"1\" class=\"dataframe\">\n",
       "  <thead>\n",
       "    <tr style=\"text-align: right;\">\n",
       "      <th></th>\n",
       "      <th>sum</th>\n",
       "    </tr>\n",
       "    <tr>\n",
       "      <th>platform</th>\n",
       "      <th></th>\n",
       "    </tr>\n",
       "  </thead>\n",
       "  <tbody>\n",
       "    <tr>\n",
       "      <th>ps4</th>\n",
       "      <td>141.09</td>\n",
       "    </tr>\n",
       "    <tr>\n",
       "      <th>ps3</th>\n",
       "      <td>67.81</td>\n",
       "    </tr>\n",
       "    <tr>\n",
       "      <th>xone</th>\n",
       "      <td>51.59</td>\n",
       "    </tr>\n",
       "    <tr>\n",
       "      <th>x360</th>\n",
       "      <td>42.52</td>\n",
       "    </tr>\n",
       "    <tr>\n",
       "      <th>3ds</th>\n",
       "      <td>30.96</td>\n",
       "    </tr>\n",
       "  </tbody>\n",
       "</table>\n",
       "</div>"
      ],
      "text/plain": [
       "             sum\n",
       "platform        \n",
       "ps4       141.09\n",
       "ps3        67.81\n",
       "xone       51.59\n",
       "x360       42.52\n",
       "3ds        30.96"
      ]
     },
     "metadata": {},
     "output_type": "display_data"
    },
    {
     "data": {
      "image/png": "[encoded data removed]",
      "text/plain": [
       "<Figure size 432x288 with 1 Axes>"
      ]
     },
     "metadata": {},
     "output_type": "display_data"
    }
   ],
   "source": [
    "#top_platforms_na = actual_data.groupby(['platform'])['na_sales'].agg(['sum']).sort_values(['sum'],ascending=False)\n",
    "top_platforms_eu = actual_data.groupby(['platform'])['eu_sales'].agg(['sum']).sort_values(['sum'],ascending=False)\n",
    "top_platforms_eu = top_platforms_eu.head(5)\n",
    "display(top_platforms_eu)\n",
    "fig1, ax1 = plt.subplots()\n",
    "ax1.pie(top_platforms_eu['sum'], labels=top_platforms_eu.index, autopct='%1.1f%%')\n",
    "ax1.axis('equal')  \n",
    "plt.show()"
   ]
  },
  {
   "cell_type": "markdown",
   "id": "b8d68bc0",
   "metadata": {},
   "source": [
    "В европе также самая популярная платформа ps4, но уже с большим отрывом, из-за того, что популярность американской консоли xone в европе не так велика, и  частично эта ниша заполнилась ps4. Продажи на xone все еще ниже, чем у консоли ps3 предыдущего поколения. 3ds также популярна в качестве портативной платформы, но все еще на 5м месте."
   ]
  },
  {
   "cell_type": "markdown",
   "id": "8583579c",
   "metadata": {},
   "source": [
    "#### 3.2.2 Популярные жанры"
   ]
  },
  {
   "cell_type": "code",
   "execution_count": 56,
   "id": "89fbbcfc",
   "metadata": {},
   "outputs": [
    {
     "data": {
      "text/html": [
       "<div>\n",
       "<style scoped>\n",
       "    .dataframe tbody tr th:only-of-type {\n",
       "        vertical-align: middle;\n",
       "    }\n",
       "\n",
       "    .dataframe tbody tr th {\n",
       "        vertical-align: top;\n",
       "    }\n",
       "\n",
       "    .dataframe thead th {\n",
       "        text-align: right;\n",
       "    }\n",
       "</style>\n",
       "<table border=\"1\" class=\"dataframe\">\n",
       "  <thead>\n",
       "    <tr style=\"text-align: right;\">\n",
       "      <th></th>\n",
       "      <th>sum</th>\n",
       "    </tr>\n",
       "    <tr>\n",
       "      <th>genre</th>\n",
       "      <th></th>\n",
       "    </tr>\n",
       "  </thead>\n",
       "  <tbody>\n",
       "    <tr>\n",
       "      <th>action</th>\n",
       "      <td>118.13</td>\n",
       "    </tr>\n",
       "    <tr>\n",
       "      <th>shooter</th>\n",
       "      <td>87.86</td>\n",
       "    </tr>\n",
       "    <tr>\n",
       "      <th>sports</th>\n",
       "      <td>60.52</td>\n",
       "    </tr>\n",
       "    <tr>\n",
       "      <th>role-playing</th>\n",
       "      <td>36.97</td>\n",
       "    </tr>\n",
       "    <tr>\n",
       "      <th>racing</th>\n",
       "      <td>20.19</td>\n",
       "    </tr>\n",
       "  </tbody>\n",
       "</table>\n",
       "</div>"
      ],
      "text/plain": [
       "                 sum\n",
       "genre               \n",
       "action        118.13\n",
       "shooter        87.86\n",
       "sports         60.52\n",
       "role-playing   36.97\n",
       "racing         20.19"
      ]
     },
     "metadata": {},
     "output_type": "display_data"
    },
    {
     "data": {
      "image/png": "[encoded data removed]",
      "text/plain": [
       "<Figure size 432x288 with 1 Axes>"
      ]
     },
     "metadata": {},
     "output_type": "display_data"
    }
   ],
   "source": [
    "top_genres_eu = actual_data.groupby(['genre'])['eu_sales'].agg(['sum']).sort_values(['sum'],ascending=False)\n",
    "top_genres_eu = top_genres_eu.head(5)\n",
    "display(top_genres_eu)\n",
    "fig1, ax1 = plt.subplots()\n",
    "ax1.pie(top_genres_eu['sum'], labels=top_genres_eu.index, autopct='%1.1f%%')\n",
    "ax1.axis('equal')  \n",
    "plt.show()"
   ]
  },
  {
   "cell_type": "markdown",
   "id": "28a55aa2",
   "metadata": {},
   "source": [
    "Вследствие отсутсвия радикальной смены баланса полноразмерные консоли-ПК-портативные консоли, ассортимент популярнейших жанров практически идентичен."
   ]
  },
  {
   "cell_type": "markdown",
   "id": "6a7fc81f",
   "metadata": {},
   "source": [
    "#### 3.1.3 Влияние рейтинга на продажи"
   ]
  },
  {
   "cell_type": "code",
   "execution_count": 57,
   "id": "6d9d2574",
   "metadata": {},
   "outputs": [
    {
     "data": {
      "text/html": [
       "<div>\n",
       "<style scoped>\n",
       "    .dataframe tbody tr th:only-of-type {\n",
       "        vertical-align: middle;\n",
       "    }\n",
       "\n",
       "    .dataframe tbody tr th {\n",
       "        vertical-align: top;\n",
       "    }\n",
       "\n",
       "    .dataframe thead th {\n",
       "        text-align: right;\n",
       "    }\n",
       "</style>\n",
       "<table border=\"1\" class=\"dataframe\">\n",
       "  <thead>\n",
       "    <tr style=\"text-align: right;\">\n",
       "      <th></th>\n",
       "      <th>sum</th>\n",
       "    </tr>\n",
       "    <tr>\n",
       "      <th>rating</th>\n",
       "      <th></th>\n",
       "    </tr>\n",
       "  </thead>\n",
       "  <tbody>\n",
       "    <tr>\n",
       "      <th>m</th>\n",
       "      <td>145.32</td>\n",
       "    </tr>\n",
       "    <tr>\n",
       "      <th>e</th>\n",
       "      <td>83.36</td>\n",
       "    </tr>\n",
       "    <tr>\n",
       "      <th>other</th>\n",
       "      <td>78.91</td>\n",
       "    </tr>\n",
       "    <tr>\n",
       "      <th>e10+</th>\n",
       "      <td>42.69</td>\n",
       "    </tr>\n",
       "    <tr>\n",
       "      <th>t</th>\n",
       "      <td>41.95</td>\n",
       "    </tr>\n",
       "  </tbody>\n",
       "</table>\n",
       "</div>"
      ],
      "text/plain": [
       "           sum\n",
       "rating        \n",
       "m       145.32\n",
       "e        83.36\n",
       "other    78.91\n",
       "e10+     42.69\n",
       "t        41.95"
      ]
     },
     "metadata": {},
     "output_type": "display_data"
    },
    {
     "data": {
      "image/png": "[encoded data removed]",
      "text/plain": [
       "<Figure size 432x288 with 1 Axes>"
      ]
     },
     "metadata": {},
     "output_type": "display_data"
    }
   ],
   "source": [
    "top_rating_eu = actual_data.groupby(['rating'])['eu_sales'].agg(['sum']).sort_values(['sum'],ascending=False)\n",
    "display(top_rating_eu)\n",
    "fig1, ax1 = plt.subplots()\n",
    "ax1.pie(top_rating_eu['sum'], labels=top_rating_eu.index, autopct='%1.1f%%')\n",
    "ax1.axis('equal')  \n",
    "plt.show()"
   ]
  },
  {
   "cell_type": "markdown",
   "id": "fcef8260",
   "metadata": {},
   "source": [
    "В Европе возрастной порог примерно такой же, как в Америке."
   ]
  },
  {
   "cell_type": "markdown",
   "id": "309f4487",
   "metadata": {},
   "source": [
    "**Вывод**\n",
    "\n",
    "В европе игроки предпочитают те же жанры на тех же платформах, но с более строгим возрастным рейтингом."
   ]
  },
  {
   "cell_type": "markdown",
   "id": "5530187f",
   "metadata": {},
   "source": [
    "### 3.3 Японский регион"
   ]
  },
  {
   "cell_type": "markdown",
   "id": "40001ff7",
   "metadata": {},
   "source": [
    "#### 3.3.1 Самые популярные платформы"
   ]
  },
  {
   "cell_type": "code",
   "execution_count": 58,
   "id": "96c52830",
   "metadata": {},
   "outputs": [
    {
     "data": {
      "text/html": [
       "<div>\n",
       "<style scoped>\n",
       "    .dataframe tbody tr th:only-of-type {\n",
       "        vertical-align: middle;\n",
       "    }\n",
       "\n",
       "    .dataframe tbody tr th {\n",
       "        vertical-align: top;\n",
       "    }\n",
       "\n",
       "    .dataframe thead th {\n",
       "        text-align: right;\n",
       "    }\n",
       "</style>\n",
       "<table border=\"1\" class=\"dataframe\">\n",
       "  <thead>\n",
       "    <tr style=\"text-align: right;\">\n",
       "      <th></th>\n",
       "      <th>sum</th>\n",
       "    </tr>\n",
       "    <tr>\n",
       "      <th>platform</th>\n",
       "      <th></th>\n",
       "    </tr>\n",
       "  </thead>\n",
       "  <tbody>\n",
       "    <tr>\n",
       "      <th>3ds</th>\n",
       "      <td>67.809998</td>\n",
       "    </tr>\n",
       "    <tr>\n",
       "      <th>ps3</th>\n",
       "      <td>23.350000</td>\n",
       "    </tr>\n",
       "    <tr>\n",
       "      <th>psv</th>\n",
       "      <td>18.590000</td>\n",
       "    </tr>\n",
       "    <tr>\n",
       "      <th>ps4</th>\n",
       "      <td>15.960000</td>\n",
       "    </tr>\n",
       "    <tr>\n",
       "      <th>wiiu</th>\n",
       "      <td>10.880000</td>\n",
       "    </tr>\n",
       "  </tbody>\n",
       "</table>\n",
       "</div>"
      ],
      "text/plain": [
       "                sum\n",
       "platform           \n",
       "3ds       67.809998\n",
       "ps3       23.350000\n",
       "psv       18.590000\n",
       "ps4       15.960000\n",
       "wiiu      10.880000"
      ]
     },
     "metadata": {},
     "output_type": "display_data"
    },
    {
     "data": {
      "image/png": "[encoded data removed]",
      "text/plain": [
       "<Figure size 432x288 with 1 Axes>"
      ]
     },
     "metadata": {},
     "output_type": "display_data"
    }
   ],
   "source": [
    "top_platforms_jp = actual_data.groupby(['platform'])['jp_sales'].agg(['sum']).sort_values(['sum'],ascending=False)\n",
    "top_platforms_jp = top_platforms_jp.head(5)\n",
    "display(top_platforms_jp)\n",
    "fig1, ax1 = plt.subplots()\n",
    "ax1.pie(top_platforms_jp['sum'], labels=top_platforms_jp.index, autopct='%1.1f%%')\n",
    "ax1.axis('equal')  \n",
    "plt.show()"
   ]
  },
  {
   "cell_type": "markdown",
   "id": "cc3795f9",
   "metadata": {},
   "source": [
    "В японии картина топа платформ радикально меняется: из-за трудоголичного менталитета и бешенного ритма жизни, японцам некогда расслабляться дома, они играют находу- в портативные платформы, поэтому с огромным отрывом лидирует 3ds, а psv, ранее даже не входившая в топ-5 платформ по региону, в Японии на втором месте в топе. Из домашних консолей они также предпочитают отечественные варианты: ps4 и wiiu. На ПК японцы в основном работают, а не играют."
   ]
  },
  {
   "cell_type": "markdown",
   "id": "c47689e5",
   "metadata": {},
   "source": [
    "#### 3.3.2 Популярные жанры"
   ]
  },
  {
   "cell_type": "code",
   "execution_count": 59,
   "id": "b6d29a77",
   "metadata": {},
   "outputs": [
    {
     "data": {
      "image/png": "[encoded data removed]",
      "text/plain": [
       "<Figure size 432x288 with 1 Axes>"
      ]
     },
     "metadata": {},
     "output_type": "display_data"
    }
   ],
   "source": [
    "top_genres_jp = actual_data.groupby(['genre'])['jp_sales'].agg(['sum']).sort_values(['sum'],ascending=False)\n",
    "top_genres_jp = top_genres_jp.head(5)\n",
    "fig1, ax1 = plt.subplots()\n",
    "ax1.pie(top_genres_jp['sum'], labels=top_genres_jp.index, autopct='%1.1f%%')\n",
    "ax1.axis('equal')  \n",
    "plt.show()"
   ]
  },
  {
   "cell_type": "markdown",
   "id": "d0a3a0d5",
   "metadata": {},
   "source": [
    "Из-за смены формата популярнейших платформ, поменялся и топ жанров- на портативных устройствах совсем неудобно играть в шутер или спортивные симуляторы, а вот РПГ и экшн- куда более распространенные жанры. Также видим первое появление в топе жанра fighting."
   ]
  },
  {
   "cell_type": "markdown",
   "id": "b52df5fe",
   "metadata": {},
   "source": [
    "#### 3.1.3 Влияние рейтинга на продажи"
   ]
  },
  {
   "cell_type": "code",
   "execution_count": 60,
   "id": "79c6f860",
   "metadata": {},
   "outputs": [
    {
     "data": {
      "text/html": [
       "<div>\n",
       "<style scoped>\n",
       "    .dataframe tbody tr th:only-of-type {\n",
       "        vertical-align: middle;\n",
       "    }\n",
       "\n",
       "    .dataframe tbody tr th {\n",
       "        vertical-align: top;\n",
       "    }\n",
       "\n",
       "    .dataframe thead th {\n",
       "        text-align: right;\n",
       "    }\n",
       "</style>\n",
       "<table border=\"1\" class=\"dataframe\">\n",
       "  <thead>\n",
       "    <tr style=\"text-align: right;\">\n",
       "      <th></th>\n",
       "      <th>sum</th>\n",
       "    </tr>\n",
       "    <tr>\n",
       "      <th>rating</th>\n",
       "      <th></th>\n",
       "    </tr>\n",
       "  </thead>\n",
       "  <tbody>\n",
       "    <tr>\n",
       "      <th>other</th>\n",
       "      <td>85.050003</td>\n",
       "    </tr>\n",
       "    <tr>\n",
       "      <th>t</th>\n",
       "      <td>20.590000</td>\n",
       "    </tr>\n",
       "    <tr>\n",
       "      <th>e</th>\n",
       "      <td>15.140000</td>\n",
       "    </tr>\n",
       "    <tr>\n",
       "      <th>m</th>\n",
       "      <td>14.110000</td>\n",
       "    </tr>\n",
       "    <tr>\n",
       "      <th>e10+</th>\n",
       "      <td>5.890000</td>\n",
       "    </tr>\n",
       "  </tbody>\n",
       "</table>\n",
       "</div>"
      ],
      "text/plain": [
       "              sum\n",
       "rating           \n",
       "other   85.050003\n",
       "t       20.590000\n",
       "e       15.140000\n",
       "m       14.110000\n",
       "e10+     5.890000"
      ]
     },
     "metadata": {},
     "output_type": "display_data"
    },
    {
     "data": {
      "image/png": "[encoded data removed]",
      "text/plain": [
       "<Figure size 432x288 with 1 Axes>"
      ]
     },
     "metadata": {},
     "output_type": "display_data"
    }
   ],
   "source": [
    "top_rating_jp = actual_data.groupby(['rating'])['jp_sales'].agg(['sum']).sort_values(['sum'],ascending=False)\n",
    "display(top_rating_jp)\n",
    "fig1, ax1 = plt.subplots()\n",
    "ax1.pie(top_rating_jp['sum'], labels=top_rating_jp.index, autopct='%1.1f%%')\n",
    "ax1.axis('equal')  \n",
    "plt.show()"
   ]
  },
  {
   "cell_type": "markdown",
   "id": "f9529965",
   "metadata": {},
   "source": [
    "В Японии игры с рейтингом от ESRB занимают меньше 40% рынка, что говорит о доминировании игр собственного производства."
   ]
  },
  {
   "cell_type": "markdown",
   "id": "e4457368",
   "metadata": {},
   "source": [
    "**Вывод**\n",
    "\n",
    "В Японии следует делать основной акцент на играх для портативных консолей жанра РПГ."
   ]
  },
  {
   "cell_type": "markdown",
   "id": "d0cc8ec7",
   "metadata": {},
   "source": [
    "Сводка по графикам:"
   ]
  },
  {
   "cell_type": "code",
   "execution_count": 61,
   "id": "166c832c",
   "metadata": {
    "scrolled": false
   },
   "outputs": [
    {
     "data": {
      "image/png": "[encoded data removed]",
      "text/plain": [
       "<Figure size 1080x432 with 3 Axes>"
      ]
     },
     "metadata": {},
     "output_type": "display_data"
    }
   ],
   "source": [
    "colors = {'ps4': 'lightblue', 'xone': 'orange', 'x360': 'g', 'ps3': 'r', '3ds': 'y', 'psv': 'lightgreen', 'wiiu': 'pink'} \n",
    "fig, axes = plt.subplots(1, 3, figsize=(15,6))\n",
    "plt.suptitle(\"Топ-5 платформ в регионах\")\n",
    "\n",
    "for ax, df, title in zip(axes, (top_platforms_na, top_platforms_eu, top_platforms_jp), ('NA', 'EU', 'JP')):\n",
    "    ax.pie(df['sum'], labels=df.index, autopct='%1.1f%%', colors=[colors[c] for c in df.index])\n",
    "    ax.set_title(title)"
   ]
  },
  {
   "cell_type": "markdown",
   "id": "e7b97bdd",
   "metadata": {},
   "source": [
    "Основная доля в Америке- полноразмерные мощные домашние консоли. При этом в америке японская ps4 несильно впереди американской xone, поскольку это их отечественная платформа и она пользуется там большой популярностью. Также популярна 3ds ввиду своей портативности. А вот ПК для игр используется относительно нечасто. Видимо американцы предпочитают играть за большими телевизорами лежа на удобном диване с беспроводными геймпадами.\n",
    "\n",
    "В европе также самая популярная платформа ps4, но уже с большим отрывом, из-за того, что популярность американской консоли xone в европе не так велика, и  частично эта ниша заполнилась ps4. Продажи на xone все еще ниже, чем у консоли ps3 предыдущего поколения. 3ds также популярна в качестве портативной платформы, но все еще на 5м месте.\n",
    "\n",
    "В японии картина топа платформ радикально меняется: из-за трудоголичного менталитета и бешенного ритма жизни, японцам некогда расслабляться дома, они играют находу- в портативные платформы, поэтому с огромным отрывом лидирует 3ds, а psv, ранее даже не входившая в топ-5 платформ по региону, в Японии на втором месте в топе. Из домашних консолей они также предпочитают отечественные варианты: ps и wiiu. На ПК японцы в основном работают, а не играют."
   ]
  },
  {
   "cell_type": "code",
   "execution_count": 62,
   "id": "70428703",
   "metadata": {},
   "outputs": [
    {
     "data": {
      "image/png": "[encoded data removed]",
      "text/plain": [
       "<Figure size 1080x432 with 3 Axes>"
      ]
     },
     "metadata": {},
     "output_type": "display_data"
    }
   ],
   "source": [
    "colors = {'action': 'lightblue', 'shooter': 'orange', 'sports': 'g', 'role-playing': 'r', 'misc': 'y', 'racing': 'lightgreen', 'fighting': 'pink'} \n",
    "fig, axes = plt.subplots(1, 3, figsize=(15,6))\n",
    "plt.suptitle(\"Топ-5 жанров в регионах\")\n",
    "\n",
    "for ax, df, title in zip(axes, (top_genres_na, top_genres_eu, top_genres_jp), ('NA', 'EU', 'JP')):\n",
    "    ax.pie(df['sum'], labels=df.index, autopct='%1.1f%%', colors=[colors[c] for c in df.index])\n",
    "    ax.set_title(title)"
   ]
  },
  {
   "cell_type": "markdown",
   "id": "a66a9971",
   "metadata": {},
   "source": [
    "Самые популярные жанры в Америке: экшн, шутер, РПГ, спорт- наиболее распространенные для наиболее популярных в Северной Америке платформ.\n",
    "\n",
    "Вследствие отсутсвия радикальной смены баланса полноразмерные консоли-ПК-портативные консоли, в Европе ассортимент популярнейших жанров практически идентичен.\n",
    "\n",
    "Из-за смены формата популярнейших платформ, в Японии поменялся и топ жанров- на портативных устройствах совсем неудобно играть в шутер или спортивные симуляторы, а вот РПГ и экшн- куда более распространенные жанры. Также видим первое появление в топе жанра fighting."
   ]
  },
  {
   "cell_type": "code",
   "execution_count": 63,
   "id": "4a7c0a9e",
   "metadata": {},
   "outputs": [
    {
     "data": {
      "image/png": "[encoded data removed]",
      "text/plain": [
       "<Figure size 1080x432 with 3 Axes>"
      ]
     },
     "metadata": {},
     "output_type": "display_data"
    }
   ],
   "source": [
    "colors = {'m': 'lightblue', 'other': 'orange', 'e': 'g', 'e10+': 'r', 't': 'y'} \n",
    "fig, axes = plt.subplots(1, 3, figsize=(15,6))\n",
    "plt.suptitle(\"Топ-5 рейтингов в регионах\")\n",
    "\n",
    "for ax, df, title in zip(axes, (top_rating_na, top_rating_eu, top_rating_jp), ('NA', 'EU', 'JP')):\n",
    "    ax.pie(df['sum'], labels=df.index, autopct='%1.1f%%', colors=[colors[c] for c in df.index])\n",
    "    ax.set_title(title)"
   ]
  },
  {
   "cell_type": "markdown",
   "id": "77cf345b",
   "metadata": {},
   "source": [
    "Из-за популярности \"стрелялок\" возрастной порог игр достаточно велик: от 17 лет. При этом 80% игр ориентырованы на Северную Америку и Канаду. Это касается как Америки, так и Европы. В Японии игры с рейтингом от ESRB занимают меньше 40% рынка, что говорит о доминировании игр собственного производства."
   ]
  },
  {
   "cell_type": "markdown",
   "id": "fe7a0580",
   "metadata": {},
   "source": [
    "**Вывод**\n",
    "\n",
    "Наилучшие показатели у игр для стационарных флагманских консолей жанра шутер с рейтингом 17+. Это касается Америки и Европы. В Японии следует делать основной акцент на играх для портативных консолей жанра РПГ."
   ]
  },
  {
   "cell_type": "markdown",
   "id": "25b7cc4d",
   "metadata": {},
   "source": [
    "## 4 Проверка гипотез"
   ]
  },
  {
   "cell_type": "markdown",
   "id": "1928cda4",
   "metadata": {},
   "source": [
    "### 4.1 Средние пользовательские рейтинги платформ Xbox One и PC одинаковые"
   ]
  },
  {
   "cell_type": "code",
   "execution_count": 64,
   "id": "69e00542",
   "metadata": {},
   "outputs": [
    {
     "name": "stdout",
     "output_type": "stream",
     "text": [
      "Размер выборки по pc = 155\n",
      "Размер выборки по xone = 182\n",
      "Гистограммы столбца user_score:\n"
     ]
    },
    {
     "data": {
      "image/png": "[encoded data removed]",
      "text/plain": [
       "<Figure size 432x288 with 1 Axes>"
      ]
     },
     "metadata": {
      "needs_background": "light"
     },
     "output_type": "display_data"
    }
   ],
   "source": [
    "pc_user_score_count = actual_data.query('platform == \"pc\" and user_score >= 0')['user_score'].count()\n",
    "print(f'Размер выборки по pc = {pc_user_score_count}')\n",
    "xone_user_score_count = actual_data.query('platform == \"xone\" and user_score >= 0')['user_score'].count()\n",
    "print(f'Размер выборки по xone = {xone_user_score_count}')\n",
    "print(f'Гистограммы столбца user_score:')\n",
    "hist = actual_data.query('platform == \"pc\" and user_score >= 0')['user_score'].hist(bins=10, alpha=0.5)\n",
    "actual_data.query('platform == \"xone\" and user_score >= 0')['user_score'].hist(bins=10, alpha=0.5)\n",
    "hist.set_xlabel(\"user_score\")\n",
    "hist.set_ylabel(\"user_score_count\")\n",
    "plt.legend(['pc', 'xone'])\n",
    "plt.show()"
   ]
  },
  {
   "cell_type": "markdown",
   "id": "f60f24bc",
   "metadata": {},
   "source": [
    "В качестве нулевой гипотезы принимается равенство двух показателей, поэтому проверяем, равна ли средние пользовательских оценок у двух платформ между собой. Альтернативная гипотеза звучит как \"неравна\", поскольку нам не важно, строго меньше или строго больше одно среднее относительно другого.\n",
    "Для проверки гипотез использовали критерий о равенстве средних двух генеральных совокупностей, поскольку считаем что мы обладаем случайной выборкой из генеральных совокупностей для каждой платформы и выборочные средние распределены нормально.\n",
    "Размеры выборок разные, поэтому применим t-тест для двух генеральных совокупностей с параметром `equal_var = False`"
   ]
  },
  {
   "cell_type": "code",
   "execution_count": 65,
   "id": "60069004",
   "metadata": {},
   "outputs": [
    {
     "name": "stdout",
     "output_type": "stream",
     "text": [
      "p-значение: 0.1475959401343053\n",
      "Не получилось отвергнуть нулевую гипотезу\n"
     ]
    }
   ],
   "source": [
    "alpha = 0.05\n",
    "score_results = st.ttest_ind(\n",
    "    actual_data.query('platform == \"pc\" and user_score >= 0')['user_score'], \n",
    "    actual_data.query('platform == \"xone\" and user_score >= 0')['user_score'],\n",
    "    equal_var = False) \n",
    "\n",
    "print('p-значение:', score_results.pvalue) \n",
    "\n",
    "if (score_results.pvalue < alpha):\n",
    "    print(\"Отвергаем нулевую гипотезу\")\n",
    "else:\n",
    "    print(\"Не получилось отвергнуть нулевую гипотезу\")"
   ]
  },
  {
   "cell_type": "markdown",
   "id": "cd476c57",
   "metadata": {},
   "source": [
    "**Вывод**\n",
    "\n",
    "Средние пользовательские рейтинги платформ Xbox One и PC одинаковые. Нулевая гипотеза подтверждена."
   ]
  },
  {
   "cell_type": "markdown",
   "id": "4574aae5",
   "metadata": {},
   "source": [
    "### 4.2 Средние пользовательские рейтинги жанров Action и Sports разные"
   ]
  },
  {
   "cell_type": "code",
   "execution_count": 67,
   "id": "adeebe4d",
   "metadata": {},
   "outputs": [
    {
     "name": "stdout",
     "output_type": "stream",
     "text": [
      "Размер выборки по action = 389\n",
      "Размер выборки по sports = 160\n",
      "Гистограммы столбца user_score:\n"
     ]
    },
    {
     "data": {
      "image/png": "[encoded data removed]",
      "text/plain": [
       "<Figure size 432x288 with 1 Axes>"
      ]
     },
     "metadata": {
      "needs_background": "light"
     },
     "output_type": "display_data"
    }
   ],
   "source": [
    "action_user_score_count = actual_data.query('genre == \"action\" and user_score >= 0')['user_score'].count()\n",
    "print(f'Размер выборки по action = {action_user_score_count}')\n",
    "sports_user_score_count = actual_data.query('genre == \"sports\" and user_score >= 0')['user_score'].count()\n",
    "print(f'Размер выборки по sports = {sports_user_score_count}')\n",
    "print(f'Гистограммы столбца user_score:')\n",
    "hist = actual_data.query('genre == \"action\" and user_score >= 0')['user_score'].hist(bins=10, alpha=0.5)\n",
    "actual_data.query('genre == \"sports\" and user_score >= 0')['user_score'].hist(bins=10, alpha=0.5)\n",
    "hist.set_xlabel(\"user_score\")\n",
    "hist.set_ylabel(\"user_score_count\")\n",
    "plt.legend(['action', 'sports'])\n",
    "plt.show()"
   ]
  },
  {
   "cell_type": "markdown",
   "id": "73a664b9",
   "metadata": {},
   "source": [
    "В качестве нулевой гипотезы принимается равенство двух показателей, поэтому проверяем, равна ли средние пользовательских оценок у двух жанров между собой. Альтернативная гипотеза звучит как \"неравна\", поскольку нам не важно, строго меньше или строго больше одно среднее относительно другого.\n",
    "Для проверки гипотез использовали критерий о равенстве средних двух генеральных совокупностей, поскольку считаем что мы обладаем случайной выборкой из генеральных совокупностей для каждого жанра и выборочные средние распределены нормально.\n",
    "Размеры выборок разные, поэтому применим t-тест для двух генеральных совокупностей с параметром `equal_var = False`"
   ]
  },
  {
   "cell_type": "code",
   "execution_count": 68,
   "id": "add4460d",
   "metadata": {},
   "outputs": [
    {
     "name": "stdout",
     "output_type": "stream",
     "text": [
      "p-значение: 1.4460039700704734e-20\n",
      "Отвергаем нулевую гипотезу\n"
     ]
    }
   ],
   "source": [
    "alpha = 0.05\n",
    "score_results = st.ttest_ind(\n",
    "    actual_data.query('genre == \"action\" and user_score >= 0')['user_score'], \n",
    "    actual_data.query('genre == \"sports\" and user_score >= 0')['user_score'],\n",
    "    equal_var = False) \n",
    "\n",
    "print('p-значение:', score_results.pvalue) \n",
    "\n",
    "if (score_results.pvalue < alpha):\n",
    "    print(\"Отвергаем нулевую гипотезу\")\n",
    "else:\n",
    "    print(\"Не получилось отвергнуть нулевую гипотезу\")"
   ]
  },
  {
   "cell_type": "markdown",
   "id": "789b738a",
   "metadata": {},
   "source": [
    "**Вывод**\n",
    "\n",
    "Средние пользовательские рейтинги жанров экшн и спорт разные. Нулевая гипотеза отвергнута."
   ]
  },
  {
   "cell_type": "markdown",
   "id": "fa634af7",
   "metadata": {},
   "source": [
    "### 5 Вывод"
   ]
  },
  {
   "cell_type": "markdown",
   "id": "6a450907",
   "metadata": {},
   "source": [
    "1. Предобработка данных\n",
    "- Привели к нижнему регистру названия столбцов.\n",
    "- Все столбцы били исследованы на аномалии. \n",
    "- В столбце `user_score` обнаружено аномальное значение  `tbd` - аббревиатура от 'to be determined'- будет определено, то есть один из вариантов обозначения пропуска, эти значения были заменены на Nan.\n",
    "- В `rating` присутствует неявный дубликат: 'E' (\"Everyone\", 1998-н.в.) и 'K-A' (\"Kids to Adults\", 1994-1997 гг.)- обозначение возрастной категории 6+, устаревшее значение было заменено.\n",
    "- Были удалены строки, в которых отсутствовало название игры.\n",
    "- Были удалены строки, в которых отсутствовал год релиза `year_of_release`.\n",
    "- Столбец `user_score` привели в тип `float64`, затем все значения умножили на 10, чтобы оценки пользователей и экспертов были в одном числоыом диапозоне. \n",
    "- Для заплолнения пропусков выдвенем гипотезу: средняя оценка критиков равна средней оценке пользователей. Если гипотеза верна, гипотеза не подтвердтлась, поэтому пропуски заполнили характерным значением: `-1`.\n",
    "- В столбце `rating` пропуски заполнили характерным значением: `other`.\n",
    "- Изменены типы данных у столбцов `year_of_release`, `critic_score`, `user_score`, `jp_sales`, `other_sales`.\n",
    "- Дубликаты в таблице не найдены, все значения уникальны.\n",
    "- Добавили в таблицу столбец `total_sales` со значениями общих продаж.\n",
    "\n",
    "2. Исследовательский анализ данных\n",
    "- Продажи по годам. Построили график продаж от года. Из графика видно, что данные до 1996 года не очень важны, поскольку до этого ежегодные продажи оставались примерно на одном низком уровне, а с 1996 года, в связи с развитием технологий, произошел скачок ежегодных продаж.\n",
    "\n",
    "- Вывели топ-6 платформ: ps2, x360, ps3, wii, ds, ps\n",
    "\n",
    "- Продажи на всех платформах падают\n",
    "\n",
    "- Корреляция между оценками критиков и продажами положительная и более ярко выражена, в то время как корреляция между оценками пользователей и продажами в разы ниже. Это значит, что продажи прямопропорциональны оценкам критиков, но о сильном влиянии на продажи оценок пользователей говорить нельзя. \n",
    "\n",
    "- у xone и pc показатели схожие. Зачастую продажи коррелируют с оценками критиков и не коррелируют с оценками игроков, но изредка могут встретиться исключения. В целом можно резюмировать, что оценки критиков значительно важнее для объема продаж, чем оценки игроков.\n",
    "\n",
    "- Самые устойчиво прибыльные жанры- шутер, платформер и спорт, а наименее прибыльные- симуляторы, приключения и пазлы. Разница в продажах крайне велика, поэтому на жанр необходимо обращать особое внимание. Жанр экшн имеет очень большое количество существенных выбросов.\n",
    "\n",
    "- Основная доля в Америке- полноразмерные мощные домашние консоли. При этом в америке японская ps4 несильно впереди американской xone, поскольку это их отечественная платформа и она пользуется там большой популярностью. Также популярна 3ds ввиду своей портативности. А вот ПК для игр используется относительно нечасто. Видимо американцы предпочитают играть за большими телевизорами лежа на удобном диване с беспроводными геймпадами.\n",
    "\n",
    "- В европе также самая популярная платформа ps4, но уже с большим отрывом, из-за того, что популярность американской консоли xone в европе не так велика, и  частично эта ниша заполнилась ps4. Продажи на xone все еще ниже, чем у консоли ps3 предыдущего поколения. 3ds также популярна в качестве портативной платформы, но все еще на 5м месте.\n",
    "\n",
    "- В японии картина топа платформ радикально меняется: из-за трудоголичного менталитета и бешенного ритма жизни, японцам некогда расслабляться дома, они играют находу- в портативные платформы, поэтому с огромным отрывом лидирует 3ds, а psv, ранее даже не входившая в топ-5 платформ по региону, в Японии на втором месте в топе. Из домашних консолей они также предпочитают отечественные варианты: ps и wiiu. На ПК японцы в основном работают, а не играют.\n",
    "\n",
    "- Самые популярные жанры в Америке: экшн, шутер, РПГ, спорт- наиболее распространенные для наиболее популярных в Северной Америке платформ.\n",
    "\n",
    "- Вследствие отсутсвия радикальной смены баланса полноразмерные консоли-ПК-портативные консоли, в Европе ассортимент популярнейших жанров практически идентичен.\n",
    "\n",
    "- Из-за смены формата популярнейших платформ, в Японии поменялся и топ жанров- на портативных устройствах совсем неудобно играть в шутер или спортивные симуляторы, а вот РПГ и экшн- куда более распространенные жанры. Также видим первое появление в топе жанра fighting.\n",
    "\n",
    "- Из-за популярности \"стрелялок\" возрастной порог игр достаточно велик: от 17 лет. При этом 80% игр ориентырованы на Северную Америку и Канаду. Это касается как Америки, так и Европы. В Японии игры с рейтингом от ESRB занимают меньше 40% рынка, что говорит о доминировании игр собственного производства.\n",
    "\n",
    "- Наилучшие показатели у игр для стационарных флагманских консолей жанра шутер с рейтингом 17+. Это касается Америки и Европы. В Японии следует делать основной акцент на играх для портативных консолей жанра РПГ.\n",
    "\n",
    "- Средние пользовательские рейтинги платформ Xbox One и PC одинаковые.\n",
    "\n",
    "- Средние пользовательские рейтинги жанров экшн и спорт разные."
   ]
  }
 ],
 "metadata": {
  "ExecuteTimeLog": [
   {
    "duration": 1515,
    "start_time": "2022-04-22T22:15:28.937Z"
   },
   {
    "duration": 151,
    "start_time": "2022-04-22T22:15:30.455Z"
   },
   {
    "duration": 4,
    "start_time": "2022-04-22T22:15:30.608Z"
   },
   {
    "duration": 48,
    "start_time": "2022-04-22T22:15:30.614Z"
   },
   {
    "duration": 32,
    "start_time": "2022-04-22T22:15:30.665Z"
   },
   {
    "duration": 120,
    "start_time": "2022-04-22T22:15:30.699Z"
   },
   {
    "duration": 24,
    "start_time": "2022-04-22T22:15:30.821Z"
   },
   {
    "duration": 30,
    "start_time": "2022-04-22T22:15:30.848Z"
   },
   {
    "duration": 14,
    "start_time": "2022-04-22T22:15:30.881Z"
   },
   {
    "duration": 14,
    "start_time": "2022-04-22T22:15:30.897Z"
   },
   {
    "duration": 21,
    "start_time": "2022-04-22T22:15:30.913Z"
   },
   {
    "duration": 19,
    "start_time": "2022-04-22T22:15:30.936Z"
   },
   {
    "duration": 10,
    "start_time": "2022-04-22T22:15:30.957Z"
   },
   {
    "duration": 23,
    "start_time": "2022-04-22T22:15:30.971Z"
   },
   {
    "duration": 12,
    "start_time": "2022-04-22T22:15:30.996Z"
   },
   {
    "duration": 28,
    "start_time": "2022-04-22T22:15:31.010Z"
   },
   {
    "duration": 46,
    "start_time": "2022-04-22T22:15:31.041Z"
   },
   {
    "duration": 6,
    "start_time": "2022-04-22T22:15:31.089Z"
   },
   {
    "duration": 21,
    "start_time": "2022-04-22T22:15:31.097Z"
   },
   {
    "duration": 32,
    "start_time": "2022-04-22T22:15:31.120Z"
   },
   {
    "duration": 36,
    "start_time": "2022-04-22T22:15:31.154Z"
   },
   {
    "duration": 29,
    "start_time": "2022-04-22T22:15:31.192Z"
   },
   {
    "duration": 60,
    "start_time": "2022-04-22T22:15:31.223Z"
   },
   {
    "duration": 90,
    "start_time": "2022-04-22T22:15:31.285Z"
   },
   {
    "duration": 67,
    "start_time": "2022-04-22T22:15:31.377Z"
   },
   {
    "duration": 63,
    "start_time": "2022-04-22T22:15:31.446Z"
   },
   {
    "duration": 18,
    "start_time": "2022-04-22T22:15:31.511Z"
   },
   {
    "duration": 16216,
    "start_time": "2022-04-22T22:15:31.531Z"
   },
   {
    "duration": 11786,
    "start_time": "2022-04-22T22:15:47.749Z"
   },
   {
    "duration": 38,
    "start_time": "2022-04-22T22:15:59.537Z"
   },
   {
    "duration": 37,
    "start_time": "2022-04-22T22:15:59.577Z"
   },
   {
    "duration": 99,
    "start_time": "2022-04-22T22:15:59.616Z"
   },
   {
    "duration": 28,
    "start_time": "2022-04-22T22:15:59.718Z"
   },
   {
    "duration": 379,
    "start_time": "2022-04-22T22:15:59.748Z"
   },
   {
    "duration": 24,
    "start_time": "2022-04-22T22:16:00.130Z"
   },
   {
    "duration": 1364,
    "start_time": "2022-04-22T22:16:00.156Z"
   },
   {
    "duration": 26,
    "start_time": "2022-04-22T22:16:01.522Z"
   },
   {
    "duration": 61,
    "start_time": "2022-04-22T22:16:01.550Z"
   },
   {
    "duration": 1379,
    "start_time": "2022-04-22T22:16:01.614Z"
   },
   {
    "duration": 48,
    "start_time": "2022-04-22T22:16:02.995Z"
   },
   {
    "duration": 226,
    "start_time": "2022-04-22T22:16:03.051Z"
   },
   {
    "duration": 38,
    "start_time": "2022-04-22T22:16:03.280Z"
   },
   {
    "duration": 572,
    "start_time": "2022-04-22T22:16:03.321Z"
   },
   {
    "duration": 455,
    "start_time": "2022-04-22T22:16:03.895Z"
   },
   {
    "duration": 450,
    "start_time": "2022-04-22T22:16:04.352Z"
   },
   {
    "duration": 513,
    "start_time": "2022-04-22T22:16:04.805Z"
   },
   {
    "duration": 460,
    "start_time": "2022-04-22T22:16:05.320Z"
   },
   {
    "duration": 257,
    "start_time": "2022-04-22T22:16:05.782Z"
   },
   {
    "duration": 69,
    "start_time": "2022-04-22T22:16:06.041Z"
   },
   {
    "duration": 17,
    "start_time": "2022-04-22T22:16:06.113Z"
   },
   {
    "duration": 23,
    "start_time": "2022-04-22T22:16:06.132Z"
   },
   {
    "duration": 270,
    "start_time": "2022-04-22T22:16:06.157Z"
   },
   {
    "duration": 18,
    "start_time": "2022-04-22T22:16:06.430Z"
   },
   {
    "duration": 46,
    "start_time": "2022-04-22T22:16:06.450Z"
   },
   {
    "duration": 253,
    "start_time": "2022-04-22T22:16:06.499Z"
   },
   {
    "duration": 15,
    "start_time": "2022-04-22T22:16:06.754Z"
   },
   {
    "duration": 29,
    "start_time": "2022-04-22T22:16:06.771Z"
   },
   {
    "duration": 243,
    "start_time": "2022-04-22T22:16:06.802Z"
   },
   {
    "duration": 284,
    "start_time": "2022-04-22T22:16:07.047Z"
   },
   {
    "duration": 18,
    "start_time": "2022-04-22T22:16:07.334Z"
   },
   {
    "duration": 284,
    "start_time": "2022-04-22T22:16:07.356Z"
   },
   {
    "duration": 16,
    "start_time": "2022-04-22T22:16:07.643Z"
   },
   {
    "duration": 32,
    "start_time": "2022-04-22T22:46:47.012Z"
   },
   {
    "duration": 6,
    "start_time": "2022-04-22T22:47:06.738Z"
   },
   {
    "duration": 7,
    "start_time": "2022-04-22T22:48:16.657Z"
   }
  ],
  "kernelspec": {
   "display_name": "Python 3 (ipykernel)",
   "language": "python",
   "name": "python3"
  },
  "language_info": {
   "codemirror_mode": {
    "name": "ipython",
    "version": 3
   },
   "file_extension": ".py",
   "mimetype": "text/x-python",
   "name": "python",
   "nbconvert_exporter": "python",
   "pygments_lexer": "ipython3",
   "version": "3.9.7"
  },
  "toc": {
   "base_numbering": 1,
   "nav_menu": {},
   "number_sections": true,
   "sideBar": true,
   "skip_h1_title": true,
   "title_cell": "Table of Contents",
   "title_sidebar": "Contents",
   "toc_cell": false,
   "toc_position": {},
   "toc_section_display": true,
   "toc_window_display": true
  }
 },
 "nbformat": 4,
 "nbformat_minor": 5
}
